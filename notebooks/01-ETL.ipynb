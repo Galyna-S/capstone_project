{
 "cells": [
  {
   "cell_type": "markdown",
   "metadata": {},
   "source": [
    "## Step 1. Install dependencies and ETL process "
   ]
  },
  {
   "cell_type": "markdown",
   "metadata": {},
   "source": [
    "### Download data"
   ]
  },
  {
   "cell_type": "code",
   "execution_count": 1,
   "metadata": {},
   "outputs": [
    {
     "name": "stderr",
     "output_type": "stream",
     "text": [
      "/Users/Gala/repo/capstone_project/.venv/lib/python3.9/site-packages/urllib3/__init__.py:35: NotOpenSSLWarning: urllib3 v2 only supports OpenSSL 1.1.1+, currently the 'ssl' module is compiled with 'LibreSSL 2.8.3'. See: https://github.com/urllib3/urllib3/issues/3020\n",
      "  warnings.warn(\n",
      "/Users/Gala/repo/capstone_project/.venv/lib/python3.9/site-packages/tqdm/auto.py:21: TqdmWarning: IProgress not found. Please update jupyter and ipywidgets. See https://ipywidgets.readthedocs.io/en/stable/user_install.html\n",
      "  from .autonotebook import tqdm as notebook_tqdm\n"
     ]
    },
    {
     "name": "stdout",
     "output_type": "stream",
     "text": [
      "Path to dataset files: /Users/Gala/.cache/kagglehub/datasets/mlippo/average-global-iq-per-country-with-other-stats/versions/3\n",
      "Path to dataset files: /Users/Gala/.cache/kagglehub/datasets/mexwell/global-iq-1950-2050/versions/1\n"
     ]
    }
   ],
   "source": [
    "import kagglehub\n",
    "\n",
    "# Download latest version\n",
    "path = kagglehub.dataset_download(\"mlippo/average-global-iq-per-country-with-other-stats\")\n",
    "\n",
    "print(\"Path to dataset files:\", path)\n",
    "\n",
    "# Dowload additional dataset\n",
    "\n",
    "path2 = kagglehub.dataset_download(\"mexwell/global-iq-1950-2050\")\n",
    "\n",
    "print(\"Path to dataset files:\", path2)"
   ]
  },
  {
   "cell_type": "markdown",
   "metadata": {},
   "source": [
    "Create path to main file"
   ]
  },
  {
   "cell_type": "code",
   "execution_count": 2,
   "metadata": {},
   "outputs": [
    {
     "name": "stdout",
     "output_type": "stream",
     "text": [
      "<class 'pandas.core.frame.DataFrame'>\n",
      "RangeIndex: 193 entries, 0 to 192\n",
      "Data columns (total 10 columns):\n",
      " #   Column                          Non-Null Count  Dtype  \n",
      "---  ------                          --------------  -----  \n",
      " 0   Rank                            193 non-null    int64  \n",
      " 1   Country                         193 non-null    object \n",
      " 2   Average IQ                      193 non-null    float64\n",
      " 3   Continent                       193 non-null    object \n",
      " 4   Literacy Rate                   193 non-null    float64\n",
      " 5   Nobel Prices                    193 non-null    int64  \n",
      " 6   HDI (2021)                      179 non-null    float64\n",
      " 7   Mean years of schooling - 2021  179 non-null    float64\n",
      " 8    GNI - 2021                     179 non-null    float64\n",
      " 9   Population - 2023               193 non-null    object \n",
      "dtypes: float64(5), int64(2), object(3)\n",
      "memory usage: 15.2+ KB\n"
     ]
    },
    {
     "data": {
      "text/html": [
       "<div>\n",
       "<style scoped>\n",
       "    .dataframe tbody tr th:only-of-type {\n",
       "        vertical-align: middle;\n",
       "    }\n",
       "\n",
       "    .dataframe tbody tr th {\n",
       "        vertical-align: top;\n",
       "    }\n",
       "\n",
       "    .dataframe thead th {\n",
       "        text-align: right;\n",
       "    }\n",
       "</style>\n",
       "<table border=\"1\" class=\"dataframe\">\n",
       "  <thead>\n",
       "    <tr style=\"text-align: right;\">\n",
       "      <th></th>\n",
       "      <th>Rank</th>\n",
       "      <th>Country</th>\n",
       "      <th>Average IQ</th>\n",
       "      <th>Continent</th>\n",
       "      <th>Literacy Rate</th>\n",
       "      <th>Nobel Prices</th>\n",
       "      <th>HDI (2021)</th>\n",
       "      <th>Mean years of schooling - 2021</th>\n",
       "      <th>GNI - 2021</th>\n",
       "      <th>Population - 2023</th>\n",
       "    </tr>\n",
       "  </thead>\n",
       "  <tbody>\n",
       "    <tr>\n",
       "      <th>0</th>\n",
       "      <td>1</td>\n",
       "      <td>Japan</td>\n",
       "      <td>106.48</td>\n",
       "      <td>Asia</td>\n",
       "      <td>0.99</td>\n",
       "      <td>29</td>\n",
       "      <td>0.925</td>\n",
       "      <td>13.4</td>\n",
       "      <td>42274.0</td>\n",
       "      <td>123294513</td>\n",
       "    </tr>\n",
       "    <tr>\n",
       "      <th>1</th>\n",
       "      <td>2</td>\n",
       "      <td>Taiwan</td>\n",
       "      <td>106.47</td>\n",
       "      <td>Asia</td>\n",
       "      <td>0.96</td>\n",
       "      <td>4</td>\n",
       "      <td>NaN</td>\n",
       "      <td>NaN</td>\n",
       "      <td>NaN</td>\n",
       "      <td>10143543</td>\n",
       "    </tr>\n",
       "    <tr>\n",
       "      <th>2</th>\n",
       "      <td>3</td>\n",
       "      <td>Singapore</td>\n",
       "      <td>105.89</td>\n",
       "      <td>Asia</td>\n",
       "      <td>0.97</td>\n",
       "      <td>0</td>\n",
       "      <td>0.939</td>\n",
       "      <td>11.9</td>\n",
       "      <td>90919.0</td>\n",
       "      <td>6014723</td>\n",
       "    </tr>\n",
       "    <tr>\n",
       "      <th>3</th>\n",
       "      <td>4</td>\n",
       "      <td>Hong Kong</td>\n",
       "      <td>105.37</td>\n",
       "      <td>Asia</td>\n",
       "      <td>0.94</td>\n",
       "      <td>1</td>\n",
       "      <td>0.952</td>\n",
       "      <td>12.2</td>\n",
       "      <td>62607.0</td>\n",
       "      <td>7491609</td>\n",
       "    </tr>\n",
       "    <tr>\n",
       "      <th>4</th>\n",
       "      <td>5</td>\n",
       "      <td>China</td>\n",
       "      <td>104.10</td>\n",
       "      <td>Asia</td>\n",
       "      <td>0.96</td>\n",
       "      <td>8</td>\n",
       "      <td>0.768</td>\n",
       "      <td>7.6</td>\n",
       "      <td>17504.0</td>\n",
       "      <td>1425671352</td>\n",
       "    </tr>\n",
       "  </tbody>\n",
       "</table>\n",
       "</div>"
      ],
      "text/plain": [
       "   Rank    Country  Average IQ Continent  Literacy Rate  Nobel Prices  \\\n",
       "0     1      Japan      106.48      Asia           0.99            29   \n",
       "1     2     Taiwan      106.47      Asia           0.96             4   \n",
       "2     3  Singapore      105.89      Asia           0.97             0   \n",
       "3     4  Hong Kong      105.37      Asia           0.94             1   \n",
       "4     5      China      104.10      Asia           0.96             8   \n",
       "\n",
       "   HDI (2021)  Mean years of schooling - 2021   GNI - 2021 Population - 2023  \n",
       "0       0.925                            13.4      42274.0         123294513  \n",
       "1         NaN                             NaN          NaN          10143543  \n",
       "2       0.939                            11.9      90919.0           6014723  \n",
       "3       0.952                            12.2      62607.0           7491609  \n",
       "4       0.768                             7.6      17504.0        1425671352  "
      ]
     },
     "execution_count": 2,
     "metadata": {},
     "output_type": "execute_result"
    }
   ],
   "source": [
    "import os\n",
    "import pandas as pd\n",
    "\n",
    "# Create path to file \n",
    "csv_file_path = os.path.join(path, \"avgIQpercountry.csv\")\n",
    "\n",
    "# Read data\n",
    "df = pd.read_csv(csv_file_path)\n",
    "\n",
    "# Print information about data\n",
    "df.info()\n",
    "df.head()\n"
   ]
  },
  {
   "cell_type": "markdown",
   "metadata": {},
   "source": [
    "Import packages"
   ]
  },
  {
   "cell_type": "code",
   "execution_count": 3,
   "metadata": {},
   "outputs": [
    {
     "name": "stdout",
     "output_type": "stream",
     "text": [
      "Rank                               0\n",
      "Country                            0\n",
      "Average IQ                         0\n",
      "Continent                          0\n",
      "Literacy Rate                      0\n",
      "Nobel Prices                       0\n",
      "HDI (2021)                        14\n",
      "Mean years of schooling - 2021    14\n",
      " GNI - 2021                       14\n",
      "Population - 2023                  0\n",
      "dtype: int64\n"
     ]
    }
   ],
   "source": [
    "import numpy as np\n",
    "import matplotlib.pyplot as plt\n",
    "import seaborn as sns\n",
    "\n",
    "import plotly.graph_objs as go\n",
    "import plotly.offline as pyo\n",
    "import plotly.express as px\n",
    "import plotly.io as pio\n",
    "import geopandas as gpd\n",
    "\n",
    "from sklearn.model_selection import train_test_split\n",
    "from sklearn.metrics import mean_squared_error\n",
    "from sklearn.preprocessing import StandardScaler\n",
    "from sklearn.decomposition import PCA\n",
    "from sklearn.linear_model import LinearRegression, Ridge, Lasso\n",
    "from sklearn.tree import DecisionTreeRegressor\n",
    "from sklearn.ensemble import RandomForestRegressor\n",
    "from sklearn.metrics import r2_score\n",
    "from sklearn.model_selection import cross_val_score\n",
    "from sklearn.metrics import mean_squared_error\n",
    "from scipy.stats import pearsonr\n",
    "\n",
    "import warnings\n",
    "warnings.filterwarnings(\"ignore\")\n",
    "\n",
    "# Check missing data\n",
    "print(df.isnull().sum())\n",
    "\n",
    "#Check duplicates\n",
    "df.duplicated().sum()\n",
    "\n",
    "#Strip spacecs from column names\n",
    "df.columns = df.columns.str.strip()\n",
    "\n",
    "# Rename columns\n",
    "df.rename(columns={'Nobel Prices': 'Nobel Prizes'}, inplace=True)"
   ]
  },
  {
   "cell_type": "markdown",
   "metadata": {},
   "source": [
    "Rename columns"
   ]
  },
  {
   "cell_type": "code",
   "execution_count": 4,
   "metadata": {},
   "outputs": [],
   "source": [
    "AverageIQColName = 'Average IQ'\n",
    "GNI_2021ColName = 'GNI - 2021'\n",
    "HDI_2021ColName = 'HDI (2021)'\n",
    "Literacy_RateColName = 'Literacy Rate'\n",
    "Schooling_2021ColName = 'Mean years of schooling - 2021'\n",
    "Nobel_PrizesColName = 'Nobel Prizes'\n",
    "CountryColName = 'Country'\n",
    "Population_2023ColName = 'Population - 2023'"
   ]
  },
  {
   "cell_type": "markdown",
   "metadata": {},
   "source": [
    "### Data Cleaning and Preprocessing"
   ]
  },
  {
   "cell_type": "code",
   "execution_count": 5,
   "metadata": {},
   "outputs": [],
   "source": [
    "# Filling in the gaps with median values\n",
    "df[HDI_2021ColName].fillna(df[HDI_2021ColName].median(), inplace=True)\n",
    "df[Schooling_2021ColName].fillna(df[Schooling_2021ColName].median(), inplace=True)\n",
    "df[GNI_2021ColName].fillna(df[GNI_2021ColName].median(), inplace=True)\n",
    "\n",
    "# Replace population column to numeric \n",
    "df[Population_2023ColName] = pd.to_numeric(df[Population_2023ColName].replace({',': ''}, regex=True), errors='coerce')\n",
    "df[Population_2023ColName].fillna(0, inplace=True)  # Handle any NaNs after conversion\n",
    "df = df.astype({Population_2023ColName: 'int64'})\n",
    "\n",
    "# Outlier detection and handling\n",
    "for column in [HDI_2021ColName, Schooling_2021ColName, GNI_2021ColName]:\n",
    "    Q1 = df[column].quantile(0.25)\n",
    "    Q3 = df[column].quantile(0.75)\n",
    "    IQR = Q3 - Q1\n",
    "    lower_bound = Q1 - 1.5 * IQR\n",
    "    upper_bound = Q3 + 1.5 * IQR\n",
    "    df = df[(df[column] >= lower_bound) & (df[column] <= upper_bound)]"
   ]
  },
  {
   "cell_type": "code",
   "execution_count": 6,
   "metadata": {},
   "outputs": [
    {
     "name": "stdout",
     "output_type": "stream",
     "text": [
      "Print data\n",
      "    Rank      Country  Average IQ Continent  Literacy Rate  Nobel Prizes  \\\n",
      "0      1        Japan      106.48      Asia           0.99            29   \n",
      "1      2       Taiwan      106.47      Asia           0.96             4   \n",
      "3      4    Hong Kong      105.37      Asia           0.94             1   \n",
      "4      5        China      104.10      Asia           0.96             8   \n",
      "5      6  South Korea      102.35      Asia           0.98             0   \n",
      "6      7      Belarus      101.60    Europe           1.00             2   \n",
      "7      8      Finland      101.20    Europe           1.00             5   \n",
      "9     10      Germany      100.74    Europe           0.99           111   \n",
      "10    11  Netherlands      100.74    Europe           0.99            22   \n",
      "11    12      Estonia      100.72    Europe           1.00             0   \n",
      "\n",
      "    HDI (2021)  Mean years of schooling - 2021  GNI - 2021  Population - 2023  \n",
      "0        0.925                            13.4     42274.0          123294513  \n",
      "1        0.745                             9.4     12672.0           10143543  \n",
      "3        0.952                            12.2     62607.0            7491609  \n",
      "4        0.768                             7.6     17504.0         1425671352  \n",
      "5        0.925                            12.5     44501.0           51784059  \n",
      "6        0.808                            12.1     18849.0            9498238  \n",
      "7        0.940                            12.9     49452.0            5545475  \n",
      "9        0.942                            14.1     54534.0           83294633  \n",
      "10       0.941                            12.6     55979.0           17618299  \n",
      "11       0.890                            13.5     38048.0            1322766  \n"
     ]
    }
   ],
   "source": [
    "print(\"Print data\")\n",
    "\n",
    "print(df.head(10))"
   ]
  },
  {
   "cell_type": "code",
   "execution_count": 7,
   "metadata": {},
   "outputs": [
    {
     "data": {
      "text/html": [
       "<div>\n",
       "<style scoped>\n",
       "    .dataframe tbody tr th:only-of-type {\n",
       "        vertical-align: middle;\n",
       "    }\n",
       "\n",
       "    .dataframe tbody tr th {\n",
       "        vertical-align: top;\n",
       "    }\n",
       "\n",
       "    .dataframe thead th {\n",
       "        text-align: right;\n",
       "    }\n",
       "</style>\n",
       "<table border=\"1\" class=\"dataframe\">\n",
       "  <thead>\n",
       "    <tr style=\"text-align: right;\">\n",
       "      <th></th>\n",
       "      <th>Rank</th>\n",
       "      <th>Average IQ</th>\n",
       "      <th>Literacy Rate</th>\n",
       "      <th>Nobel Prizes</th>\n",
       "      <th>HDI (2021)</th>\n",
       "      <th>Mean years of schooling - 2021</th>\n",
       "      <th>GNI - 2021</th>\n",
       "      <th>Population - 2023</th>\n",
       "    </tr>\n",
       "  </thead>\n",
       "  <tbody>\n",
       "    <tr>\n",
       "      <th>count</th>\n",
       "      <td>187.00</td>\n",
       "      <td>187.00</td>\n",
       "      <td>187.00</td>\n",
       "      <td>187.00</td>\n",
       "      <td>187.00</td>\n",
       "      <td>187.00</td>\n",
       "      <td>187.00</td>\n",
       "      <td>1.870000e+02</td>\n",
       "    </tr>\n",
       "    <tr>\n",
       "      <th>mean</th>\n",
       "      <td>99.08</td>\n",
       "      <td>81.57</td>\n",
       "      <td>0.86</td>\n",
       "      <td>5.90</td>\n",
       "      <td>0.72</td>\n",
       "      <td>8.96</td>\n",
       "      <td>17914.90</td>\n",
       "      <td>4.270397e+07</td>\n",
       "    </tr>\n",
       "    <tr>\n",
       "      <th>std</th>\n",
       "      <td>55.11</td>\n",
       "      <td>13.20</td>\n",
       "      <td>0.18</td>\n",
       "      <td>32.43</td>\n",
       "      <td>0.14</td>\n",
       "      <td>3.06</td>\n",
       "      <td>16770.24</td>\n",
       "      <td>1.526244e+08</td>\n",
       "    </tr>\n",
       "    <tr>\n",
       "      <th>min</th>\n",
       "      <td>1.00</td>\n",
       "      <td>42.99</td>\n",
       "      <td>0.19</td>\n",
       "      <td>0.00</td>\n",
       "      <td>0.38</td>\n",
       "      <td>2.10</td>\n",
       "      <td>732.00</td>\n",
       "      <td>0.000000e+00</td>\n",
       "    </tr>\n",
       "    <tr>\n",
       "      <th>25%</th>\n",
       "      <td>52.50</td>\n",
       "      <td>73.90</td>\n",
       "      <td>0.79</td>\n",
       "      <td>0.00</td>\n",
       "      <td>0.61</td>\n",
       "      <td>6.70</td>\n",
       "      <td>4707.00</td>\n",
       "      <td>2.639762e+06</td>\n",
       "    </tr>\n",
       "    <tr>\n",
       "      <th>50%</th>\n",
       "      <td>99.00</td>\n",
       "      <td>82.10</td>\n",
       "      <td>0.95</td>\n",
       "      <td>0.00</td>\n",
       "      <td>0.74</td>\n",
       "      <td>9.40</td>\n",
       "      <td>12672.00</td>\n",
       "      <td>1.014354e+07</td>\n",
       "    </tr>\n",
       "    <tr>\n",
       "      <th>75%</th>\n",
       "      <td>146.50</td>\n",
       "      <td>91.01</td>\n",
       "      <td>0.99</td>\n",
       "      <td>1.00</td>\n",
       "      <td>0.81</td>\n",
       "      <td>11.35</td>\n",
       "      <td>26244.50</td>\n",
       "      <td>3.400967e+07</td>\n",
       "    </tr>\n",
       "    <tr>\n",
       "      <th>max</th>\n",
       "      <td>193.00</td>\n",
       "      <td>106.48</td>\n",
       "      <td>1.00</td>\n",
       "      <td>400.00</td>\n",
       "      <td>0.96</td>\n",
       "      <td>14.10</td>\n",
       "      <td>64765.00</td>\n",
       "      <td>1.428628e+09</td>\n",
       "    </tr>\n",
       "  </tbody>\n",
       "</table>\n",
       "</div>"
      ],
      "text/plain": [
       "         Rank  Average IQ  Literacy Rate  Nobel Prizes  HDI (2021)  \\\n",
       "count  187.00      187.00         187.00        187.00      187.00   \n",
       "mean    99.08       81.57           0.86          5.90        0.72   \n",
       "std     55.11       13.20           0.18         32.43        0.14   \n",
       "min      1.00       42.99           0.19          0.00        0.38   \n",
       "25%     52.50       73.90           0.79          0.00        0.61   \n",
       "50%     99.00       82.10           0.95          0.00        0.74   \n",
       "75%    146.50       91.01           0.99          1.00        0.81   \n",
       "max    193.00      106.48           1.00        400.00        0.96   \n",
       "\n",
       "       Mean years of schooling - 2021  GNI - 2021  Population - 2023  \n",
       "count                          187.00      187.00       1.870000e+02  \n",
       "mean                             8.96    17914.90       4.270397e+07  \n",
       "std                              3.06    16770.24       1.526244e+08  \n",
       "min                              2.10      732.00       0.000000e+00  \n",
       "25%                              6.70     4707.00       2.639762e+06  \n",
       "50%                              9.40    12672.00       1.014354e+07  \n",
       "75%                             11.35    26244.50       3.400967e+07  \n",
       "max                             14.10    64765.00       1.428628e+09  "
      ]
     },
     "execution_count": 7,
     "metadata": {},
     "output_type": "execute_result"
    }
   ],
   "source": [
    "df.describe().round(2)"
   ]
  },
  {
   "cell_type": "code",
   "execution_count": 8,
   "metadata": {},
   "outputs": [
    {
     "data": {
      "text/html": [
       "<style type=\"text/css\">\n",
       "#T_973bc_row0_col1 {\n",
       "  width: 10em;\n",
       "  background: linear-gradient(90deg, green 100.0%, transparent 100.0%);\n",
       "}\n",
       "#T_973bc_row0_col7 {\n",
       "  width: 10em;\n",
       "  background: linear-gradient(90deg, blue 100.0%, transparent 100.0%);\n",
       "}\n",
       "#T_973bc_row1_col1, #T_973bc_row2_col1, #T_973bc_row3_col1, #T_973bc_row4_col1, #T_973bc_row5_col1, #T_973bc_row6_col1, #T_973bc_row7_col1 {\n",
       "  width: 10em;\n",
       "  background: linear-gradient(90deg, green 0.0%, transparent 0.0%);\n",
       "}\n",
       "#T_973bc_row1_col7, #T_973bc_row2_col7, #T_973bc_row3_col7, #T_973bc_row4_col7, #T_973bc_row5_col7, #T_973bc_row6_col7, #T_973bc_row7_col7 {\n",
       "  width: 10em;\n",
       "  background: linear-gradient(90deg, blue 0.0%, transparent 0.0%);\n",
       "}\n",
       "</style>\n",
       "<table id=\"T_973bc\">\n",
       "  <thead>\n",
       "    <tr>\n",
       "      <th class=\"blank level0\" >&nbsp;</th>\n",
       "      <th id=\"T_973bc_level0_col0\" class=\"col_heading level0 col0\" >count</th>\n",
       "      <th id=\"T_973bc_level0_col1\" class=\"col_heading level0 col1\" >mean</th>\n",
       "      <th id=\"T_973bc_level0_col2\" class=\"col_heading level0 col2\" >std</th>\n",
       "      <th id=\"T_973bc_level0_col3\" class=\"col_heading level0 col3\" >min</th>\n",
       "      <th id=\"T_973bc_level0_col4\" class=\"col_heading level0 col4\" >25%</th>\n",
       "      <th id=\"T_973bc_level0_col5\" class=\"col_heading level0 col5\" >50%</th>\n",
       "      <th id=\"T_973bc_level0_col6\" class=\"col_heading level0 col6\" >75%</th>\n",
       "      <th id=\"T_973bc_level0_col7\" class=\"col_heading level0 col7\" >max</th>\n",
       "    </tr>\n",
       "  </thead>\n",
       "  <tbody>\n",
       "    <tr>\n",
       "      <th id=\"T_973bc_level0_row0\" class=\"row_heading level0 row0\" >Population - 2023</th>\n",
       "      <td id=\"T_973bc_row0_col0\" class=\"data row0 col0\" >187.000000</td>\n",
       "      <td id=\"T_973bc_row0_col1\" class=\"data row0 col1\" >42703973.508021</td>\n",
       "      <td id=\"T_973bc_row0_col2\" class=\"data row0 col2\" >152624361.422261</td>\n",
       "      <td id=\"T_973bc_row0_col3\" class=\"data row0 col3\" >0.000000</td>\n",
       "      <td id=\"T_973bc_row0_col4\" class=\"data row0 col4\" >2639762.500000</td>\n",
       "      <td id=\"T_973bc_row0_col5\" class=\"data row0 col5\" >10143543.000000</td>\n",
       "      <td id=\"T_973bc_row0_col6\" class=\"data row0 col6\" >34009669.500000</td>\n",
       "      <td id=\"T_973bc_row0_col7\" class=\"data row0 col7\" >1428627663.000000</td>\n",
       "    </tr>\n",
       "    <tr>\n",
       "      <th id=\"T_973bc_level0_row1\" class=\"row_heading level0 row1\" >GNI - 2021</th>\n",
       "      <td id=\"T_973bc_row1_col0\" class=\"data row1 col0\" >187.000000</td>\n",
       "      <td id=\"T_973bc_row1_col1\" class=\"data row1 col1\" >17914.898396</td>\n",
       "      <td id=\"T_973bc_row1_col2\" class=\"data row1 col2\" >16770.244597</td>\n",
       "      <td id=\"T_973bc_row1_col3\" class=\"data row1 col3\" >732.000000</td>\n",
       "      <td id=\"T_973bc_row1_col4\" class=\"data row1 col4\" >4707.000000</td>\n",
       "      <td id=\"T_973bc_row1_col5\" class=\"data row1 col5\" >12672.000000</td>\n",
       "      <td id=\"T_973bc_row1_col6\" class=\"data row1 col6\" >26244.500000</td>\n",
       "      <td id=\"T_973bc_row1_col7\" class=\"data row1 col7\" >64765.000000</td>\n",
       "    </tr>\n",
       "    <tr>\n",
       "      <th id=\"T_973bc_level0_row2\" class=\"row_heading level0 row2\" >Rank</th>\n",
       "      <td id=\"T_973bc_row2_col0\" class=\"data row2 col0\" >187.000000</td>\n",
       "      <td id=\"T_973bc_row2_col1\" class=\"data row2 col1\" >99.080214</td>\n",
       "      <td id=\"T_973bc_row2_col2\" class=\"data row2 col2\" >55.108193</td>\n",
       "      <td id=\"T_973bc_row2_col3\" class=\"data row2 col3\" >1.000000</td>\n",
       "      <td id=\"T_973bc_row2_col4\" class=\"data row2 col4\" >52.500000</td>\n",
       "      <td id=\"T_973bc_row2_col5\" class=\"data row2 col5\" >99.000000</td>\n",
       "      <td id=\"T_973bc_row2_col6\" class=\"data row2 col6\" >146.500000</td>\n",
       "      <td id=\"T_973bc_row2_col7\" class=\"data row2 col7\" >193.000000</td>\n",
       "    </tr>\n",
       "    <tr>\n",
       "      <th id=\"T_973bc_level0_row3\" class=\"row_heading level0 row3\" >Nobel Prizes</th>\n",
       "      <td id=\"T_973bc_row3_col0\" class=\"data row3 col0\" >187.000000</td>\n",
       "      <td id=\"T_973bc_row3_col1\" class=\"data row3 col1\" >5.898396</td>\n",
       "      <td id=\"T_973bc_row3_col2\" class=\"data row3 col2\" >32.433975</td>\n",
       "      <td id=\"T_973bc_row3_col3\" class=\"data row3 col3\" >0.000000</td>\n",
       "      <td id=\"T_973bc_row3_col4\" class=\"data row3 col4\" >0.000000</td>\n",
       "      <td id=\"T_973bc_row3_col5\" class=\"data row3 col5\" >0.000000</td>\n",
       "      <td id=\"T_973bc_row3_col6\" class=\"data row3 col6\" >1.000000</td>\n",
       "      <td id=\"T_973bc_row3_col7\" class=\"data row3 col7\" >400.000000</td>\n",
       "    </tr>\n",
       "    <tr>\n",
       "      <th id=\"T_973bc_level0_row4\" class=\"row_heading level0 row4\" >Average IQ</th>\n",
       "      <td id=\"T_973bc_row4_col0\" class=\"data row4 col0\" >187.000000</td>\n",
       "      <td id=\"T_973bc_row4_col1\" class=\"data row4 col1\" >81.568289</td>\n",
       "      <td id=\"T_973bc_row4_col2\" class=\"data row4 col2\" >13.195865</td>\n",
       "      <td id=\"T_973bc_row4_col3\" class=\"data row4 col3\" >42.990000</td>\n",
       "      <td id=\"T_973bc_row4_col4\" class=\"data row4 col4\" >73.905000</td>\n",
       "      <td id=\"T_973bc_row4_col5\" class=\"data row4 col5\" >82.100000</td>\n",
       "      <td id=\"T_973bc_row4_col6\" class=\"data row4 col6\" >91.010000</td>\n",
       "      <td id=\"T_973bc_row4_col7\" class=\"data row4 col7\" >106.480000</td>\n",
       "    </tr>\n",
       "    <tr>\n",
       "      <th id=\"T_973bc_level0_row5\" class=\"row_heading level0 row5\" >Mean years of schooling - 2021</th>\n",
       "      <td id=\"T_973bc_row5_col0\" class=\"data row5 col0\" >187.000000</td>\n",
       "      <td id=\"T_973bc_row5_col1\" class=\"data row5 col1\" >8.956150</td>\n",
       "      <td id=\"T_973bc_row5_col2\" class=\"data row5 col2\" >3.060782</td>\n",
       "      <td id=\"T_973bc_row5_col3\" class=\"data row5 col3\" >2.100000</td>\n",
       "      <td id=\"T_973bc_row5_col4\" class=\"data row5 col4\" >6.700000</td>\n",
       "      <td id=\"T_973bc_row5_col5\" class=\"data row5 col5\" >9.400000</td>\n",
       "      <td id=\"T_973bc_row5_col6\" class=\"data row5 col6\" >11.350000</td>\n",
       "      <td id=\"T_973bc_row5_col7\" class=\"data row5 col7\" >14.100000</td>\n",
       "    </tr>\n",
       "    <tr>\n",
       "      <th id=\"T_973bc_level0_row6\" class=\"row_heading level0 row6\" >Literacy Rate</th>\n",
       "      <td id=\"T_973bc_row6_col0\" class=\"data row6 col0\" >187.000000</td>\n",
       "      <td id=\"T_973bc_row6_col1\" class=\"data row6 col1\" >0.860267</td>\n",
       "      <td id=\"T_973bc_row6_col2\" class=\"data row6 col2\" >0.181731</td>\n",
       "      <td id=\"T_973bc_row6_col3\" class=\"data row6 col3\" >0.190000</td>\n",
       "      <td id=\"T_973bc_row6_col4\" class=\"data row6 col4\" >0.790000</td>\n",
       "      <td id=\"T_973bc_row6_col5\" class=\"data row6 col5\" >0.950000</td>\n",
       "      <td id=\"T_973bc_row6_col6\" class=\"data row6 col6\" >0.990000</td>\n",
       "      <td id=\"T_973bc_row6_col7\" class=\"data row6 col7\" >1.000000</td>\n",
       "    </tr>\n",
       "    <tr>\n",
       "      <th id=\"T_973bc_level0_row7\" class=\"row_heading level0 row7\" >HDI (2021)</th>\n",
       "      <td id=\"T_973bc_row7_col0\" class=\"data row7 col0\" >187.000000</td>\n",
       "      <td id=\"T_973bc_row7_col1\" class=\"data row7 col1\" >0.719155</td>\n",
       "      <td id=\"T_973bc_row7_col2\" class=\"data row7 col2\" >0.144798</td>\n",
       "      <td id=\"T_973bc_row7_col3\" class=\"data row7 col3\" >0.385000</td>\n",
       "      <td id=\"T_973bc_row7_col4\" class=\"data row7 col4\" >0.607000</td>\n",
       "      <td id=\"T_973bc_row7_col5\" class=\"data row7 col5\" >0.745000</td>\n",
       "      <td id=\"T_973bc_row7_col6\" class=\"data row7 col6\" >0.814000</td>\n",
       "      <td id=\"T_973bc_row7_col7\" class=\"data row7 col7\" >0.961000</td>\n",
       "    </tr>\n",
       "  </tbody>\n",
       "</table>\n"
      ],
      "text/plain": [
       "<pandas.io.formats.style.Styler at 0x10c66e3d0>"
      ]
     },
     "execution_count": 8,
     "metadata": {},
     "output_type": "execute_result"
    }
   ],
   "source": [
    "df.iloc[:, :].describe().T.sort_values(by='std', ascending=False)\\\n",
    ".style.bar(subset=[\"max\"], color='blue')\\\n",
    ".bar(subset=[\"mean\"], color='green')"
   ]
  },
  {
   "cell_type": "markdown",
   "metadata": {},
   "source": [
    "### Feature engineering"
   ]
  },
  {
   "cell_type": "code",
   "execution_count": 9,
   "metadata": {},
   "outputs": [],
   "source": [
    "# Create new featude \"GDP per capita\"\n",
    "df['GNI per capita'] = df[GNI_2021ColName] / df[Population_2023ColName]\n"
   ]
  },
  {
   "cell_type": "markdown",
   "metadata": {},
   "source": [
    "The feature \"GDP per capita\" is an indicator that measures the economic well-being of a country by dividing the total income by the number of people in the country."
   ]
  },
  {
   "cell_type": "markdown",
   "metadata": {},
   "source": [
    "Create path to additional file"
   ]
  },
  {
   "cell_type": "code",
   "execution_count": 10,
   "metadata": {},
   "outputs": [
    {
     "name": "stdout",
     "output_type": "stream",
     "text": [
      "<class 'pandas.core.frame.DataFrame'>\n",
      "RangeIndex: 183 entries, 0 to 182\n",
      "Data columns (total 3 columns):\n",
      " #   Column      Non-Null Count  Dtype \n",
      "---  ------      --------------  ----- \n",
      " 0   Rank        183 non-null    int64 \n",
      " 1   Country     183 non-null    object\n",
      " 2   Average IQ  183 non-null    int64 \n",
      "dtypes: int64(2), object(1)\n",
      "memory usage: 4.4+ KB\n",
      "Rank          0\n",
      "Country       0\n",
      "Average IQ    0\n",
      "dtype: int64\n"
     ]
    },
    {
     "data": {
      "text/plain": [
       "np.int64(0)"
      ]
     },
     "execution_count": 10,
     "metadata": {},
     "output_type": "execute_result"
    }
   ],
   "source": [
    "df_2002 = pd.read_csv('../data/iq-2002-2.csv', delimiter=\",\")  # Additional dataset\n",
    "df_2002.info()\n",
    "df_2002.head()\n",
    "\n",
    "# Check missing data\n",
    "print(df_2002.isnull().sum())\n",
    "\n",
    "#Check duplicates\n",
    "df_2002.duplicated().sum()\n"
   ]
  },
  {
   "cell_type": "markdown",
   "metadata": {},
   "source": [
    "### Save dataframe"
   ]
  },
  {
   "cell_type": "code",
   "execution_count": 11,
   "metadata": {},
   "outputs": [],
   "source": [
    "# Save DataFrame to a pickle file\n",
    "df.to_pickle('data.pkl')\n",
    "df_2002.to_pickle('data_2002.pkl')"
   ]
  }
 ],
 "metadata": {
  "kernelspec": {
   "display_name": ".venv",
   "language": "python",
   "name": "python3"
  },
  "language_info": {
   "codemirror_mode": {
    "name": "ipython",
    "version": 3
   },
   "file_extension": ".py",
   "mimetype": "text/x-python",
   "name": "python",
   "nbconvert_exporter": "python",
   "pygments_lexer": "ipython3",
   "version": "3.9.6"
  }
 },
 "nbformat": 4,
 "nbformat_minor": 2
}
