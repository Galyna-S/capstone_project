{
 "cells": [
  {
   "cell_type": "markdown",
   "metadata": {},
   "source": [
    "Download dataset from kaggle"
   ]
  },
  {
   "cell_type": "code",
   "execution_count": 1,
   "metadata": {},
   "outputs": [
    {
     "name": "stderr",
     "output_type": "stream",
     "text": [
      "/Users/Gala/repo/capstone_project/.venv/lib/python3.9/site-packages/urllib3/__init__.py:35: NotOpenSSLWarning: urllib3 v2 only supports OpenSSL 1.1.1+, currently the 'ssl' module is compiled with 'LibreSSL 2.8.3'. See: https://github.com/urllib3/urllib3/issues/3020\n",
      "  warnings.warn(\n",
      "/Users/Gala/repo/capstone_project/.venv/lib/python3.9/site-packages/tqdm/auto.py:21: TqdmWarning: IProgress not found. Please update jupyter and ipywidgets. See https://ipywidgets.readthedocs.io/en/stable/user_install.html\n",
      "  from .autonotebook import tqdm as notebook_tqdm\n"
     ]
    },
    {
     "name": "stdout",
     "output_type": "stream",
     "text": [
      "Downloading from https://www.kaggle.com/api/v1/datasets/download/mlippo/average-global-iq-per-country-with-other-stats?dataset_version_number=3...\n"
     ]
    },
    {
     "name": "stderr",
     "output_type": "stream",
     "text": [
      "100%|██████████| 5.83k/5.83k [00:00<00:00, 4.35MB/s]"
     ]
    },
    {
     "name": "stdout",
     "output_type": "stream",
     "text": [
      "Extracting files...\n",
      "Path to dataset files: /Users/Gala/.cache/kagglehub/datasets/mlippo/average-global-iq-per-country-with-other-stats/versions/3\n"
     ]
    },
    {
     "name": "stderr",
     "output_type": "stream",
     "text": [
      "\n"
     ]
    }
   ],
   "source": [
    "import kagglehub\n",
    "\n",
    "# Download latest version\n",
    "path = kagglehub.dataset_download(\"mlippo/average-global-iq-per-country-with-other-stats\")\n",
    "#pathTo1950Dataset = kagglehub.dataset_download(\"mlippo/average-global-iq-per-country-with-other-stats12212121212\")\n",
    "\n",
    "\n",
    "print(\"Path to dataset files:\", path)"
   ]
  },
  {
   "cell_type": "markdown",
   "metadata": {},
   "source": [
    "Create path to file"
   ]
  },
  {
   "cell_type": "code",
   "execution_count": null,
   "metadata": {},
   "outputs": [
    {
     "name": "stdout",
     "output_type": "stream",
     "text": [
      "<class 'pandas.core.frame.DataFrame'>\n",
      "RangeIndex: 193 entries, 0 to 192\n",
      "Data columns (total 10 columns):\n",
      " #   Column                          Non-Null Count  Dtype  \n",
      "---  ------                          --------------  -----  \n",
      " 0   Rank                            193 non-null    int64  \n",
      " 1   Country                         193 non-null    object \n",
      " 2   Average IQ                      193 non-null    float64\n",
      " 3   Continent                       193 non-null    object \n",
      " 4   Literacy Rate                   193 non-null    float64\n",
      " 5   Nobel Prices                    193 non-null    int64  \n",
      " 6   HDI (2021)                      179 non-null    float64\n",
      " 7   Mean years of schooling - 2021  179 non-null    float64\n",
      " 8    GNI - 2021                     179 non-null    float64\n",
      " 9   Population - 2023               193 non-null    object \n",
      "dtypes: float64(5), int64(2), object(3)\n",
      "memory usage: 15.2+ KB\n"
     ]
    },
    {
     "data": {
      "text/html": [
       "<div>\n",
       "<style scoped>\n",
       "    .dataframe tbody tr th:only-of-type {\n",
       "        vertical-align: middle;\n",
       "    }\n",
       "\n",
       "    .dataframe tbody tr th {\n",
       "        vertical-align: top;\n",
       "    }\n",
       "\n",
       "    .dataframe thead th {\n",
       "        text-align: right;\n",
       "    }\n",
       "</style>\n",
       "<table border=\"1\" class=\"dataframe\">\n",
       "  <thead>\n",
       "    <tr style=\"text-align: right;\">\n",
       "      <th></th>\n",
       "      <th>Rank</th>\n",
       "      <th>Country</th>\n",
       "      <th>Average IQ</th>\n",
       "      <th>Continent</th>\n",
       "      <th>Literacy Rate</th>\n",
       "      <th>Nobel Prices</th>\n",
       "      <th>HDI (2021)</th>\n",
       "      <th>Mean years of schooling - 2021</th>\n",
       "      <th>GNI - 2021</th>\n",
       "      <th>Population - 2023</th>\n",
       "    </tr>\n",
       "  </thead>\n",
       "  <tbody>\n",
       "    <tr>\n",
       "      <th>0</th>\n",
       "      <td>1</td>\n",
       "      <td>Japan</td>\n",
       "      <td>106.48</td>\n",
       "      <td>Asia</td>\n",
       "      <td>0.99</td>\n",
       "      <td>29</td>\n",
       "      <td>0.925</td>\n",
       "      <td>13.4</td>\n",
       "      <td>42274.0</td>\n",
       "      <td>123294513</td>\n",
       "    </tr>\n",
       "    <tr>\n",
       "      <th>1</th>\n",
       "      <td>2</td>\n",
       "      <td>Taiwan</td>\n",
       "      <td>106.47</td>\n",
       "      <td>Asia</td>\n",
       "      <td>0.96</td>\n",
       "      <td>4</td>\n",
       "      <td>NaN</td>\n",
       "      <td>NaN</td>\n",
       "      <td>NaN</td>\n",
       "      <td>10143543</td>\n",
       "    </tr>\n",
       "    <tr>\n",
       "      <th>2</th>\n",
       "      <td>3</td>\n",
       "      <td>Singapore</td>\n",
       "      <td>105.89</td>\n",
       "      <td>Asia</td>\n",
       "      <td>0.97</td>\n",
       "      <td>0</td>\n",
       "      <td>0.939</td>\n",
       "      <td>11.9</td>\n",
       "      <td>90919.0</td>\n",
       "      <td>6014723</td>\n",
       "    </tr>\n",
       "    <tr>\n",
       "      <th>3</th>\n",
       "      <td>4</td>\n",
       "      <td>Hong Kong</td>\n",
       "      <td>105.37</td>\n",
       "      <td>Asia</td>\n",
       "      <td>0.94</td>\n",
       "      <td>1</td>\n",
       "      <td>0.952</td>\n",
       "      <td>12.2</td>\n",
       "      <td>62607.0</td>\n",
       "      <td>7491609</td>\n",
       "    </tr>\n",
       "    <tr>\n",
       "      <th>4</th>\n",
       "      <td>5</td>\n",
       "      <td>China</td>\n",
       "      <td>104.10</td>\n",
       "      <td>Asia</td>\n",
       "      <td>0.96</td>\n",
       "      <td>8</td>\n",
       "      <td>0.768</td>\n",
       "      <td>7.6</td>\n",
       "      <td>17504.0</td>\n",
       "      <td>1425671352</td>\n",
       "    </tr>\n",
       "  </tbody>\n",
       "</table>\n",
       "</div>"
      ],
      "text/plain": [
       "   Rank    Country  Average IQ Continent  Literacy Rate  Nobel Prices  \\\n",
       "0     1      Japan      106.48      Asia           0.99            29   \n",
       "1     2     Taiwan      106.47      Asia           0.96             4   \n",
       "2     3  Singapore      105.89      Asia           0.97             0   \n",
       "3     4  Hong Kong      105.37      Asia           0.94             1   \n",
       "4     5      China      104.10      Asia           0.96             8   \n",
       "\n",
       "   HDI (2021)  Mean years of schooling - 2021   GNI - 2021 Population - 2023  \n",
       "0       0.925                            13.4      42274.0         123294513  \n",
       "1         NaN                             NaN          NaN          10143543  \n",
       "2       0.939                            11.9      90919.0           6014723  \n",
       "3       0.952                            12.2      62607.0           7491609  \n",
       "4       0.768                             7.6      17504.0        1425671352  "
      ]
     },
     "execution_count": 3,
     "metadata": {},
     "output_type": "execute_result"
    }
   ],
   "source": [
    "import os\n",
    "import pandas as pd\n",
    "\n",
    "# Create path to file \n",
    "csv_file_path = os.path.join(path, \"avgIQpercountry.csv\")\n",
    "\n",
    "# Read data\n",
    "df = pd.read_csv(csv_file_path)\n",
    "#df1 = pd.read_csv(csv_file_path2)\n",
    "\n",
    "#df = pd.merge(df, df1, how='left', left_on='ISO_A3', right_on='ISO3')\n",
    "\n",
    "\n",
    "# Print information about data\n",
    "df.info()\n",
    "df.head()"
   ]
  },
  {
   "cell_type": "markdown",
   "metadata": {},
   "source": [
    "Cleanup"
   ]
  },
  {
   "cell_type": "code",
   "execution_count": 36,
   "metadata": {},
   "outputs": [
    {
     "name": "stdout",
     "output_type": "stream",
     "text": [
      "Rank                               0\n",
      "Country                            0\n",
      "Average IQ                         0\n",
      "Continent                          0\n",
      "Literacy Rate                      0\n",
      "Nobel Prices                       0\n",
      "HDI (2021)                        14\n",
      "Mean years of schooling - 2021    14\n",
      " GNI - 2021                       14\n",
      "Population - 2023                  0\n",
      "dtype: int64\n",
      "Data cleaned successfully!\n"
     ]
    }
   ],
   "source": [
    "import numpy as np\n",
    "import matplotlib.pyplot as plt\n",
    "import seaborn as sns\n",
    "\n",
    "import plotly.graph_objs as go\n",
    "import plotly.offline as pyo\n",
    "import plotly.express as px\n",
    "import plotly.io as pio\n",
    "import geopandas as gpd\n",
    "\n",
    "from sklearn.model_selection import train_test_split\n",
    "from sklearn.metrics import mean_squared_error\n",
    "from sklearn.preprocessing import StandardScaler\n",
    "from sklearn.decomposition import PCA\n",
    "from sklearn.linear_model import LinearRegression, Ridge, Lasso\n",
    "from sklearn.tree import DecisionTreeRegressor\n",
    "from sklearn.ensemble import RandomForestRegressor\n",
    "from sklearn.metrics import r2_score\n",
    "from sklearn.model_selection import cross_val_score\n",
    "from sklearn.metrics import mean_squared_error\n",
    "from scipy.stats import pearsonr\n",
    "\n",
    "\n",
    "import warnings\n",
    "warnings.filterwarnings(\"ignore\")\n",
    "\n",
    "# Check missing data\n",
    "print(df.isnull().sum())\n",
    "\n",
    "# Filling in the gaps with median values\n",
    "df['HDI (2021)'].fillna(df['HDI (2021)'].median(), inplace=True)\n",
    "df['Mean years of schooling - 2021'].fillna(df['Mean years of schooling - 2021'].median(), inplace=True)\n",
    "df[' GNI - 2021'].fillna(df[' GNI - 2021'].median(), inplace=True)\n",
    "\n",
    "\n",
    "print(\"Data cleaned successfully!\")"
   ]
  },
  {
   "cell_type": "code",
   "execution_count": 16,
   "metadata": {},
   "outputs": [
    {
     "data": {
      "text/html": [
       "<div>\n",
       "<style scoped>\n",
       "    .dataframe tbody tr th:only-of-type {\n",
       "        vertical-align: middle;\n",
       "    }\n",
       "\n",
       "    .dataframe tbody tr th {\n",
       "        vertical-align: top;\n",
       "    }\n",
       "\n",
       "    .dataframe thead th {\n",
       "        text-align: right;\n",
       "    }\n",
       "</style>\n",
       "<table border=\"1\" class=\"dataframe\">\n",
       "  <thead>\n",
       "    <tr style=\"text-align: right;\">\n",
       "      <th></th>\n",
       "      <th>Rank</th>\n",
       "      <th>Average IQ</th>\n",
       "      <th>Literacy Rate</th>\n",
       "      <th>Nobel Prices</th>\n",
       "      <th>HDI (2021)</th>\n",
       "      <th>Mean years of schooling - 2021</th>\n",
       "      <th>GNI - 2021</th>\n",
       "    </tr>\n",
       "  </thead>\n",
       "  <tbody>\n",
       "    <tr>\n",
       "      <th>count</th>\n",
       "      <td>193.00</td>\n",
       "      <td>193.00</td>\n",
       "      <td>193.00</td>\n",
       "      <td>193.00</td>\n",
       "      <td>179.00</td>\n",
       "      <td>179.00</td>\n",
       "      <td>179.00</td>\n",
       "    </tr>\n",
       "    <tr>\n",
       "      <th>mean</th>\n",
       "      <td>97.00</td>\n",
       "      <td>82.05</td>\n",
       "      <td>0.86</td>\n",
       "      <td>5.92</td>\n",
       "      <td>0.72</td>\n",
       "      <td>9.03</td>\n",
       "      <td>20811.80</td>\n",
       "    </tr>\n",
       "    <tr>\n",
       "      <th>std</th>\n",
       "      <td>55.86</td>\n",
       "      <td>13.34</td>\n",
       "      <td>0.18</td>\n",
       "      <td>31.97</td>\n",
       "      <td>0.15</td>\n",
       "      <td>3.19</td>\n",
       "      <td>22160.49</td>\n",
       "    </tr>\n",
       "    <tr>\n",
       "      <th>min</th>\n",
       "      <td>1.00</td>\n",
       "      <td>42.99</td>\n",
       "      <td>0.19</td>\n",
       "      <td>0.00</td>\n",
       "      <td>0.38</td>\n",
       "      <td>2.10</td>\n",
       "      <td>732.00</td>\n",
       "    </tr>\n",
       "    <tr>\n",
       "      <th>25%</th>\n",
       "      <td>49.00</td>\n",
       "      <td>74.33</td>\n",
       "      <td>0.80</td>\n",
       "      <td>0.00</td>\n",
       "      <td>0.60</td>\n",
       "      <td>6.40</td>\n",
       "      <td>4593.00</td>\n",
       "    </tr>\n",
       "    <tr>\n",
       "      <th>50%</th>\n",
       "      <td>97.00</td>\n",
       "      <td>82.24</td>\n",
       "      <td>0.95</td>\n",
       "      <td>0.00</td>\n",
       "      <td>0.74</td>\n",
       "      <td>9.40</td>\n",
       "      <td>12672.00</td>\n",
       "    </tr>\n",
       "    <tr>\n",
       "      <th>75%</th>\n",
       "      <td>145.00</td>\n",
       "      <td>91.60</td>\n",
       "      <td>0.99</td>\n",
       "      <td>1.00</td>\n",
       "      <td>0.84</td>\n",
       "      <td>11.60</td>\n",
       "      <td>30588.00</td>\n",
       "    </tr>\n",
       "    <tr>\n",
       "      <th>max</th>\n",
       "      <td>193.00</td>\n",
       "      <td>106.48</td>\n",
       "      <td>1.00</td>\n",
       "      <td>400.00</td>\n",
       "      <td>0.96</td>\n",
       "      <td>14.10</td>\n",
       "      <td>146830.00</td>\n",
       "    </tr>\n",
       "  </tbody>\n",
       "</table>\n",
       "</div>"
      ],
      "text/plain": [
       "         Rank  Average IQ  Literacy Rate  Nobel Prices  HDI (2021)  \\\n",
       "count  193.00      193.00         193.00        193.00      179.00   \n",
       "mean    97.00       82.05           0.86          5.92        0.72   \n",
       "std     55.86       13.34           0.18         31.97        0.15   \n",
       "min      1.00       42.99           0.19          0.00        0.38   \n",
       "25%     49.00       74.33           0.80          0.00        0.60   \n",
       "50%     97.00       82.24           0.95          0.00        0.74   \n",
       "75%    145.00       91.60           0.99          1.00        0.84   \n",
       "max    193.00      106.48           1.00        400.00        0.96   \n",
       "\n",
       "       Mean years of schooling - 2021   GNI - 2021  \n",
       "count                          179.00       179.00  \n",
       "mean                             9.03     20811.80  \n",
       "std                              3.19     22160.49  \n",
       "min                              2.10       732.00  \n",
       "25%                              6.40      4593.00  \n",
       "50%                              9.40     12672.00  \n",
       "75%                             11.60     30588.00  \n",
       "max                             14.10    146830.00  "
      ]
     },
     "execution_count": 16,
     "metadata": {},
     "output_type": "execute_result"
    }
   ],
   "source": [
    "df.describe().round(2)"
   ]
  },
  {
   "cell_type": "code",
   "execution_count": 34,
   "metadata": {},
   "outputs": [
    {
     "data": {
      "text/html": [
       "<style type=\"text/css\">\n",
       "#T_87399_row0_col1 {\n",
       "  width: 10em;\n",
       "  background: linear-gradient(90deg, green 100.0%, transparent 100.0%);\n",
       "}\n",
       "#T_87399_row0_col7 {\n",
       "  width: 10em;\n",
       "  background: linear-gradient(90deg, blue 100.0%, transparent 100.0%);\n",
       "}\n",
       "#T_87399_row1_col1 {\n",
       "  width: 10em;\n",
       "  background: linear-gradient(90deg, green 0.5%, transparent 0.5%);\n",
       "}\n",
       "#T_87399_row1_col7, #T_87399_row3_col7 {\n",
       "  width: 10em;\n",
       "  background: linear-gradient(90deg, blue 0.1%, transparent 0.1%);\n",
       "}\n",
       "#T_87399_row2_col1, #T_87399_row4_col1, #T_87399_row5_col1, #T_87399_row6_col1 {\n",
       "  width: 10em;\n",
       "  background: linear-gradient(90deg, green 0.0%, transparent 0.0%);\n",
       "}\n",
       "#T_87399_row2_col7 {\n",
       "  width: 10em;\n",
       "  background: linear-gradient(90deg, blue 0.3%, transparent 0.3%);\n",
       "}\n",
       "#T_87399_row3_col1 {\n",
       "  width: 10em;\n",
       "  background: linear-gradient(90deg, green 0.4%, transparent 0.4%);\n",
       "}\n",
       "#T_87399_row4_col7, #T_87399_row5_col7, #T_87399_row6_col7 {\n",
       "  width: 10em;\n",
       "  background: linear-gradient(90deg, blue 0.0%, transparent 0.0%);\n",
       "}\n",
       "</style>\n",
       "<table id=\"T_87399\">\n",
       "  <thead>\n",
       "    <tr>\n",
       "      <th class=\"blank level0\" >&nbsp;</th>\n",
       "      <th id=\"T_87399_level0_col0\" class=\"col_heading level0 col0\" >count</th>\n",
       "      <th id=\"T_87399_level0_col1\" class=\"col_heading level0 col1\" >mean</th>\n",
       "      <th id=\"T_87399_level0_col2\" class=\"col_heading level0 col2\" >std</th>\n",
       "      <th id=\"T_87399_level0_col3\" class=\"col_heading level0 col3\" >min</th>\n",
       "      <th id=\"T_87399_level0_col4\" class=\"col_heading level0 col4\" >25%</th>\n",
       "      <th id=\"T_87399_level0_col5\" class=\"col_heading level0 col5\" >50%</th>\n",
       "      <th id=\"T_87399_level0_col6\" class=\"col_heading level0 col6\" >75%</th>\n",
       "      <th id=\"T_87399_level0_col7\" class=\"col_heading level0 col7\" >max</th>\n",
       "    </tr>\n",
       "  </thead>\n",
       "  <tbody>\n",
       "    <tr>\n",
       "      <th id=\"T_87399_level0_row0\" class=\"row_heading level0 row0\" > GNI - 2021</th>\n",
       "      <td id=\"T_87399_row0_col0\" class=\"data row0 col0\" >179.000000</td>\n",
       "      <td id=\"T_87399_row0_col1\" class=\"data row0 col1\" >20811.798883</td>\n",
       "      <td id=\"T_87399_row0_col2\" class=\"data row0 col2\" >22160.494888</td>\n",
       "      <td id=\"T_87399_row0_col3\" class=\"data row0 col3\" >732.000000</td>\n",
       "      <td id=\"T_87399_row0_col4\" class=\"data row0 col4\" >4593.000000</td>\n",
       "      <td id=\"T_87399_row0_col5\" class=\"data row0 col5\" >12672.000000</td>\n",
       "      <td id=\"T_87399_row0_col6\" class=\"data row0 col6\" >30588.000000</td>\n",
       "      <td id=\"T_87399_row0_col7\" class=\"data row0 col7\" >146830.000000</td>\n",
       "    </tr>\n",
       "    <tr>\n",
       "      <th id=\"T_87399_level0_row1\" class=\"row_heading level0 row1\" >Rank</th>\n",
       "      <td id=\"T_87399_row1_col0\" class=\"data row1 col0\" >193.000000</td>\n",
       "      <td id=\"T_87399_row1_col1\" class=\"data row1 col1\" >97.000000</td>\n",
       "      <td id=\"T_87399_row1_col2\" class=\"data row1 col2\" >55.858452</td>\n",
       "      <td id=\"T_87399_row1_col3\" class=\"data row1 col3\" >1.000000</td>\n",
       "      <td id=\"T_87399_row1_col4\" class=\"data row1 col4\" >49.000000</td>\n",
       "      <td id=\"T_87399_row1_col5\" class=\"data row1 col5\" >97.000000</td>\n",
       "      <td id=\"T_87399_row1_col6\" class=\"data row1 col6\" >145.000000</td>\n",
       "      <td id=\"T_87399_row1_col7\" class=\"data row1 col7\" >193.000000</td>\n",
       "    </tr>\n",
       "    <tr>\n",
       "      <th id=\"T_87399_level0_row2\" class=\"row_heading level0 row2\" >Nobel Prices</th>\n",
       "      <td id=\"T_87399_row2_col0\" class=\"data row2 col0\" >193.000000</td>\n",
       "      <td id=\"T_87399_row2_col1\" class=\"data row2 col1\" >5.922280</td>\n",
       "      <td id=\"T_87399_row2_col2\" class=\"data row2 col2\" >31.971328</td>\n",
       "      <td id=\"T_87399_row2_col3\" class=\"data row2 col3\" >0.000000</td>\n",
       "      <td id=\"T_87399_row2_col4\" class=\"data row2 col4\" >0.000000</td>\n",
       "      <td id=\"T_87399_row2_col5\" class=\"data row2 col5\" >0.000000</td>\n",
       "      <td id=\"T_87399_row2_col6\" class=\"data row2 col6\" >1.000000</td>\n",
       "      <td id=\"T_87399_row2_col7\" class=\"data row2 col7\" >400.000000</td>\n",
       "    </tr>\n",
       "    <tr>\n",
       "      <th id=\"T_87399_level0_row3\" class=\"row_heading level0 row3\" >Average IQ</th>\n",
       "      <td id=\"T_87399_row3_col0\" class=\"data row3 col0\" >193.000000</td>\n",
       "      <td id=\"T_87399_row3_col1\" class=\"data row3 col1\" >82.047927</td>\n",
       "      <td id=\"T_87399_row3_col2\" class=\"data row3 col2\" >13.336117</td>\n",
       "      <td id=\"T_87399_row3_col3\" class=\"data row3 col3\" >42.990000</td>\n",
       "      <td id=\"T_87399_row3_col4\" class=\"data row3 col4\" >74.330000</td>\n",
       "      <td id=\"T_87399_row3_col5\" class=\"data row3 col5\" >82.240000</td>\n",
       "      <td id=\"T_87399_row3_col6\" class=\"data row3 col6\" >91.600000</td>\n",
       "      <td id=\"T_87399_row3_col7\" class=\"data row3 col7\" >106.480000</td>\n",
       "    </tr>\n",
       "    <tr>\n",
       "      <th id=\"T_87399_level0_row4\" class=\"row_heading level0 row4\" >Mean years of schooling - 2021</th>\n",
       "      <td id=\"T_87399_row4_col0\" class=\"data row4 col0\" >179.000000</td>\n",
       "      <td id=\"T_87399_row4_col1\" class=\"data row4 col1\" >9.028492</td>\n",
       "      <td id=\"T_87399_row4_col2\" class=\"data row4 col2\" >3.187867</td>\n",
       "      <td id=\"T_87399_row4_col3\" class=\"data row4 col3\" >2.100000</td>\n",
       "      <td id=\"T_87399_row4_col4\" class=\"data row4 col4\" >6.400000</td>\n",
       "      <td id=\"T_87399_row4_col5\" class=\"data row4 col5\" >9.400000</td>\n",
       "      <td id=\"T_87399_row4_col6\" class=\"data row4 col6\" >11.600000</td>\n",
       "      <td id=\"T_87399_row4_col7\" class=\"data row4 col7\" >14.100000</td>\n",
       "    </tr>\n",
       "    <tr>\n",
       "      <th id=\"T_87399_level0_row5\" class=\"row_heading level0 row5\" >Literacy Rate</th>\n",
       "      <td id=\"T_87399_row5_col0\" class=\"data row5 col0\" >193.000000</td>\n",
       "      <td id=\"T_87399_row5_col1\" class=\"data row5 col1\" >0.864249</td>\n",
       "      <td id=\"T_87399_row5_col2\" class=\"data row5 col2\" >0.180262</td>\n",
       "      <td id=\"T_87399_row5_col3\" class=\"data row5 col3\" >0.190000</td>\n",
       "      <td id=\"T_87399_row5_col4\" class=\"data row5 col4\" >0.800000</td>\n",
       "      <td id=\"T_87399_row5_col5\" class=\"data row5 col5\" >0.950000</td>\n",
       "      <td id=\"T_87399_row5_col6\" class=\"data row5 col6\" >0.990000</td>\n",
       "      <td id=\"T_87399_row5_col7\" class=\"data row5 col7\" >1.000000</td>\n",
       "    </tr>\n",
       "    <tr>\n",
       "      <th id=\"T_87399_level0_row6\" class=\"row_heading level0 row6\" >HDI (2021)</th>\n",
       "      <td id=\"T_87399_row6_col0\" class=\"data row6 col0\" >179.000000</td>\n",
       "      <td id=\"T_87399_row6_col1\" class=\"data row6 col1\" >0.724123</td>\n",
       "      <td id=\"T_87399_row6_col2\" class=\"data row6 col2\" >0.152761</td>\n",
       "      <td id=\"T_87399_row6_col3\" class=\"data row6 col3\" >0.385000</td>\n",
       "      <td id=\"T_87399_row6_col4\" class=\"data row6 col4\" >0.599500</td>\n",
       "      <td id=\"T_87399_row6_col5\" class=\"data row6 col5\" >0.745000</td>\n",
       "      <td id=\"T_87399_row6_col6\" class=\"data row6 col6\" >0.844000</td>\n",
       "      <td id=\"T_87399_row6_col7\" class=\"data row6 col7\" >0.962000</td>\n",
       "    </tr>\n",
       "  </tbody>\n",
       "</table>\n"
      ],
      "text/plain": [
       "<pandas.io.formats.style.Styler at 0x15627b1f0>"
      ]
     },
     "execution_count": 34,
     "metadata": {},
     "output_type": "execute_result"
    }
   ],
   "source": [
    "df.iloc[:, :].describe().T.sort_values(by='std', ascending=False)\\\n",
    ".style.bar(subset=[\"max\"], color='blue')\\\n",
    ".bar(subset=[\"mean\"], color='green')\n",
    "\n"
   ]
  },
  {
   "cell_type": "code",
   "execution_count": 74,
   "metadata": {},
   "outputs": [
    {
     "name": "stdout",
     "output_type": "stream",
     "text": [
      "Index(['Rank', 'Country', 'Average IQ', 'Continent', 'Literacy Rate',\n",
      "       'Nobel Prices', 'HDI (2021)', 'Mean years of schooling - 2021',\n",
      "       ' GNI - 2021', 'Population - 2023', 'Country_encoded',\n",
      "       'Continent_encoded'],\n",
      "      dtype='object')\n"
     ]
    }
   ],
   "source": [
    "print(df.columns)"
   ]
  },
  {
   "cell_type": "markdown",
   "metadata": {},
   "source": [
    "# Step 2: Analyze data and identify patterns"
   ]
  },
  {
   "cell_type": "markdown",
   "metadata": {},
   "source": [
    "## 2.1. Сorrelation analysis"
   ]
  },
  {
   "cell_type": "code",
   "execution_count": 24,
   "metadata": {},
   "outputs": [
    {
     "data": {
      "image/png": "[encoded data removed]",
      "text/plain": [
       "<Figure size 1000x600 with 2 Axes>"
      ]
     },
     "metadata": {},
     "output_type": "display_data"
    }
   ],
   "source": [
    "# Filter only numeric columns\n",
    "numeric_df = df.select_dtypes(include=['float64', 'int64'])\n",
    "\n",
    "# Compute the correlation matrix\n",
    "correlation_matrix = numeric_df.corr()\n",
    "\n",
    "# Plot the heatmap\n",
    "plt.figure(figsize=(10, 6))\n",
    "sns.heatmap(correlation_matrix, annot=True, cmap='coolwarm', fmt=\".2f\")\n",
    "plt.title('Сorrelation analysis')\n",
    "plt.show()\n",
    "\n"
   ]
  },
  {
   "cell_type": "markdown",
   "metadata": {},
   "source": [
    "Positive Correlation (Values close to +1): When two variables have a correlation coefficient close to +1, they are positively correlated, meaning as one variable increases, the other tends to increase as well.\n",
    "Negative Correlation (Values close to -1): A negative correlation means that as one variable increases, the other tends to decrease."
   ]
  },
  {
   "cell_type": "markdown",
   "metadata": {},
   "source": [
    "## 2.2. Visualization of IQ distribution across continents"
   ]
  },
  {
   "cell_type": "code",
   "execution_count": 38,
   "metadata": {},
   "outputs": [
    {
     "data": {
      "image/png": "[encoded data removed]",
      "text/plain": [
       "<Figure size 1200x600 with 1 Axes>"
      ]
     },
     "metadata": {},
     "output_type": "display_data"
    }
   ],
   "source": [
    "plt.figure(figsize=(12, 6))\n",
    "sns.boxplot(x='Continent', y='Average IQ', data=df)\n",
    "plt.title('IQ distribution across continents')\n",
    "plt.xticks(rotation=45)\n",
    "plt.show()\n"
   ]
  },
  {
   "cell_type": "code",
   "execution_count": 39,
   "metadata": {},
   "outputs": [
    {
     "data": {
      "image/png": "[encoded data removed]",
      "text/plain": [
       "<Figure size 640x480 with 1 Axes>"
      ]
     },
     "metadata": {},
     "output_type": "display_data"
    }
   ],
   "source": [
    "sns.scatterplot(x='Average IQ', y='Nobel Prices', data=df)\n",
    "plt.title('IQ vs Количество Нобелевских премий')\n",
    "plt.show()\n"
   ]
  },
  {
   "cell_type": "code",
   "execution_count": 40,
   "metadata": {},
   "outputs": [
    {
     "data": {
      "image/png": "[encoded data removed]",
      "text/plain": [
       "<Figure size 640x480 with 1 Axes>"
      ]
     },
     "metadata": {},
     "output_type": "display_data"
    }
   ],
   "source": [
    "sns.scatterplot(x='Average IQ', y='Literacy Rate', data=df)\n",
    "plt.title('IQ vs Уровень грамотности')\n",
    "plt.show()\n"
   ]
  },
  {
   "cell_type": "code",
   "execution_count": 41,
   "metadata": {},
   "outputs": [
    {
     "data": {
      "image/png": "[encoded data removed]",
      "text/plain": [
       "<Figure size 1200x600 with 3 Axes>"
      ]
     },
     "metadata": {},
     "output_type": "display_data"
    },
    {
     "name": "stdout",
     "output_type": "stream",
     "text": [
      "Топ-5 стран по IQ:\n",
      "     Country  Average IQ\n",
      "0      Japan      106.48\n",
      "1     Taiwan      106.47\n",
      "2  Singapore      105.89\n",
      "3  Hong Kong      105.37\n",
      "4      China      104.10\n",
      "\n",
      "Топ-5 стран по HDI:\n",
      "        Country  HDI (2021)\n",
      "18  Switzerland       0.962\n",
      "28       Norway       0.961\n",
      "24      Iceland       0.959\n",
      "3     Hong Kong       0.952\n",
      "16    Australia       0.951\n",
      "\n",
      "Топ-5 стран по числу Нобелевских лауреатов:\n",
      "           Country  Nobel Prices\n",
      "27   United States           400\n",
      "19  United Kingdom           137\n",
      "9          Germany           111\n",
      "30          France            71\n",
      "29          Sweden            32\n"
     ]
    },
    {
     "data": {
      "image/png": "[encoded data removed]",
      "text/plain": [
       "<Figure size 1000x600 with 3 Axes>"
      ]
     },
     "metadata": {},
     "output_type": "display_data"
    }
   ],
   "source": [
    "# Этап 5: Анализ трендов и взаимосвязей\n",
    "plt.figure(figsize=(12, 6))\n",
    "\n",
    "# IQ vs Nobel Prices\n",
    "plt.subplot(1, 3, 1)\n",
    "sns.regplot(x='Average IQ', y='Nobel Prices', data=df)\n",
    "plt.title('IQ vs Nobel Prices')\n",
    "\n",
    "# IQ vs Literacy Rate\n",
    "plt.subplot(1, 3, 2)\n",
    "sns.regplot(x='Average IQ', y='Literacy Rate', data=df)\n",
    "plt.title('IQ vs Literacy Rate')\n",
    "\n",
    "# IQ vs HDI (2021)\n",
    "plt.subplot(1, 3, 3)\n",
    "sns.regplot(x='Average IQ', y='HDI (2021)', data=df)\n",
    "plt.title('IQ vs HDI (2021)')\n",
    "\n",
    "plt.tight_layout()\n",
    "plt.show()\n",
    "\n",
    "# Этап 6: Выявление стран-лидеров\n",
    "print(\"Топ-5 стран по IQ:\")\n",
    "print(df[['Country', 'Average IQ']].nlargest(5, 'Average IQ'))\n",
    "\n",
    "print(\"\\nТоп-5 стран по HDI:\")\n",
    "print(df[['Country', 'HDI (2021)']].nlargest(5, 'HDI (2021)'))\n",
    "\n",
    "print(\"\\nТоп-5 стран по числу Нобелевских лауреатов:\")\n",
    "print(df[['Country', 'Nobel Prices']].nlargest(5, 'Nobel Prices'))\n",
    "\n",
    "# Визуализация лидеров\n",
    "plt.figure(figsize=(10, 6))\n",
    "\n",
    "# Топ-5 стран по IQ\n",
    "plt.subplot(3, 1, 1)\n",
    "sns.barplot(x='Average IQ', y='Country', data=df.nlargest(5, 'Average IQ'))\n",
    "plt.title('Топ-5 стран по IQ')\n",
    "\n",
    "# Топ-5 стран по HDI\n",
    "plt.subplot(3, 1, 2)\n",
    "sns.barplot(x='HDI (2021)', y='Country', data=df.nlargest(5, 'HDI (2021)'))\n",
    "plt.title('Топ-5 стран по HDI')\n",
    "\n",
    "# Топ-5 стран по Нобелевским лауреатам\n",
    "plt.subplot(3, 1, 3)\n",
    "sns.barplot(x='Nobel Prices', y='Country', data=df.nlargest(5, 'Nobel Prices'))\n",
    "plt.title('Топ-5 стран по числу Нобелевских лауреатов')\n",
    "\n",
    "plt.tight_layout()\n",
    "plt.show()"
   ]
  },
  {
   "cell_type": "code",
   "execution_count": 44,
   "metadata": {},
   "outputs": [
    {
     "data": {
      "image/png": "[encoded data removed]",
      "text/plain": [
       "<Figure size 1600x800 with 8 Axes>"
      ]
     },
     "metadata": {},
     "output_type": "display_data"
    }
   ],
   "source": [
    "def clean_data(df):\n",
    "    df['Population - 2023'] = df['Population - 2023'].str.replace('[,.]', '', regex=True)\n",
    "   \n",
    "    df = df.astype({'Population - 2023': 'int64'})\n",
    "    return df\n",
    "\n",
    "df_clean = clean_data(df.copy())\n",
    "\n",
    "df1 = df_clean.copy()\n",
    "\n",
    "df1.hist(layout=(2, 4), bins=20, figsize=(16, 8))\n",
    "plt.tight_layout()\n",
    "plt.show()"
   ]
  },
  {
   "cell_type": "code",
   "execution_count": 87,
   "metadata": {},
   "outputs": [
    {
     "data": {
      "application/vnd.plotly.v1+json": {
       "config": {
        "plotlyServerURL": "https://plot.ly"
       },
       "data": [
        {
         "hovertemplate": "Continent=Asia<br>Literacy Rate (%)=%{x}<br>Average IQ=%{y}<extra></extra>",
         "legendgroup": "Asia",
         "marker": {
          "color": "#636efa",
          "symbol": "circle"
         },
         "mode": "markers",
         "name": "Asia",
         "orientation": "v",
         "showlegend": true,
         "type": "scatter",
         "x": {
          "bdata": "rkfhehSu7z+4HoXrUbjuPwrXo3A9Cu8/FK5H4XoU7j+4HoXrUbjuP1yPwvUoXO8/CtejcD0K7z/2KFyPwvXoPwAAAAAAAPA/CtejcD0K7z/D9Shcj8LtP1yPwvUoXO8/ZmZmZmZm7j+amZmZmZnpPwAAAAAAAPA/AAAAAAAA8D8UrkfhehTuPwAAAAAAAPA/exSuR+F65D8AAAAAAADwPwrXo3A9Cu8/ZmZmZmZm7j/D9Shcj8LtPwAAAAAAAPA/AAAAAAAA8D+4HoXrUbjuP1K4HoXrUdg/w/UoXI/C7T8UrkfhehTuPwrXo3A9Cu8/mpmZmZmZ6T9cj8L1KFzvP1yPwvUoXO8/rkfhehSu7z/Xo3A9CtfrP+xRuB6F6+E/rkfhehSu7z8UrkfhehTuP7gehetRuO4/exSuR+F65D9mZmZmZmbuPwrXo3A9Cu8/ZmZmZmZm7j8K16NwPQrnP4XrUbgehes/hetRuB6F4z9mZmZmZmbmP83MzMzMzOQ/",
          "dtype": "f8"
         },
         "xaxis": "x",
         "y": {
          "bdata": "H4XrUbieWkCuR+F6FJ5aQClcj8L1eFpASOF6FK5XWkBmZmZmZgZaQGZmZmZmlllAFK5H4Xr0WEAAAAAAAPBYQBSuR+F6tFhA7FG4HoUbV0DsUbgehctWQFK4HoXrwVZAUrgehethVkBSuB6F61FWQHE9CtejQFZAKVyPwvU4VkBI4XoUrjdWQBSuR+F6NFZAXI/C9Sj8VUA9CtejcO1VQIXrUbge5VVAhetRuB7lVUBI4XoUrqdVQNejcD0Kd1VApHA9CtczVUBmZmZmZuZUQEjhehSuh1RAMzMzMzODVEDNzMzMzGxUQClcj8L1aFRAj8L1KFw/VEBSuB6F6zFUQM3MzMzMLFRAw/UoXI8iVEBxPQrXowBUQAAAAAAAAFRA9ihcj8LFU0DNzMzMzKxTQClcj8L1qFNAj8L1KFyfU0CPwvUoXJ9TQFyPwvUobFNA16NwPQoXU0CPwvUoXA9TQArXo3A9mlJAhetRuB6VUkCuR+F6FG5PQB+F61G4fkVA",
          "dtype": "f8"
         },
         "yaxis": "y"
        },
        {
         "hovertemplate": "Continent=Europe<br>Literacy Rate (%)=%{x}<br>Average IQ=%{y}<extra></extra>",
         "legendgroup": "Europe",
         "marker": {
          "color": "#EF553B",
          "symbol": "circle"
         },
         "mode": "markers",
         "name": "Europe",
         "orientation": "v",
         "showlegend": true,
         "type": "scatter",
         "x": {
          "bdata": "AAAAAAAA8D8AAAAAAADwPwAAAAAAAPA/rkfhehSu7z+uR+F6FK7vPwAAAAAAAPA/AAAAAAAA8D+uR+F6FK7vP65H4XoUru8/rkfhehSu7z8AAAAAAADwP1yPwvUoXO8/rkfhehSu7z+uR+F6FK7vP65H4XoUru8/AAAAAAAA8D+uR+F6FK7vP65H4XoUru8/AAAAAAAA8D8AAAAAAADwPwAAAAAAAPA/rkfhehSu7z8AAAAAAADwP65H4XoUru8/rkfhehSu7z8AAAAAAADwP65H4XoUru8/XI/C9Shc7z+uR+F6FK7vP2ZmZmZmZu4/FK5H4XoU7j9cj8L1KFzvP2ZmZmZmZu4/AAAAAAAA8D+uR+F6FK7vP1yPwvUoXO8/XI/C9Shc7z+uR+F6FK7vP65H4XoUru8/XI/C9Shc7z9cj8L1KFzvPw==",
          "dtype": "f8"
         },
         "xaxis": "x",
         "y": {
          "bdata": "ZmZmZmZmWUDNzMzMzExZQBSuR+F6RFlAj8L1KFwvWUCPwvUoXC9ZQK5H4XoULllASOF6FK73WECPwvUoXM9YQI/C9Shcz1hASOF6FK7HWEBmZmZmZqZYQLgehetRmFhAcT0K16OQWECF61G4HnVYQI/C9ShcX1hAuB6F61FIWEAAAAAAAEBYQFyPwvUoLFhAZmZmZmYWWEAUrkfhehRYQClcj8L1+FdAAAAAAADwV0DNzMzMzMxXQLgehetRyFdAexSuR+G6V0DD9Shcj7JXQB+F61G4jldAmpmZmZl5V0ApXI/C9VhXQOF6FK5HMVdA4XoUrkfRVkCPwvUoXL9WQOF6FK5HsVZAFK5H4XqEVkAfhetRuH5WQGZmZmZmZlZAw/UoXI8iVkC4HoXrUbhVQFK4HoXrcVVACtejcD16VEAAAAAAAHBUQA==",
          "dtype": "f8"
         },
         "yaxis": "y"
        },
        {
         "hovertemplate": "Continent=North America<br>Literacy Rate (%)=%{x}<br>Average IQ=%{y}<extra></extra>",
         "legendgroup": "North America",
         "marker": {
          "color": "#00cc96",
          "symbol": "circle"
         },
         "mode": "markers",
         "name": "North America",
         "orientation": "v",
         "showlegend": true,
         "type": "scatter",
         "x": {
          "bdata": "rkfhehSu7z+uR+F6FK7vP1yPwvUoXO8/ZmZmZmZm7j8=",
          "dtype": "f8"
         },
         "xaxis": "x",
         "y": {
          "bdata": "4XoUrkfhWEDsUbgehVtYQB+F61G4XldAH4XrUbjuVUA=",
          "dtype": "f8"
         },
         "yaxis": "y"
        },
        {
         "hovertemplate": "Continent=Oceania<br>Literacy Rate (%)=%{x}<br>Average IQ=%{y}<extra></extra>",
         "legendgroup": "Oceania",
         "marker": {
          "color": "#ab63fa",
          "symbol": "circle"
         },
         "mode": "markers",
         "name": "Oceania",
         "orientation": "v",
         "showlegend": true,
         "type": "scatter",
         "x": {
          "bdata": "rkfhehSu7z+uR+F6FK7vPwrXo3A9Cu8/MzMzMzMz6z97FK5H4XrsPxSuR+F6FO4/XI/C9Shc7z/hehSuR+HqPwrXo3A9Cu8/KVyPwvUo5D8=",
          "dtype": "f8"
         },
         "xaxis": "x",
         "y": {
          "bdata": "j8L1KFzPWEAUrkfheqRYQHsUrkfheldAexSuR+F6V0A9CtejcP1UQD0K16Nw/VRAPQrXo3D9VEA9CtejcP1UQNejcD0KV1RAj8L1KFyfU0A=",
          "dtype": "f8"
         },
         "yaxis": "y"
        },
        {
         "hovertemplate": "Continent=Europe/Asia<br>Literacy Rate (%)=%{x}<br>Average IQ=%{y}<extra></extra>",
         "legendgroup": "Europe/Asia",
         "marker": {
          "color": "#FFA15A",
          "symbol": "circle"
         },
         "mode": "markers",
         "name": "Europe/Asia",
         "orientation": "v",
         "showlegend": true,
         "type": "scatter",
         "x": {
          "bdata": "AAAAAAAA8D+4HoXrUbjuPwAAAAAAAPA/",
          "dtype": "f8"
         },
         "xaxis": "x",
         "y": {
          "bdata": "w/UoXI8SWEAzMzMzM7NVQAAAAAAAIFVA",
          "dtype": "f8"
         },
         "yaxis": "y"
        },
        {
         "hovertemplate": "Continent=Central America<br>Literacy Rate (%)=%{x}<br>Average IQ=%{y}<extra></extra>",
         "legendgroup": "Central America",
         "marker": {
          "color": "#19d3f3",
          "symbol": "circle"
         },
         "mode": "markers",
         "name": "Central America",
         "orientation": "v",
         "showlegend": true,
         "type": "scatter",
         "x": {
          "bdata": "AAAAAAAA8D9cj8L1KFzvP7gehetRuO4/rkfhehSu7z9cj8L1KFzvPwAAAAAAAPA/rkfhehSu7z+F61G4HoXjP3E9CtejcO0/w/UoXI/C7T+4HoXrUbjuP2ZmZmZmZu4/XI/C9Shc7z97FK5H4XrsP83MzMzMzOw/rkfhehSu7z8pXI/C9SjsPxSuR+F6FO4/uB6F61G47j+PwvUoXI/qPylcj8L1KOw/PQrXo3A96j9I4XoUrkfpPw==",
          "dtype": "f8"
         },
         "xaxis": "x",
         "y": {
          "bdata": "ZmZmZmbmVkD2KFyPwhVWQI/C9Shcv1VAuB6F61FoVUDD9ShcjxJVQJqZmZmZ+VRAj8L1KFyPVEBmZmZmZoZUQDMzMzMzg1RAj8L1KFx/VED2KFyPwtVTQAAAAAAAwFNAXI/C9SgsU0CF61G4HsVSQOxRuB6Fa1JAH4XrUbieUUC4HoXrUWhRQFK4HoXrgVBA9ihcj8K1T0BmZmZmZkZPQBSuR+F6FE9AuB6F61FYSkBcj8L1KNxHQA==",
          "dtype": "f8"
         },
         "yaxis": "y"
        },
        {
         "hovertemplate": "Continent=South America<br>Literacy Rate (%)=%{x}<br>Average IQ=%{y}<extra></extra>",
         "legendgroup": "South America",
         "marker": {
          "color": "#FF6692",
          "symbol": "circle"
         },
         "mode": "markers",
         "name": "South America",
         "orientation": "v",
         "showlegend": true,
         "type": "scatter",
         "x": {
          "bdata": "uB6F61G47j8K16NwPQrvP1yPwvUoXO8/XI/C9Shc7z+4HoXrUbjuP8P1KFyPwu0/KVyPwvUo7D9mZmZmZmbuP2ZmZmZmZu4/FK5H4XoU7j9mZmZmZmbuP2ZmZmZmZu4/",
          "dtype": "f8"
         },
         "xaxis": "x",
         "y": {
          "bdata": "w/UoXI+SVkApXI/C9fhVQPYoXI/C5VVAuB6F61GoVUDD9ShcjwJVQLgehetR2FRAH4XrUbjOVEC4HoXrUchUQI/C9Shcv1RAXI/C9ShcVEBxPQrXo5BTQFK4HoXrIVNA",
          "dtype": "f8"
         },
         "yaxis": "y"
        },
        {
         "hovertemplate": "Continent=Africa<br>Literacy Rate (%)=%{x}<br>Average IQ=%{y}<extra></extra>",
         "legendgroup": "Africa",
         "marker": {
          "color": "#B6E880",
          "symbol": "circle"
         },
         "mode": "markers",
         "name": "Africa",
         "orientation": "v",
         "showlegend": true,
         "type": "scatter",
         "x": {
          "bdata": "H4XrUbge7T8fhetRuB7tP+xRuB6F6+k/mpmZmZmZ2T/hehSuR+HiP2ZmZmZmZu4/7FG4HoXr4T/2KFyPwvXoP83MzMzMzOQ/rkfhehSu5z9SuB6F61HoP5qZmZmZmek/9ihcj8L16D+4HoXrUbjmP5qZmZmZmek/16NwPQrX6z9SuB6F61HYP+F6FK5H4eI/MzMzMzMz6z9SuB6F61HIP7gehetRuOY/UrgehetR2D8fhetRuB7lPylcj8L1KOw/SOF6FK5H6T9mZmZmZmbuP9ejcD0K1+s/rkfhehSu5z8K16NwPQrvPzMzMzMzM+s/XI/C9Shc3z/D9Shcj8LlPwAAAAAAAOg/MzMzMzMz4z9SuB6F61HYPwrXo3A9Cuc/H4XrUbge7T9xPQrXo3DtP6RwPQrXo+g/j8L1KFyP6j9I4XoUrkfpP65H4XoUrtc/cT0K16Nw5T8fhetRuB7VP6RwPQrXo+A/exSuR+F61D+kcD0K16PoP4XrUbgehds/MzMzMzMz0z+PwvUoXI/iP7gehetRuN4/uB6F61G43j8=",
          "dtype": "f8"
         },
         "xaxis": "x",
         "y": {
          "bdata": "pHA9CtejVUB7FK5H4TpUQK5H4XoUzlNASOF6FK63U0BI4XoUrrdTQHE9CtejsFNASOF6FK5XU0AUrkfhekRTQMP1KFyPMlNAexSuR+EaU0AUrkfhehRTQAAAAAAAAFNAzczMzMzMUkBmZmZmZsZSQM3MzMzMvFJAcT0K16OAUkAzMzMzM3NSQAAAAAAAIFJA9ihcj8IFUkAUrkfherRRQM3MzMzMfFFAPQrXo3BtUUDNzMzMzGxRQM3MzMzMXFFASOF6FK43UUBI4XoUrjdRQEjhehSuN1FA4XoUrkcxUUCPwvUoXC9RQOxRuB6FG1FAexSuR+EaUUAK16NwPRpRQHE9Ctej8FBAcT0K16PwUEB7FK5H4epQQFK4HoXrwVBAXI/C9SiMUECuR+F6FE5QQHsUrkfhOlBAXI/C9Sh8T0Bcj8L1KHxPQGZmZmZmRk9ACtejcD3qTUDhehSuR+FNQOF6FK5H4U1ArkfhehROTUAUrkfhehRNQBSuR+F6FE1APQrXo3C9SkDXo3A9CldKQClcj8L1iEZAKVyPwvWIRkA=",
          "dtype": "f8"
         },
         "yaxis": "y"
        }
       ],
       "layout": {
        "legend": {
         "title": {
          "text": "Continent"
         },
         "tracegroupgap": 0
        },
        "template": {
         "data": {
          "bar": [
           {
            "error_x": {
             "color": "#2a3f5f"
            },
            "error_y": {
             "color": "#2a3f5f"
            },
            "marker": {
             "line": {
              "color": "#E5ECF6",
              "width": 0.5
             },
             "pattern": {
              "fillmode": "overlay",
              "size": 10,
              "solidity": 0.2
             }
            },
            "type": "bar"
           }
          ],
          "barpolar": [
           {
            "marker": {
             "line": {
              "color": "#E5ECF6",
              "width": 0.5
             },
             "pattern": {
              "fillmode": "overlay",
              "size": 10,
              "solidity": 0.2
             }
            },
            "type": "barpolar"
           }
          ],
          "carpet": [
           {
            "aaxis": {
             "endlinecolor": "#2a3f5f",
             "gridcolor": "white",
             "linecolor": "white",
             "minorgridcolor": "white",
             "startlinecolor": "#2a3f5f"
            },
            "baxis": {
             "endlinecolor": "#2a3f5f",
             "gridcolor": "white",
             "linecolor": "white",
             "minorgridcolor": "white",
             "startlinecolor": "#2a3f5f"
            },
            "type": "carpet"
           }
          ],
          "choropleth": [
           {
            "colorbar": {
             "outlinewidth": 0,
             "ticks": ""
            },
            "type": "choropleth"
           }
          ],
          "contour": [
           {
            "colorbar": {
             "outlinewidth": 0,
             "ticks": ""
            },
            "colorscale": [
             [
              0,
              "#0d0887"
             ],
             [
              0.1111111111111111,
              "#46039f"
             ],
             [
              0.2222222222222222,
              "#7201a8"
             ],
             [
              0.3333333333333333,
              "#9c179e"
             ],
             [
              0.4444444444444444,
              "#bd3786"
             ],
             [
              0.5555555555555556,
              "#d8576b"
             ],
             [
              0.6666666666666666,
              "#ed7953"
             ],
             [
              0.7777777777777778,
              "#fb9f3a"
             ],
             [
              0.8888888888888888,
              "#fdca26"
             ],
             [
              1,
              "#f0f921"
             ]
            ],
            "type": "contour"
           }
          ],
          "contourcarpet": [
           {
            "colorbar": {
             "outlinewidth": 0,
             "ticks": ""
            },
            "type": "contourcarpet"
           }
          ],
          "heatmap": [
           {
            "colorbar": {
             "outlinewidth": 0,
             "ticks": ""
            },
            "colorscale": [
             [
              0,
              "#0d0887"
             ],
             [
              0.1111111111111111,
              "#46039f"
             ],
             [
              0.2222222222222222,
              "#7201a8"
             ],
             [
              0.3333333333333333,
              "#9c179e"
             ],
             [
              0.4444444444444444,
              "#bd3786"
             ],
             [
              0.5555555555555556,
              "#d8576b"
             ],
             [
              0.6666666666666666,
              "#ed7953"
             ],
             [
              0.7777777777777778,
              "#fb9f3a"
             ],
             [
              0.8888888888888888,
              "#fdca26"
             ],
             [
              1,
              "#f0f921"
             ]
            ],
            "type": "heatmap"
           }
          ],
          "histogram": [
           {
            "marker": {
             "pattern": {
              "fillmode": "overlay",
              "size": 10,
              "solidity": 0.2
             }
            },
            "type": "histogram"
           }
          ],
          "histogram2d": [
           {
            "colorbar": {
             "outlinewidth": 0,
             "ticks": ""
            },
            "colorscale": [
             [
              0,
              "#0d0887"
             ],
             [
              0.1111111111111111,
              "#46039f"
             ],
             [
              0.2222222222222222,
              "#7201a8"
             ],
             [
              0.3333333333333333,
              "#9c179e"
             ],
             [
              0.4444444444444444,
              "#bd3786"
             ],
             [
              0.5555555555555556,
              "#d8576b"
             ],
             [
              0.6666666666666666,
              "#ed7953"
             ],
             [
              0.7777777777777778,
              "#fb9f3a"
             ],
             [
              0.8888888888888888,
              "#fdca26"
             ],
             [
              1,
              "#f0f921"
             ]
            ],
            "type": "histogram2d"
           }
          ],
          "histogram2dcontour": [
           {
            "colorbar": {
             "outlinewidth": 0,
             "ticks": ""
            },
            "colorscale": [
             [
              0,
              "#0d0887"
             ],
             [
              0.1111111111111111,
              "#46039f"
             ],
             [
              0.2222222222222222,
              "#7201a8"
             ],
             [
              0.3333333333333333,
              "#9c179e"
             ],
             [
              0.4444444444444444,
              "#bd3786"
             ],
             [
              0.5555555555555556,
              "#d8576b"
             ],
             [
              0.6666666666666666,
              "#ed7953"
             ],
             [
              0.7777777777777778,
              "#fb9f3a"
             ],
             [
              0.8888888888888888,
              "#fdca26"
             ],
             [
              1,
              "#f0f921"
             ]
            ],
            "type": "histogram2dcontour"
           }
          ],
          "mesh3d": [
           {
            "colorbar": {
             "outlinewidth": 0,
             "ticks": ""
            },
            "type": "mesh3d"
           }
          ],
          "parcoords": [
           {
            "line": {
             "colorbar": {
              "outlinewidth": 0,
              "ticks": ""
             }
            },
            "type": "parcoords"
           }
          ],
          "pie": [
           {
            "automargin": true,
            "type": "pie"
           }
          ],
          "scatter": [
           {
            "fillpattern": {
             "fillmode": "overlay",
             "size": 10,
             "solidity": 0.2
            },
            "type": "scatter"
           }
          ],
          "scatter3d": [
           {
            "line": {
             "colorbar": {
              "outlinewidth": 0,
              "ticks": ""
             }
            },
            "marker": {
             "colorbar": {
              "outlinewidth": 0,
              "ticks": ""
             }
            },
            "type": "scatter3d"
           }
          ],
          "scattercarpet": [
           {
            "marker": {
             "colorbar": {
              "outlinewidth": 0,
              "ticks": ""
             }
            },
            "type": "scattercarpet"
           }
          ],
          "scattergeo": [
           {
            "marker": {
             "colorbar": {
              "outlinewidth": 0,
              "ticks": ""
             }
            },
            "type": "scattergeo"
           }
          ],
          "scattergl": [
           {
            "marker": {
             "colorbar": {
              "outlinewidth": 0,
              "ticks": ""
             }
            },
            "type": "scattergl"
           }
          ],
          "scattermap": [
           {
            "marker": {
             "colorbar": {
              "outlinewidth": 0,
              "ticks": ""
             }
            },
            "type": "scattermap"
           }
          ],
          "scattermapbox": [
           {
            "marker": {
             "colorbar": {
              "outlinewidth": 0,
              "ticks": ""
             }
            },
            "type": "scattermapbox"
           }
          ],
          "scatterpolar": [
           {
            "marker": {
             "colorbar": {
              "outlinewidth": 0,
              "ticks": ""
             }
            },
            "type": "scatterpolar"
           }
          ],
          "scatterpolargl": [
           {
            "marker": {
             "colorbar": {
              "outlinewidth": 0,
              "ticks": ""
             }
            },
            "type": "scatterpolargl"
           }
          ],
          "scatterternary": [
           {
            "marker": {
             "colorbar": {
              "outlinewidth": 0,
              "ticks": ""
             }
            },
            "type": "scatterternary"
           }
          ],
          "surface": [
           {
            "colorbar": {
             "outlinewidth": 0,
             "ticks": ""
            },
            "colorscale": [
             [
              0,
              "#0d0887"
             ],
             [
              0.1111111111111111,
              "#46039f"
             ],
             [
              0.2222222222222222,
              "#7201a8"
             ],
             [
              0.3333333333333333,
              "#9c179e"
             ],
             [
              0.4444444444444444,
              "#bd3786"
             ],
             [
              0.5555555555555556,
              "#d8576b"
             ],
             [
              0.6666666666666666,
              "#ed7953"
             ],
             [
              0.7777777777777778,
              "#fb9f3a"
             ],
             [
              0.8888888888888888,
              "#fdca26"
             ],
             [
              1,
              "#f0f921"
             ]
            ],
            "type": "surface"
           }
          ],
          "table": [
           {
            "cells": {
             "fill": {
              "color": "#EBF0F8"
             },
             "line": {
              "color": "white"
             }
            },
            "header": {
             "fill": {
              "color": "#C8D4E3"
             },
             "line": {
              "color": "white"
             }
            },
            "type": "table"
           }
          ]
         },
         "layout": {
          "annotationdefaults": {
           "arrowcolor": "#2a3f5f",
           "arrowhead": 0,
           "arrowwidth": 1
          },
          "autotypenumbers": "strict",
          "coloraxis": {
           "colorbar": {
            "outlinewidth": 0,
            "ticks": ""
           }
          },
          "colorscale": {
           "diverging": [
            [
             0,
             "#8e0152"
            ],
            [
             0.1,
             "#c51b7d"
            ],
            [
             0.2,
             "#de77ae"
            ],
            [
             0.3,
             "#f1b6da"
            ],
            [
             0.4,
             "#fde0ef"
            ],
            [
             0.5,
             "#f7f7f7"
            ],
            [
             0.6,
             "#e6f5d0"
            ],
            [
             0.7,
             "#b8e186"
            ],
            [
             0.8,
             "#7fbc41"
            ],
            [
             0.9,
             "#4d9221"
            ],
            [
             1,
             "#276419"
            ]
           ],
           "sequential": [
            [
             0,
             "#0d0887"
            ],
            [
             0.1111111111111111,
             "#46039f"
            ],
            [
             0.2222222222222222,
             "#7201a8"
            ],
            [
             0.3333333333333333,
             "#9c179e"
            ],
            [
             0.4444444444444444,
             "#bd3786"
            ],
            [
             0.5555555555555556,
             "#d8576b"
            ],
            [
             0.6666666666666666,
             "#ed7953"
            ],
            [
             0.7777777777777778,
             "#fb9f3a"
            ],
            [
             0.8888888888888888,
             "#fdca26"
            ],
            [
             1,
             "#f0f921"
            ]
           ],
           "sequentialminus": [
            [
             0,
             "#0d0887"
            ],
            [
             0.1111111111111111,
             "#46039f"
            ],
            [
             0.2222222222222222,
             "#7201a8"
            ],
            [
             0.3333333333333333,
             "#9c179e"
            ],
            [
             0.4444444444444444,
             "#bd3786"
            ],
            [
             0.5555555555555556,
             "#d8576b"
            ],
            [
             0.6666666666666666,
             "#ed7953"
            ],
            [
             0.7777777777777778,
             "#fb9f3a"
            ],
            [
             0.8888888888888888,
             "#fdca26"
            ],
            [
             1,
             "#f0f921"
            ]
           ]
          },
          "colorway": [
           "#636efa",
           "#EF553B",
           "#00cc96",
           "#ab63fa",
           "#FFA15A",
           "#19d3f3",
           "#FF6692",
           "#B6E880",
           "#FF97FF",
           "#FECB52"
          ],
          "font": {
           "color": "#2a3f5f"
          },
          "geo": {
           "bgcolor": "white",
           "lakecolor": "white",
           "landcolor": "#E5ECF6",
           "showlakes": true,
           "showland": true,
           "subunitcolor": "white"
          },
          "hoverlabel": {
           "align": "left"
          },
          "hovermode": "closest",
          "mapbox": {
           "style": "light"
          },
          "paper_bgcolor": "white",
          "plot_bgcolor": "#E5ECF6",
          "polar": {
           "angularaxis": {
            "gridcolor": "white",
            "linecolor": "white",
            "ticks": ""
           },
           "bgcolor": "#E5ECF6",
           "radialaxis": {
            "gridcolor": "white",
            "linecolor": "white",
            "ticks": ""
           }
          },
          "scene": {
           "xaxis": {
            "backgroundcolor": "#E5ECF6",
            "gridcolor": "white",
            "gridwidth": 2,
            "linecolor": "white",
            "showbackground": true,
            "ticks": "",
            "zerolinecolor": "white"
           },
           "yaxis": {
            "backgroundcolor": "#E5ECF6",
            "gridcolor": "white",
            "gridwidth": 2,
            "linecolor": "white",
            "showbackground": true,
            "ticks": "",
            "zerolinecolor": "white"
           },
           "zaxis": {
            "backgroundcolor": "#E5ECF6",
            "gridcolor": "white",
            "gridwidth": 2,
            "linecolor": "white",
            "showbackground": true,
            "ticks": "",
            "zerolinecolor": "white"
           }
          },
          "shapedefaults": {
           "line": {
            "color": "#2a3f5f"
           }
          },
          "ternary": {
           "aaxis": {
            "gridcolor": "white",
            "linecolor": "white",
            "ticks": ""
           },
           "baxis": {
            "gridcolor": "white",
            "linecolor": "white",
            "ticks": ""
           },
           "bgcolor": "#E5ECF6",
           "caxis": {
            "gridcolor": "white",
            "linecolor": "white",
            "ticks": ""
           }
          },
          "title": {
           "x": 0.05
          },
          "xaxis": {
           "automargin": true,
           "gridcolor": "white",
           "linecolor": "white",
           "ticks": "",
           "title": {
            "standoff": 15
           },
           "zerolinecolor": "white",
           "zerolinewidth": 2
          },
          "yaxis": {
           "automargin": true,
           "gridcolor": "white",
           "linecolor": "white",
           "ticks": "",
           "title": {
            "standoff": 15
           },
           "zerolinecolor": "white",
           "zerolinewidth": 2
          }
         }
        },
        "title": {
         "text": "Average IQ vs Literacy Rate"
        },
        "xaxis": {
         "anchor": "y",
         "domain": [
          0,
          1
         ],
         "title": {
          "text": "Literacy Rate (%)"
         }
        },
        "yaxis": {
         "anchor": "x",
         "domain": [
          0,
          1
         ],
         "title": {
          "text": "Average IQ"
         }
        }
       }
      },
      "text/html": [
       "<div>            <script src=\"https://cdnjs.cloudflare.com/ajax/libs/mathjax/2.7.5/MathJax.js?config=TeX-AMS-MML_SVG\"></script><script type=\"text/javascript\">if (window.MathJax && window.MathJax.Hub && window.MathJax.Hub.Config) {window.MathJax.Hub.Config({SVG: {font: \"STIX-Web\"}});}</script>                <script type=\"text/javascript\">window.PlotlyConfig = {MathJaxConfig: 'local'};</script>\n",
       "        <script charset=\"utf-8\" src=\"https://cdn.plot.ly/plotly-3.0.0.min.js\"></script>                <div id=\"f606295d-9046-4e46-b851-15a61138ac8b\" class=\"plotly-graph-div\" style=\"height:525px; width:100%;\"></div>            <script type=\"text/javascript\">                window.PLOTLYENV=window.PLOTLYENV || {};                                if (document.getElementById(\"f606295d-9046-4e46-b851-15a61138ac8b\")) {                    Plotly.newPlot(                        \"f606295d-9046-4e46-b851-15a61138ac8b\",                        [{\"hovertemplate\":\"Continent=Asia\\u003cbr\\u003eLiteracy Rate (%)=%{x}\\u003cbr\\u003eAverage IQ=%{y}\\u003cextra\\u003e\\u003c\\u002fextra\\u003e\",\"legendgroup\":\"Asia\",\"marker\":{\"color\":\"#636efa\",\"symbol\":\"circle\"},\"mode\":\"markers\",\"name\":\"Asia\",\"orientation\":\"v\",\"showlegend\":true,\"x\":{\"dtype\":\"f8\",\"bdata\":\"rkfhehSu7z+4HoXrUbjuPwrXo3A9Cu8\\u002fFK5H4XoU7j+4HoXrUbjuP1yPwvUoXO8\\u002fCtejcD0K7z\\u002f2KFyPwvXoPwAAAAAAAPA\\u002fCtejcD0K7z\\u002fD9Shcj8LtP1yPwvUoXO8\\u002fZmZmZmZm7j+amZmZmZnpPwAAAAAAAPA\\u002fAAAAAAAA8D8UrkfhehTuPwAAAAAAAPA\\u002fexSuR+F65D8AAAAAAADwPwrXo3A9Cu8\\u002fZmZmZmZm7j\\u002fD9Shcj8LtPwAAAAAAAPA\\u002fAAAAAAAA8D+4HoXrUbjuP1K4HoXrUdg\\u002fw\\u002fUoXI\\u002fC7T8UrkfhehTuPwrXo3A9Cu8\\u002fmpmZmZmZ6T9cj8L1KFzvP1yPwvUoXO8\\u002frkfhehSu7z\\u002fXo3A9CtfrP+xRuB6F6+E\\u002frkfhehSu7z8UrkfhehTuP7gehetRuO4\\u002fexSuR+F65D9mZmZmZmbuPwrXo3A9Cu8\\u002fZmZmZmZm7j8K16NwPQrnP4XrUbgehes\\u002fhetRuB6F4z9mZmZmZmbmP83MzMzMzOQ\\u002f\"},\"xaxis\":\"x\",\"y\":{\"dtype\":\"f8\",\"bdata\":\"H4XrUbieWkCuR+F6FJ5aQClcj8L1eFpASOF6FK5XWkBmZmZmZgZaQGZmZmZmlllAFK5H4Xr0WEAAAAAAAPBYQBSuR+F6tFhA7FG4HoUbV0DsUbgehctWQFK4HoXrwVZAUrgehethVkBSuB6F61FWQHE9CtejQFZAKVyPwvU4VkBI4XoUrjdWQBSuR+F6NFZAXI\\u002fC9Sj8VUA9CtejcO1VQIXrUbge5VVAhetRuB7lVUBI4XoUrqdVQNejcD0Kd1VApHA9CtczVUBmZmZmZuZUQEjhehSuh1RAMzMzMzODVEDNzMzMzGxUQClcj8L1aFRAj8L1KFw\\u002fVEBSuB6F6zFUQM3MzMzMLFRAw\\u002fUoXI8iVEBxPQrXowBUQAAAAAAAAFRA9ihcj8LFU0DNzMzMzKxTQClcj8L1qFNAj8L1KFyfU0CPwvUoXJ9TQFyPwvUobFNA16NwPQoXU0CPwvUoXA9TQArXo3A9mlJAhetRuB6VUkCuR+F6FG5PQB+F61G4fkVA\"},\"yaxis\":\"y\",\"type\":\"scatter\"},{\"hovertemplate\":\"Continent=Europe\\u003cbr\\u003eLiteracy Rate (%)=%{x}\\u003cbr\\u003eAverage IQ=%{y}\\u003cextra\\u003e\\u003c\\u002fextra\\u003e\",\"legendgroup\":\"Europe\",\"marker\":{\"color\":\"#EF553B\",\"symbol\":\"circle\"},\"mode\":\"markers\",\"name\":\"Europe\",\"orientation\":\"v\",\"showlegend\":true,\"x\":{\"dtype\":\"f8\",\"bdata\":\"AAAAAAAA8D8AAAAAAADwPwAAAAAAAPA\\u002frkfhehSu7z+uR+F6FK7vPwAAAAAAAPA\\u002fAAAAAAAA8D+uR+F6FK7vP65H4XoUru8\\u002frkfhehSu7z8AAAAAAADwP1yPwvUoXO8\\u002frkfhehSu7z+uR+F6FK7vP65H4XoUru8\\u002fAAAAAAAA8D+uR+F6FK7vP65H4XoUru8\\u002fAAAAAAAA8D8AAAAAAADwPwAAAAAAAPA\\u002frkfhehSu7z8AAAAAAADwP65H4XoUru8\\u002frkfhehSu7z8AAAAAAADwP65H4XoUru8\\u002fXI\\u002fC9Shc7z+uR+F6FK7vP2ZmZmZmZu4\\u002fFK5H4XoU7j9cj8L1KFzvP2ZmZmZmZu4\\u002fAAAAAAAA8D+uR+F6FK7vP1yPwvUoXO8\\u002fXI\\u002fC9Shc7z+uR+F6FK7vP65H4XoUru8\\u002fXI\\u002fC9Shc7z9cj8L1KFzvPw==\"},\"xaxis\":\"x\",\"y\":{\"dtype\":\"f8\",\"bdata\":\"ZmZmZmZmWUDNzMzMzExZQBSuR+F6RFlAj8L1KFwvWUCPwvUoXC9ZQK5H4XoULllASOF6FK73WECPwvUoXM9YQI\\u002fC9Shcz1hASOF6FK7HWEBmZmZmZqZYQLgehetRmFhAcT0K16OQWECF61G4HnVYQI\\u002fC9ShcX1hAuB6F61FIWEAAAAAAAEBYQFyPwvUoLFhAZmZmZmYWWEAUrkfhehRYQClcj8L1+FdAAAAAAADwV0DNzMzMzMxXQLgehetRyFdAexSuR+G6V0DD9Shcj7JXQB+F61G4jldAmpmZmZl5V0ApXI\\u002fC9VhXQOF6FK5HMVdA4XoUrkfRVkCPwvUoXL9WQOF6FK5HsVZAFK5H4XqEVkAfhetRuH5WQGZmZmZmZlZAw\\u002fUoXI8iVkC4HoXrUbhVQFK4HoXrcVVACtejcD16VEAAAAAAAHBUQA==\"},\"yaxis\":\"y\",\"type\":\"scatter\"},{\"hovertemplate\":\"Continent=North America\\u003cbr\\u003eLiteracy Rate (%)=%{x}\\u003cbr\\u003eAverage IQ=%{y}\\u003cextra\\u003e\\u003c\\u002fextra\\u003e\",\"legendgroup\":\"North America\",\"marker\":{\"color\":\"#00cc96\",\"symbol\":\"circle\"},\"mode\":\"markers\",\"name\":\"North America\",\"orientation\":\"v\",\"showlegend\":true,\"x\":{\"dtype\":\"f8\",\"bdata\":\"rkfhehSu7z+uR+F6FK7vP1yPwvUoXO8\\u002fZmZmZmZm7j8=\"},\"xaxis\":\"x\",\"y\":{\"dtype\":\"f8\",\"bdata\":\"4XoUrkfhWEDsUbgehVtYQB+F61G4XldAH4XrUbjuVUA=\"},\"yaxis\":\"y\",\"type\":\"scatter\"},{\"hovertemplate\":\"Continent=Oceania\\u003cbr\\u003eLiteracy Rate (%)=%{x}\\u003cbr\\u003eAverage IQ=%{y}\\u003cextra\\u003e\\u003c\\u002fextra\\u003e\",\"legendgroup\":\"Oceania\",\"marker\":{\"color\":\"#ab63fa\",\"symbol\":\"circle\"},\"mode\":\"markers\",\"name\":\"Oceania\",\"orientation\":\"v\",\"showlegend\":true,\"x\":{\"dtype\":\"f8\",\"bdata\":\"rkfhehSu7z+uR+F6FK7vPwrXo3A9Cu8\\u002fMzMzMzMz6z97FK5H4XrsPxSuR+F6FO4\\u002fXI\\u002fC9Shc7z\\u002fhehSuR+HqPwrXo3A9Cu8\\u002fKVyPwvUo5D8=\"},\"xaxis\":\"x\",\"y\":{\"dtype\":\"f8\",\"bdata\":\"j8L1KFzPWEAUrkfheqRYQHsUrkfheldAexSuR+F6V0A9CtejcP1UQD0K16Nw\\u002fVRAPQrXo3D9VEA9CtejcP1UQNejcD0KV1RAj8L1KFyfU0A=\"},\"yaxis\":\"y\",\"type\":\"scatter\"},{\"hovertemplate\":\"Continent=Europe\\u002fAsia\\u003cbr\\u003eLiteracy Rate (%)=%{x}\\u003cbr\\u003eAverage IQ=%{y}\\u003cextra\\u003e\\u003c\\u002fextra\\u003e\",\"legendgroup\":\"Europe\\u002fAsia\",\"marker\":{\"color\":\"#FFA15A\",\"symbol\":\"circle\"},\"mode\":\"markers\",\"name\":\"Europe\\u002fAsia\",\"orientation\":\"v\",\"showlegend\":true,\"x\":{\"dtype\":\"f8\",\"bdata\":\"AAAAAAAA8D+4HoXrUbjuPwAAAAAAAPA\\u002f\"},\"xaxis\":\"x\",\"y\":{\"dtype\":\"f8\",\"bdata\":\"w\\u002fUoXI8SWEAzMzMzM7NVQAAAAAAAIFVA\"},\"yaxis\":\"y\",\"type\":\"scatter\"},{\"hovertemplate\":\"Continent=Central America\\u003cbr\\u003eLiteracy Rate (%)=%{x}\\u003cbr\\u003eAverage IQ=%{y}\\u003cextra\\u003e\\u003c\\u002fextra\\u003e\",\"legendgroup\":\"Central America\",\"marker\":{\"color\":\"#19d3f3\",\"symbol\":\"circle\"},\"mode\":\"markers\",\"name\":\"Central America\",\"orientation\":\"v\",\"showlegend\":true,\"x\":{\"dtype\":\"f8\",\"bdata\":\"AAAAAAAA8D9cj8L1KFzvP7gehetRuO4\\u002frkfhehSu7z9cj8L1KFzvPwAAAAAAAPA\\u002frkfhehSu7z+F61G4HoXjP3E9CtejcO0\\u002fw\\u002fUoXI\\u002fC7T+4HoXrUbjuP2ZmZmZmZu4\\u002fXI\\u002fC9Shc7z97FK5H4XrsP83MzMzMzOw\\u002frkfhehSu7z8pXI\\u002fC9SjsPxSuR+F6FO4\\u002fuB6F61G47j+PwvUoXI\\u002fqPylcj8L1KOw\\u002fPQrXo3A96j9I4XoUrkfpPw==\"},\"xaxis\":\"x\",\"y\":{\"dtype\":\"f8\",\"bdata\":\"ZmZmZmbmVkD2KFyPwhVWQI\\u002fC9Shcv1VAuB6F61FoVUDD9ShcjxJVQJqZmZmZ+VRAj8L1KFyPVEBmZmZmZoZUQDMzMzMzg1RAj8L1KFx\\u002fVED2KFyPwtVTQAAAAAAAwFNAXI\\u002fC9SgsU0CF61G4HsVSQOxRuB6Fa1JAH4XrUbieUUC4HoXrUWhRQFK4HoXrgVBA9ihcj8K1T0BmZmZmZkZPQBSuR+F6FE9AuB6F61FYSkBcj8L1KNxHQA==\"},\"yaxis\":\"y\",\"type\":\"scatter\"},{\"hovertemplate\":\"Continent=South America\\u003cbr\\u003eLiteracy Rate (%)=%{x}\\u003cbr\\u003eAverage IQ=%{y}\\u003cextra\\u003e\\u003c\\u002fextra\\u003e\",\"legendgroup\":\"South America\",\"marker\":{\"color\":\"#FF6692\",\"symbol\":\"circle\"},\"mode\":\"markers\",\"name\":\"South America\",\"orientation\":\"v\",\"showlegend\":true,\"x\":{\"dtype\":\"f8\",\"bdata\":\"uB6F61G47j8K16NwPQrvP1yPwvUoXO8\\u002fXI\\u002fC9Shc7z+4HoXrUbjuP8P1KFyPwu0\\u002fKVyPwvUo7D9mZmZmZmbuP2ZmZmZmZu4\\u002fFK5H4XoU7j9mZmZmZmbuP2ZmZmZmZu4\\u002f\"},\"xaxis\":\"x\",\"y\":{\"dtype\":\"f8\",\"bdata\":\"w\\u002fUoXI+SVkApXI\\u002fC9fhVQPYoXI\\u002fC5VVAuB6F61GoVUDD9ShcjwJVQLgehetR2FRAH4XrUbjOVEC4HoXrUchUQI\\u002fC9Shcv1RAXI\\u002fC9ShcVEBxPQrXo5BTQFK4HoXrIVNA\"},\"yaxis\":\"y\",\"type\":\"scatter\"},{\"hovertemplate\":\"Continent=Africa\\u003cbr\\u003eLiteracy Rate (%)=%{x}\\u003cbr\\u003eAverage IQ=%{y}\\u003cextra\\u003e\\u003c\\u002fextra\\u003e\",\"legendgroup\":\"Africa\",\"marker\":{\"color\":\"#B6E880\",\"symbol\":\"circle\"},\"mode\":\"markers\",\"name\":\"Africa\",\"orientation\":\"v\",\"showlegend\":true,\"x\":{\"dtype\":\"f8\",\"bdata\":\"H4XrUbge7T8fhetRuB7tP+xRuB6F6+k\\u002fmpmZmZmZ2T\\u002fhehSuR+HiP2ZmZmZmZu4\\u002f7FG4HoXr4T\\u002f2KFyPwvXoP83MzMzMzOQ\\u002frkfhehSu5z9SuB6F61HoP5qZmZmZmek\\u002f9ihcj8L16D+4HoXrUbjmP5qZmZmZmek\\u002f16NwPQrX6z9SuB6F61HYP+F6FK5H4eI\\u002fMzMzMzMz6z9SuB6F61HIP7gehetRuOY\\u002fUrgehetR2D8fhetRuB7lPylcj8L1KOw\\u002fSOF6FK5H6T9mZmZmZmbuP9ejcD0K1+s\\u002frkfhehSu5z8K16NwPQrvPzMzMzMzM+s\\u002fXI\\u002fC9Shc3z\\u002fD9Shcj8LlPwAAAAAAAOg\\u002fMzMzMzMz4z9SuB6F61HYPwrXo3A9Cuc\\u002fH4XrUbge7T9xPQrXo3DtP6RwPQrXo+g\\u002fj8L1KFyP6j9I4XoUrkfpP65H4XoUrtc\\u002fcT0K16Nw5T8fhetRuB7VP6RwPQrXo+A\\u002fexSuR+F61D+kcD0K16PoP4XrUbgehds\\u002fMzMzMzMz0z+PwvUoXI\\u002fiP7gehetRuN4\\u002fuB6F61G43j8=\"},\"xaxis\":\"x\",\"y\":{\"dtype\":\"f8\",\"bdata\":\"pHA9CtejVUB7FK5H4TpUQK5H4XoUzlNASOF6FK63U0BI4XoUrrdTQHE9CtejsFNASOF6FK5XU0AUrkfhekRTQMP1KFyPMlNAexSuR+EaU0AUrkfhehRTQAAAAAAAAFNAzczMzMzMUkBmZmZmZsZSQM3MzMzMvFJAcT0K16OAUkAzMzMzM3NSQAAAAAAAIFJA9ihcj8IFUkAUrkfherRRQM3MzMzMfFFAPQrXo3BtUUDNzMzMzGxRQM3MzMzMXFFASOF6FK43UUBI4XoUrjdRQEjhehSuN1FA4XoUrkcxUUCPwvUoXC9RQOxRuB6FG1FAexSuR+EaUUAK16NwPRpRQHE9Ctej8FBAcT0K16PwUEB7FK5H4epQQFK4HoXrwVBAXI\\u002fC9SiMUECuR+F6FE5QQHsUrkfhOlBAXI\\u002fC9Sh8T0Bcj8L1KHxPQGZmZmZmRk9ACtejcD3qTUDhehSuR+FNQOF6FK5H4U1ArkfhehROTUAUrkfhehRNQBSuR+F6FE1APQrXo3C9SkDXo3A9CldKQClcj8L1iEZAKVyPwvWIRkA=\"},\"yaxis\":\"y\",\"type\":\"scatter\"}],                        {\"template\":{\"data\":{\"histogram2dcontour\":[{\"type\":\"histogram2dcontour\",\"colorbar\":{\"outlinewidth\":0,\"ticks\":\"\"},\"colorscale\":[[0.0,\"#0d0887\"],[0.1111111111111111,\"#46039f\"],[0.2222222222222222,\"#7201a8\"],[0.3333333333333333,\"#9c179e\"],[0.4444444444444444,\"#bd3786\"],[0.5555555555555556,\"#d8576b\"],[0.6666666666666666,\"#ed7953\"],[0.7777777777777778,\"#fb9f3a\"],[0.8888888888888888,\"#fdca26\"],[1.0,\"#f0f921\"]]}],\"choropleth\":[{\"type\":\"choropleth\",\"colorbar\":{\"outlinewidth\":0,\"ticks\":\"\"}}],\"histogram2d\":[{\"type\":\"histogram2d\",\"colorbar\":{\"outlinewidth\":0,\"ticks\":\"\"},\"colorscale\":[[0.0,\"#0d0887\"],[0.1111111111111111,\"#46039f\"],[0.2222222222222222,\"#7201a8\"],[0.3333333333333333,\"#9c179e\"],[0.4444444444444444,\"#bd3786\"],[0.5555555555555556,\"#d8576b\"],[0.6666666666666666,\"#ed7953\"],[0.7777777777777778,\"#fb9f3a\"],[0.8888888888888888,\"#fdca26\"],[1.0,\"#f0f921\"]]}],\"heatmap\":[{\"type\":\"heatmap\",\"colorbar\":{\"outlinewidth\":0,\"ticks\":\"\"},\"colorscale\":[[0.0,\"#0d0887\"],[0.1111111111111111,\"#46039f\"],[0.2222222222222222,\"#7201a8\"],[0.3333333333333333,\"#9c179e\"],[0.4444444444444444,\"#bd3786\"],[0.5555555555555556,\"#d8576b\"],[0.6666666666666666,\"#ed7953\"],[0.7777777777777778,\"#fb9f3a\"],[0.8888888888888888,\"#fdca26\"],[1.0,\"#f0f921\"]]}],\"contourcarpet\":[{\"type\":\"contourcarpet\",\"colorbar\":{\"outlinewidth\":0,\"ticks\":\"\"}}],\"contour\":[{\"type\":\"contour\",\"colorbar\":{\"outlinewidth\":0,\"ticks\":\"\"},\"colorscale\":[[0.0,\"#0d0887\"],[0.1111111111111111,\"#46039f\"],[0.2222222222222222,\"#7201a8\"],[0.3333333333333333,\"#9c179e\"],[0.4444444444444444,\"#bd3786\"],[0.5555555555555556,\"#d8576b\"],[0.6666666666666666,\"#ed7953\"],[0.7777777777777778,\"#fb9f3a\"],[0.8888888888888888,\"#fdca26\"],[1.0,\"#f0f921\"]]}],\"surface\":[{\"type\":\"surface\",\"colorbar\":{\"outlinewidth\":0,\"ticks\":\"\"},\"colorscale\":[[0.0,\"#0d0887\"],[0.1111111111111111,\"#46039f\"],[0.2222222222222222,\"#7201a8\"],[0.3333333333333333,\"#9c179e\"],[0.4444444444444444,\"#bd3786\"],[0.5555555555555556,\"#d8576b\"],[0.6666666666666666,\"#ed7953\"],[0.7777777777777778,\"#fb9f3a\"],[0.8888888888888888,\"#fdca26\"],[1.0,\"#f0f921\"]]}],\"mesh3d\":[{\"type\":\"mesh3d\",\"colorbar\":{\"outlinewidth\":0,\"ticks\":\"\"}}],\"scatter\":[{\"fillpattern\":{\"fillmode\":\"overlay\",\"size\":10,\"solidity\":0.2},\"type\":\"scatter\"}],\"parcoords\":[{\"type\":\"parcoords\",\"line\":{\"colorbar\":{\"outlinewidth\":0,\"ticks\":\"\"}}}],\"scatterpolargl\":[{\"type\":\"scatterpolargl\",\"marker\":{\"colorbar\":{\"outlinewidth\":0,\"ticks\":\"\"}}}],\"bar\":[{\"error_x\":{\"color\":\"#2a3f5f\"},\"error_y\":{\"color\":\"#2a3f5f\"},\"marker\":{\"line\":{\"color\":\"#E5ECF6\",\"width\":0.5},\"pattern\":{\"fillmode\":\"overlay\",\"size\":10,\"solidity\":0.2}},\"type\":\"bar\"}],\"scattergeo\":[{\"type\":\"scattergeo\",\"marker\":{\"colorbar\":{\"outlinewidth\":0,\"ticks\":\"\"}}}],\"scatterpolar\":[{\"type\":\"scatterpolar\",\"marker\":{\"colorbar\":{\"outlinewidth\":0,\"ticks\":\"\"}}}],\"histogram\":[{\"marker\":{\"pattern\":{\"fillmode\":\"overlay\",\"size\":10,\"solidity\":0.2}},\"type\":\"histogram\"}],\"scattergl\":[{\"type\":\"scattergl\",\"marker\":{\"colorbar\":{\"outlinewidth\":0,\"ticks\":\"\"}}}],\"scatter3d\":[{\"type\":\"scatter3d\",\"line\":{\"colorbar\":{\"outlinewidth\":0,\"ticks\":\"\"}},\"marker\":{\"colorbar\":{\"outlinewidth\":0,\"ticks\":\"\"}}}],\"scattermap\":[{\"type\":\"scattermap\",\"marker\":{\"colorbar\":{\"outlinewidth\":0,\"ticks\":\"\"}}}],\"scattermapbox\":[{\"type\":\"scattermapbox\",\"marker\":{\"colorbar\":{\"outlinewidth\":0,\"ticks\":\"\"}}}],\"scatterternary\":[{\"type\":\"scatterternary\",\"marker\":{\"colorbar\":{\"outlinewidth\":0,\"ticks\":\"\"}}}],\"scattercarpet\":[{\"type\":\"scattercarpet\",\"marker\":{\"colorbar\":{\"outlinewidth\":0,\"ticks\":\"\"}}}],\"carpet\":[{\"aaxis\":{\"endlinecolor\":\"#2a3f5f\",\"gridcolor\":\"white\",\"linecolor\":\"white\",\"minorgridcolor\":\"white\",\"startlinecolor\":\"#2a3f5f\"},\"baxis\":{\"endlinecolor\":\"#2a3f5f\",\"gridcolor\":\"white\",\"linecolor\":\"white\",\"minorgridcolor\":\"white\",\"startlinecolor\":\"#2a3f5f\"},\"type\":\"carpet\"}],\"table\":[{\"cells\":{\"fill\":{\"color\":\"#EBF0F8\"},\"line\":{\"color\":\"white\"}},\"header\":{\"fill\":{\"color\":\"#C8D4E3\"},\"line\":{\"color\":\"white\"}},\"type\":\"table\"}],\"barpolar\":[{\"marker\":{\"line\":{\"color\":\"#E5ECF6\",\"width\":0.5},\"pattern\":{\"fillmode\":\"overlay\",\"size\":10,\"solidity\":0.2}},\"type\":\"barpolar\"}],\"pie\":[{\"automargin\":true,\"type\":\"pie\"}]},\"layout\":{\"autotypenumbers\":\"strict\",\"colorway\":[\"#636efa\",\"#EF553B\",\"#00cc96\",\"#ab63fa\",\"#FFA15A\",\"#19d3f3\",\"#FF6692\",\"#B6E880\",\"#FF97FF\",\"#FECB52\"],\"font\":{\"color\":\"#2a3f5f\"},\"hovermode\":\"closest\",\"hoverlabel\":{\"align\":\"left\"},\"paper_bgcolor\":\"white\",\"plot_bgcolor\":\"#E5ECF6\",\"polar\":{\"bgcolor\":\"#E5ECF6\",\"angularaxis\":{\"gridcolor\":\"white\",\"linecolor\":\"white\",\"ticks\":\"\"},\"radialaxis\":{\"gridcolor\":\"white\",\"linecolor\":\"white\",\"ticks\":\"\"}},\"ternary\":{\"bgcolor\":\"#E5ECF6\",\"aaxis\":{\"gridcolor\":\"white\",\"linecolor\":\"white\",\"ticks\":\"\"},\"baxis\":{\"gridcolor\":\"white\",\"linecolor\":\"white\",\"ticks\":\"\"},\"caxis\":{\"gridcolor\":\"white\",\"linecolor\":\"white\",\"ticks\":\"\"}},\"coloraxis\":{\"colorbar\":{\"outlinewidth\":0,\"ticks\":\"\"}},\"colorscale\":{\"sequential\":[[0.0,\"#0d0887\"],[0.1111111111111111,\"#46039f\"],[0.2222222222222222,\"#7201a8\"],[0.3333333333333333,\"#9c179e\"],[0.4444444444444444,\"#bd3786\"],[0.5555555555555556,\"#d8576b\"],[0.6666666666666666,\"#ed7953\"],[0.7777777777777778,\"#fb9f3a\"],[0.8888888888888888,\"#fdca26\"],[1.0,\"#f0f921\"]],\"sequentialminus\":[[0.0,\"#0d0887\"],[0.1111111111111111,\"#46039f\"],[0.2222222222222222,\"#7201a8\"],[0.3333333333333333,\"#9c179e\"],[0.4444444444444444,\"#bd3786\"],[0.5555555555555556,\"#d8576b\"],[0.6666666666666666,\"#ed7953\"],[0.7777777777777778,\"#fb9f3a\"],[0.8888888888888888,\"#fdca26\"],[1.0,\"#f0f921\"]],\"diverging\":[[0,\"#8e0152\"],[0.1,\"#c51b7d\"],[0.2,\"#de77ae\"],[0.3,\"#f1b6da\"],[0.4,\"#fde0ef\"],[0.5,\"#f7f7f7\"],[0.6,\"#e6f5d0\"],[0.7,\"#b8e186\"],[0.8,\"#7fbc41\"],[0.9,\"#4d9221\"],[1,\"#276419\"]]},\"xaxis\":{\"gridcolor\":\"white\",\"linecolor\":\"white\",\"ticks\":\"\",\"title\":{\"standoff\":15},\"zerolinecolor\":\"white\",\"automargin\":true,\"zerolinewidth\":2},\"yaxis\":{\"gridcolor\":\"white\",\"linecolor\":\"white\",\"ticks\":\"\",\"title\":{\"standoff\":15},\"zerolinecolor\":\"white\",\"automargin\":true,\"zerolinewidth\":2},\"scene\":{\"xaxis\":{\"backgroundcolor\":\"#E5ECF6\",\"gridcolor\":\"white\",\"linecolor\":\"white\",\"showbackground\":true,\"ticks\":\"\",\"zerolinecolor\":\"white\",\"gridwidth\":2},\"yaxis\":{\"backgroundcolor\":\"#E5ECF6\",\"gridcolor\":\"white\",\"linecolor\":\"white\",\"showbackground\":true,\"ticks\":\"\",\"zerolinecolor\":\"white\",\"gridwidth\":2},\"zaxis\":{\"backgroundcolor\":\"#E5ECF6\",\"gridcolor\":\"white\",\"linecolor\":\"white\",\"showbackground\":true,\"ticks\":\"\",\"zerolinecolor\":\"white\",\"gridwidth\":2}},\"shapedefaults\":{\"line\":{\"color\":\"#2a3f5f\"}},\"annotationdefaults\":{\"arrowcolor\":\"#2a3f5f\",\"arrowhead\":0,\"arrowwidth\":1},\"geo\":{\"bgcolor\":\"white\",\"landcolor\":\"#E5ECF6\",\"subunitcolor\":\"white\",\"showland\":true,\"showlakes\":true,\"lakecolor\":\"white\"},\"title\":{\"x\":0.05},\"mapbox\":{\"style\":\"light\"}}},\"xaxis\":{\"anchor\":\"y\",\"domain\":[0.0,1.0],\"title\":{\"text\":\"Literacy Rate (%)\"}},\"yaxis\":{\"anchor\":\"x\",\"domain\":[0.0,1.0],\"title\":{\"text\":\"Average IQ\"}},\"legend\":{\"title\":{\"text\":\"Continent\"},\"tracegroupgap\":0},\"title\":{\"text\":\"Average IQ vs Literacy Rate\"}},                        {\"responsive\": true}                    ).then(function(){\n",
       "                            \n",
       "var gd = document.getElementById('f606295d-9046-4e46-b851-15a61138ac8b');\n",
       "var x = new MutationObserver(function (mutations, observer) {{\n",
       "        var display = window.getComputedStyle(gd).display;\n",
       "        if (!display || display === 'none') {{\n",
       "            console.log([gd, 'removed!']);\n",
       "            Plotly.purge(gd);\n",
       "            observer.disconnect();\n",
       "        }}\n",
       "}});\n",
       "\n",
       "// Listen for the removal of the full notebook cells\n",
       "var notebookContainer = gd.closest('#notebook-container');\n",
       "if (notebookContainer) {{\n",
       "    x.observe(notebookContainer, {childList: true});\n",
       "}}\n",
       "\n",
       "// Listen for the clearing of the current output cell\n",
       "var outputEl = gd.closest('.output');\n",
       "if (outputEl) {{\n",
       "    x.observe(outputEl, {childList: true});\n",
       "}}\n",
       "\n",
       "                        })                };            </script>        </div>"
      ]
     },
     "metadata": {},
     "output_type": "display_data"
    },
    {
     "data": {
      "application/vnd.plotly.v1+json": {
       "config": {
        "plotlyServerURL": "https://plot.ly"
       },
       "data": [
        {
         "hovertemplate": "Continent=Asia<br>Mean Years of Schooling=%{x}<br>Average IQ=%{y}<extra></extra>",
         "legendgroup": "Asia",
         "marker": {
          "color": "#636efa",
          "symbol": "circle"
         },
         "mode": "markers",
         "name": "Asia",
         "orientation": "v",
         "showlegend": true,
         "type": "scatter",
         "x": {
          "bdata": "zczMzMzMKkDNzMzMzMwiQM3MzMzMzCdAZmZmZmZmKEBmZmZmZmYeQAAAAAAAAClAzczMzMzMIkBmZmZmZmYUQM3MzMzMzCJAmpmZmZmZKkCamZmZmZkZQM3MzMzMzCJAzczMzMzMIECamZmZmZkfQM3MzMzMzCdAmpmZmZmZKEBmZmZmZmYhQJqZmZmZmSZAzczMzMzMFECamZmZmZkmQGZmZmZmZiJAMzMzMzMzJUCamZmZmZklQJqZmZmZmSZAAAAAAAAAJUAAAAAAAAAmQAAAAAAAAAhAZmZmZmZmKUBmZmZmZmYhQAAAAAAAACJAmpmZmZmZFUAAAAAAAAAkQM3MzMzMzCRAMzMzMzMzHUAzMzMzMzMlQAAAAAAAABJAzczMzMzMJkBmZmZmZmYnQDMzMzMzMx1AzczMzMzMIkAzMzMzMzMhQM3MzMzMzCNAmpmZmZmZJkDNzMzMzMwaQGZmZmZmZhRAmpmZmZmZHUCamZmZmZkJQGZmZmZmZhRA",
          "dtype": "f8"
         },
         "xaxis": "x",
         "y": {
          "bdata": "H4XrUbieWkCuR+F6FJ5aQClcj8L1eFpASOF6FK5XWkBmZmZmZgZaQGZmZmZmlllAFK5H4Xr0WEAAAAAAAPBYQBSuR+F6tFhA7FG4HoUbV0DsUbgehctWQFK4HoXrwVZAUrgehethVkBSuB6F61FWQHE9CtejQFZAKVyPwvU4VkBI4XoUrjdWQBSuR+F6NFZAXI/C9Sj8VUA9CtejcO1VQIXrUbge5VVAhetRuB7lVUBI4XoUrqdVQNejcD0Kd1VApHA9CtczVUBmZmZmZuZUQEjhehSuh1RAMzMzMzODVEDNzMzMzGxUQClcj8L1aFRAj8L1KFw/VEBSuB6F6zFUQM3MzMzMLFRAw/UoXI8iVEBxPQrXowBUQAAAAAAAAFRA9ihcj8LFU0DNzMzMzKxTQClcj8L1qFNAj8L1KFyfU0CPwvUoXJ9TQFyPwvUobFNA16NwPQoXU0CPwvUoXA9TQArXo3A9mlJAhetRuB6VUkCuR+F6FG5PQB+F61G4fkVA",
          "dtype": "f8"
         },
         "yaxis": "y"
        },
        {
         "hovertemplate": "Continent=Europe<br>Mean Years of Schooling=%{x}<br>Average IQ=%{y}<extra></extra>",
         "legendgroup": "Europe",
         "marker": {
          "color": "#EF553B",
          "symbol": "circle"
         },
         "mode": "markers",
         "name": "Europe",
         "orientation": "v",
         "showlegend": true,
         "type": "scatter",
         "x": {
          "bdata": "MzMzMzMzKEDNzMzMzMwpQAAAAAAAAClAMzMzMzMzLEAzMzMzMzMpQAAAAAAAACtAAAAAAAAAKkBmZmZmZmYoQM3MzMzMzCtAzczMzMzMKkCamZmZmZkpQJqZmZmZmShAmpmZmZmZK0AAAAAAAAAqQM3MzMzMzChAAAAAAAAAKkAzMzMzMzMpQDMzMzMzMydAZmZmZmZmKkDNzMzMzMwpQAAAAAAAACtAZmZmZmZmKEAzMzMzMzMlQDMzMzMzMydAzczMzMzMKUCamZmZmZkqQGZmZmZmZiVAMzMzMzMzJUDNzMzMzMwoQDMzMzMzMyNAZmZmZmZmKEDNzMzMzMwmQM3MzMzMzCZAMzMzMzMzJkCamZmZmZknQM3MzMzMzCZAAAAAAAAAJUCamZmZmZkmQGZmZmZmZihAZmZmZmZmJECamZmZmZkmQA==",
          "dtype": "f8"
         },
         "xaxis": "x",
         "y": {
          "bdata": "ZmZmZmZmWUDNzMzMzExZQBSuR+F6RFlAj8L1KFwvWUCPwvUoXC9ZQK5H4XoULllASOF6FK73WECPwvUoXM9YQI/C9Shcz1hASOF6FK7HWEBmZmZmZqZYQLgehetRmFhAcT0K16OQWECF61G4HnVYQI/C9ShcX1hAuB6F61FIWEAAAAAAAEBYQFyPwvUoLFhAZmZmZmYWWEAUrkfhehRYQClcj8L1+FdAAAAAAADwV0DNzMzMzMxXQLgehetRyFdAexSuR+G6V0DD9Shcj7JXQB+F61G4jldAmpmZmZl5V0ApXI/C9VhXQOF6FK5HMVdA4XoUrkfRVkCPwvUoXL9WQOF6FK5HsVZAFK5H4XqEVkAfhetRuH5WQGZmZmZmZlZAw/UoXI8iVkC4HoXrUbhVQFK4HoXrcVVACtejcD16VEAAAAAAAHBUQA==",
          "dtype": "f8"
         },
         "yaxis": "y"
        },
        {
         "hovertemplate": "Continent=North America<br>Mean Years of Schooling=%{x}<br>Average IQ=%{y}<extra></extra>",
         "legendgroup": "North America",
         "marker": {
          "color": "#00cc96",
          "symbol": "circle"
         },
         "mode": "markers",
         "name": "North America",
         "orientation": "v",
         "showlegend": true,
         "type": "scatter",
         "x": {
          "bdata": "mpmZmZmZK0BmZmZmZmYrQM3MzMzMzCJAZmZmZmZmIkA=",
          "dtype": "f8"
         },
         "xaxis": "x",
         "y": {
          "bdata": "4XoUrkfhWEDsUbgehVtYQB+F61G4XldAH4XrUbjuVUA=",
          "dtype": "f8"
         },
         "yaxis": "y"
        },
        {
         "hovertemplate": "Continent=Oceania<br>Mean Years of Schooling=%{x}<br>Average IQ=%{y}<extra></extra>",
         "legendgroup": "Oceania",
         "marker": {
          "color": "#ab63fa",
          "symbol": "circle"
         },
         "mode": "markers",
         "name": "Oceania",
         "orientation": "v",
         "showlegend": true,
         "type": "scatter",
         "x": {
          "bdata": "ZmZmZmZmKUDNzMzMzMwpQM3MzMzMzCJAZmZmZmZmHEAzMzMzMzMfQM3MzMzMzCVAzczMzMzMJUDNzMzMzMwWQM3MzMzMzCJAzczMzMzMEkA=",
          "dtype": "f8"
         },
         "xaxis": "x",
         "y": {
          "bdata": "j8L1KFzPWEAUrkfheqRYQHsUrkfheldAexSuR+F6V0A9CtejcP1UQD0K16Nw/VRAPQrXo3D9VEA9CtejcP1UQNejcD0KV1RAj8L1KFyfU0A=",
          "dtype": "f8"
         },
         "yaxis": "y"
        },
        {
         "hovertemplate": "Continent=Europe/Asia<br>Mean Years of Schooling=%{x}<br>Average IQ=%{y}<extra></extra>",
         "legendgroup": "Europe/Asia",
         "marker": {
          "color": "#FFA15A",
          "symbol": "circle"
         },
         "mode": "markers",
         "name": "Europe/Asia",
         "orientation": "v",
         "showlegend": true,
         "type": "scatter",
         "x": {
          "bdata": "mpmZmZmZKUAzMzMzMzMhQJqZmZmZmSlA",
          "dtype": "f8"
         },
         "xaxis": "x",
         "y": {
          "bdata": "w/UoXI8SWEAzMzMzM7NVQAAAAAAAIFVA",
          "dtype": "f8"
         },
         "yaxis": "y"
        },
        {
         "hovertemplate": "Continent=Central America<br>Mean Years of Schooling=%{x}<br>Average IQ=%{y}<extra></extra>",
         "legendgroup": "Central America",
         "marker": {
          "color": "#19d3f3",
          "symbol": "circle"
         },
         "mode": "markers",
         "name": "Central America",
         "orientation": "v",
         "showlegend": true,
         "type": "scatter",
         "x": {
          "bdata": "zczMzMzMI0CamZmZmZkhQDMzMzMzMylAMzMzMzMzJ0DNzMzMzMwiQAAAAAAAAClAzczMzMzMIkBmZmZmZmYWQJqZmZmZmSJAzczMzMzMIkAAAAAAAAAiQAAAAAAAACVAzczMzMzMIkBmZmZmZmYiQAAAAAAAACFAmpmZmZmZIkDNzMzMzMwcQDMzMzMzMyBAmpmZmZmZJUCamZmZmZkhQGZmZmZmZhxAZmZmZmZmHEDNzMzMzMwWQA==",
          "dtype": "f8"
         },
         "xaxis": "x",
         "y": {
          "bdata": "ZmZmZmbmVkD2KFyPwhVWQI/C9Shcv1VAuB6F61FoVUDD9ShcjxJVQJqZmZmZ+VRAj8L1KFyPVEBmZmZmZoZUQDMzMzMzg1RAj8L1KFx/VED2KFyPwtVTQAAAAAAAwFNAXI/C9SgsU0CF61G4HsVSQOxRuB6Fa1JAH4XrUbieUUC4HoXrUWhRQFK4HoXrgVBA9ihcj8K1T0BmZmZmZkZPQBSuR+F6FE9AuB6F61FYSkBcj8L1KNxHQA==",
          "dtype": "f8"
         },
         "yaxis": "y"
        },
        {
         "hovertemplate": "Continent=South America<br>Mean Years of Schooling=%{x}<br>Average IQ=%{y}<extra></extra>",
         "legendgroup": "South America",
         "marker": {
          "color": "#FF6692",
          "symbol": "circle"
         },
         "mode": "markers",
         "name": "South America",
         "orientation": "v",
         "showlegend": true,
         "type": "scatter",
         "x": {
          "bdata": "mpmZmZmZI0DNzMzMzMwlQAAAAAAAACJAMzMzMzMzJkDNzMzMzMwhQDMzMzMzMyBAMzMzMzMzIUDNzMzMzMwhQDMzMzMzMyZAzczMzMzMI0CamZmZmZkhQJqZmZmZmSNA",
          "dtype": "f8"
         },
         "xaxis": "x",
         "y": {
          "bdata": "w/UoXI+SVkApXI/C9fhVQPYoXI/C5VVAuB6F61GoVUDD9ShcjwJVQLgehetR2FRAH4XrUbjOVEC4HoXrUchUQI/C9Shcv1RAXI/C9ShcVEBxPQrXo5BTQFK4HoXrIVNA",
          "dtype": "f8"
         },
         "yaxis": "y"
        },
        {
         "hovertemplate": "Continent=Africa<br>Mean Years of Schooling=%{x}<br>Average IQ=%{y}<extra></extra>",
         "legendgroup": "Africa",
         "marker": {
          "color": "#B6E880",
          "symbol": "circle"
         },
         "mode": "markers",
         "name": "Africa",
         "orientation": "v",
         "showlegend": true,
         "type": "scatter",
         "x": {
          "bdata": "zczMzMzMJEBmZmZmZmYeQJqZmZmZmR1AzczMzMzMBEBmZmZmZmYOQJqZmZmZmSRAMzMzMzMzB0BmZmZmZmYUQGZmZmZmZhRAzczMzMzMFkAzMzMzMzMjQDMzMzMzMyBAzczMzMzMGkCamZmZmZkVQJqZmZmZmRlAZmZmZmZmIUDNzMzMzMwAQJqZmZmZmQlAzczMzMzMCEDNzMzMzMwAQJqZmZmZmRFAMzMzMzMzEUAAAAAAAAASQJqZmZmZmSRAAAAAAAAAGEDNzMzMzMwmQGZmZmZmZhZAmpmZmZmZE0DNzMzMzMwiQM3MzMzMzBxAmpmZmZmZCUBmZmZmZmYQQM3MzMzMzBhAzczMzMzMHEDNzMzMzMwiQJqZmZmZmRdAzczMzMzMHEDNzMzMzMwYQM3MzMzMzBhAzczMzMzMIkAAAAAAAAAcQDMzMzMzMxFAAAAAAAAAFEBmZmZmZmYCQJqZmZmZmRNAzczMzMzMFkCamZmZmZkgQM3MzMzMzCJAmpmZmZmZAUBmZmZmZmYSQGZmZmZmZhRAZmZmZmZmEkA=",
          "dtype": "f8"
         },
         "xaxis": "x",
         "y": {
          "bdata": "pHA9CtejVUB7FK5H4TpUQK5H4XoUzlNASOF6FK63U0BI4XoUrrdTQHE9CtejsFNASOF6FK5XU0AUrkfhekRTQMP1KFyPMlNAexSuR+EaU0AUrkfhehRTQAAAAAAAAFNAzczMzMzMUkBmZmZmZsZSQM3MzMzMvFJAcT0K16OAUkAzMzMzM3NSQAAAAAAAIFJA9ihcj8IFUkAUrkfherRRQM3MzMzMfFFAPQrXo3BtUUDNzMzMzGxRQM3MzMzMXFFASOF6FK43UUBI4XoUrjdRQEjhehSuN1FA4XoUrkcxUUCPwvUoXC9RQOxRuB6FG1FAexSuR+EaUUAK16NwPRpRQHE9Ctej8FBAcT0K16PwUEB7FK5H4epQQFK4HoXrwVBAXI/C9SiMUECuR+F6FE5QQHsUrkfhOlBAXI/C9Sh8T0Bcj8L1KHxPQGZmZmZmRk9ACtejcD3qTUDhehSuR+FNQOF6FK5H4U1ArkfhehROTUAUrkfhehRNQBSuR+F6FE1APQrXo3C9SkDXo3A9CldKQClcj8L1iEZAKVyPwvWIRkA=",
          "dtype": "f8"
         },
         "yaxis": "y"
        }
       ],
       "layout": {
        "legend": {
         "title": {
          "text": "Continent"
         },
         "tracegroupgap": 0
        },
        "template": {
         "data": {
          "bar": [
           {
            "error_x": {
             "color": "#2a3f5f"
            },
            "error_y": {
             "color": "#2a3f5f"
            },
            "marker": {
             "line": {
              "color": "#E5ECF6",
              "width": 0.5
             },
             "pattern": {
              "fillmode": "overlay",
              "size": 10,
              "solidity": 0.2
             }
            },
            "type": "bar"
           }
          ],
          "barpolar": [
           {
            "marker": {
             "line": {
              "color": "#E5ECF6",
              "width": 0.5
             },
             "pattern": {
              "fillmode": "overlay",
              "size": 10,
              "solidity": 0.2
             }
            },
            "type": "barpolar"
           }
          ],
          "carpet": [
           {
            "aaxis": {
             "endlinecolor": "#2a3f5f",
             "gridcolor": "white",
             "linecolor": "white",
             "minorgridcolor": "white",
             "startlinecolor": "#2a3f5f"
            },
            "baxis": {
             "endlinecolor": "#2a3f5f",
             "gridcolor": "white",
             "linecolor": "white",
             "minorgridcolor": "white",
             "startlinecolor": "#2a3f5f"
            },
            "type": "carpet"
           }
          ],
          "choropleth": [
           {
            "colorbar": {
             "outlinewidth": 0,
             "ticks": ""
            },
            "type": "choropleth"
           }
          ],
          "contour": [
           {
            "colorbar": {
             "outlinewidth": 0,
             "ticks": ""
            },
            "colorscale": [
             [
              0,
              "#0d0887"
             ],
             [
              0.1111111111111111,
              "#46039f"
             ],
             [
              0.2222222222222222,
              "#7201a8"
             ],
             [
              0.3333333333333333,
              "#9c179e"
             ],
             [
              0.4444444444444444,
              "#bd3786"
             ],
             [
              0.5555555555555556,
              "#d8576b"
             ],
             [
              0.6666666666666666,
              "#ed7953"
             ],
             [
              0.7777777777777778,
              "#fb9f3a"
             ],
             [
              0.8888888888888888,
              "#fdca26"
             ],
             [
              1,
              "#f0f921"
             ]
            ],
            "type": "contour"
           }
          ],
          "contourcarpet": [
           {
            "colorbar": {
             "outlinewidth": 0,
             "ticks": ""
            },
            "type": "contourcarpet"
           }
          ],
          "heatmap": [
           {
            "colorbar": {
             "outlinewidth": 0,
             "ticks": ""
            },
            "colorscale": [
             [
              0,
              "#0d0887"
             ],
             [
              0.1111111111111111,
              "#46039f"
             ],
             [
              0.2222222222222222,
              "#7201a8"
             ],
             [
              0.3333333333333333,
              "#9c179e"
             ],
             [
              0.4444444444444444,
              "#bd3786"
             ],
             [
              0.5555555555555556,
              "#d8576b"
             ],
             [
              0.6666666666666666,
              "#ed7953"
             ],
             [
              0.7777777777777778,
              "#fb9f3a"
             ],
             [
              0.8888888888888888,
              "#fdca26"
             ],
             [
              1,
              "#f0f921"
             ]
            ],
            "type": "heatmap"
           }
          ],
          "histogram": [
           {
            "marker": {
             "pattern": {
              "fillmode": "overlay",
              "size": 10,
              "solidity": 0.2
             }
            },
            "type": "histogram"
           }
          ],
          "histogram2d": [
           {
            "colorbar": {
             "outlinewidth": 0,
             "ticks": ""
            },
            "colorscale": [
             [
              0,
              "#0d0887"
             ],
             [
              0.1111111111111111,
              "#46039f"
             ],
             [
              0.2222222222222222,
              "#7201a8"
             ],
             [
              0.3333333333333333,
              "#9c179e"
             ],
             [
              0.4444444444444444,
              "#bd3786"
             ],
             [
              0.5555555555555556,
              "#d8576b"
             ],
             [
              0.6666666666666666,
              "#ed7953"
             ],
             [
              0.7777777777777778,
              "#fb9f3a"
             ],
             [
              0.8888888888888888,
              "#fdca26"
             ],
             [
              1,
              "#f0f921"
             ]
            ],
            "type": "histogram2d"
           }
          ],
          "histogram2dcontour": [
           {
            "colorbar": {
             "outlinewidth": 0,
             "ticks": ""
            },
            "colorscale": [
             [
              0,
              "#0d0887"
             ],
             [
              0.1111111111111111,
              "#46039f"
             ],
             [
              0.2222222222222222,
              "#7201a8"
             ],
             [
              0.3333333333333333,
              "#9c179e"
             ],
             [
              0.4444444444444444,
              "#bd3786"
             ],
             [
              0.5555555555555556,
              "#d8576b"
             ],
             [
              0.6666666666666666,
              "#ed7953"
             ],
             [
              0.7777777777777778,
              "#fb9f3a"
             ],
             [
              0.8888888888888888,
              "#fdca26"
             ],
             [
              1,
              "#f0f921"
             ]
            ],
            "type": "histogram2dcontour"
           }
          ],
          "mesh3d": [
           {
            "colorbar": {
             "outlinewidth": 0,
             "ticks": ""
            },
            "type": "mesh3d"
           }
          ],
          "parcoords": [
           {
            "line": {
             "colorbar": {
              "outlinewidth": 0,
              "ticks": ""
             }
            },
            "type": "parcoords"
           }
          ],
          "pie": [
           {
            "automargin": true,
            "type": "pie"
           }
          ],
          "scatter": [
           {
            "fillpattern": {
             "fillmode": "overlay",
             "size": 10,
             "solidity": 0.2
            },
            "type": "scatter"
           }
          ],
          "scatter3d": [
           {
            "line": {
             "colorbar": {
              "outlinewidth": 0,
              "ticks": ""
             }
            },
            "marker": {
             "colorbar": {
              "outlinewidth": 0,
              "ticks": ""
             }
            },
            "type": "scatter3d"
           }
          ],
          "scattercarpet": [
           {
            "marker": {
             "colorbar": {
              "outlinewidth": 0,
              "ticks": ""
             }
            },
            "type": "scattercarpet"
           }
          ],
          "scattergeo": [
           {
            "marker": {
             "colorbar": {
              "outlinewidth": 0,
              "ticks": ""
             }
            },
            "type": "scattergeo"
           }
          ],
          "scattergl": [
           {
            "marker": {
             "colorbar": {
              "outlinewidth": 0,
              "ticks": ""
             }
            },
            "type": "scattergl"
           }
          ],
          "scattermap": [
           {
            "marker": {
             "colorbar": {
              "outlinewidth": 0,
              "ticks": ""
             }
            },
            "type": "scattermap"
           }
          ],
          "scattermapbox": [
           {
            "marker": {
             "colorbar": {
              "outlinewidth": 0,
              "ticks": ""
             }
            },
            "type": "scattermapbox"
           }
          ],
          "scatterpolar": [
           {
            "marker": {
             "colorbar": {
              "outlinewidth": 0,
              "ticks": ""
             }
            },
            "type": "scatterpolar"
           }
          ],
          "scatterpolargl": [
           {
            "marker": {
             "colorbar": {
              "outlinewidth": 0,
              "ticks": ""
             }
            },
            "type": "scatterpolargl"
           }
          ],
          "scatterternary": [
           {
            "marker": {
             "colorbar": {
              "outlinewidth": 0,
              "ticks": ""
             }
            },
            "type": "scatterternary"
           }
          ],
          "surface": [
           {
            "colorbar": {
             "outlinewidth": 0,
             "ticks": ""
            },
            "colorscale": [
             [
              0,
              "#0d0887"
             ],
             [
              0.1111111111111111,
              "#46039f"
             ],
             [
              0.2222222222222222,
              "#7201a8"
             ],
             [
              0.3333333333333333,
              "#9c179e"
             ],
             [
              0.4444444444444444,
              "#bd3786"
             ],
             [
              0.5555555555555556,
              "#d8576b"
             ],
             [
              0.6666666666666666,
              "#ed7953"
             ],
             [
              0.7777777777777778,
              "#fb9f3a"
             ],
             [
              0.8888888888888888,
              "#fdca26"
             ],
             [
              1,
              "#f0f921"
             ]
            ],
            "type": "surface"
           }
          ],
          "table": [
           {
            "cells": {
             "fill": {
              "color": "#EBF0F8"
             },
             "line": {
              "color": "white"
             }
            },
            "header": {
             "fill": {
              "color": "#C8D4E3"
             },
             "line": {
              "color": "white"
             }
            },
            "type": "table"
           }
          ]
         },
         "layout": {
          "annotationdefaults": {
           "arrowcolor": "#2a3f5f",
           "arrowhead": 0,
           "arrowwidth": 1
          },
          "autotypenumbers": "strict",
          "coloraxis": {
           "colorbar": {
            "outlinewidth": 0,
            "ticks": ""
           }
          },
          "colorscale": {
           "diverging": [
            [
             0,
             "#8e0152"
            ],
            [
             0.1,
             "#c51b7d"
            ],
            [
             0.2,
             "#de77ae"
            ],
            [
             0.3,
             "#f1b6da"
            ],
            [
             0.4,
             "#fde0ef"
            ],
            [
             0.5,
             "#f7f7f7"
            ],
            [
             0.6,
             "#e6f5d0"
            ],
            [
             0.7,
             "#b8e186"
            ],
            [
             0.8,
             "#7fbc41"
            ],
            [
             0.9,
             "#4d9221"
            ],
            [
             1,
             "#276419"
            ]
           ],
           "sequential": [
            [
             0,
             "#0d0887"
            ],
            [
             0.1111111111111111,
             "#46039f"
            ],
            [
             0.2222222222222222,
             "#7201a8"
            ],
            [
             0.3333333333333333,
             "#9c179e"
            ],
            [
             0.4444444444444444,
             "#bd3786"
            ],
            [
             0.5555555555555556,
             "#d8576b"
            ],
            [
             0.6666666666666666,
             "#ed7953"
            ],
            [
             0.7777777777777778,
             "#fb9f3a"
            ],
            [
             0.8888888888888888,
             "#fdca26"
            ],
            [
             1,
             "#f0f921"
            ]
           ],
           "sequentialminus": [
            [
             0,
             "#0d0887"
            ],
            [
             0.1111111111111111,
             "#46039f"
            ],
            [
             0.2222222222222222,
             "#7201a8"
            ],
            [
             0.3333333333333333,
             "#9c179e"
            ],
            [
             0.4444444444444444,
             "#bd3786"
            ],
            [
             0.5555555555555556,
             "#d8576b"
            ],
            [
             0.6666666666666666,
             "#ed7953"
            ],
            [
             0.7777777777777778,
             "#fb9f3a"
            ],
            [
             0.8888888888888888,
             "#fdca26"
            ],
            [
             1,
             "#f0f921"
            ]
           ]
          },
          "colorway": [
           "#636efa",
           "#EF553B",
           "#00cc96",
           "#ab63fa",
           "#FFA15A",
           "#19d3f3",
           "#FF6692",
           "#B6E880",
           "#FF97FF",
           "#FECB52"
          ],
          "font": {
           "color": "#2a3f5f"
          },
          "geo": {
           "bgcolor": "white",
           "lakecolor": "white",
           "landcolor": "#E5ECF6",
           "showlakes": true,
           "showland": true,
           "subunitcolor": "white"
          },
          "hoverlabel": {
           "align": "left"
          },
          "hovermode": "closest",
          "mapbox": {
           "style": "light"
          },
          "paper_bgcolor": "white",
          "plot_bgcolor": "#E5ECF6",
          "polar": {
           "angularaxis": {
            "gridcolor": "white",
            "linecolor": "white",
            "ticks": ""
           },
           "bgcolor": "#E5ECF6",
           "radialaxis": {
            "gridcolor": "white",
            "linecolor": "white",
            "ticks": ""
           }
          },
          "scene": {
           "xaxis": {
            "backgroundcolor": "#E5ECF6",
            "gridcolor": "white",
            "gridwidth": 2,
            "linecolor": "white",
            "showbackground": true,
            "ticks": "",
            "zerolinecolor": "white"
           },
           "yaxis": {
            "backgroundcolor": "#E5ECF6",
            "gridcolor": "white",
            "gridwidth": 2,
            "linecolor": "white",
            "showbackground": true,
            "ticks": "",
            "zerolinecolor": "white"
           },
           "zaxis": {
            "backgroundcolor": "#E5ECF6",
            "gridcolor": "white",
            "gridwidth": 2,
            "linecolor": "white",
            "showbackground": true,
            "ticks": "",
            "zerolinecolor": "white"
           }
          },
          "shapedefaults": {
           "line": {
            "color": "#2a3f5f"
           }
          },
          "ternary": {
           "aaxis": {
            "gridcolor": "white",
            "linecolor": "white",
            "ticks": ""
           },
           "baxis": {
            "gridcolor": "white",
            "linecolor": "white",
            "ticks": ""
           },
           "bgcolor": "#E5ECF6",
           "caxis": {
            "gridcolor": "white",
            "linecolor": "white",
            "ticks": ""
           }
          },
          "title": {
           "x": 0.05
          },
          "xaxis": {
           "automargin": true,
           "gridcolor": "white",
           "linecolor": "white",
           "ticks": "",
           "title": {
            "standoff": 15
           },
           "zerolinecolor": "white",
           "zerolinewidth": 2
          },
          "yaxis": {
           "automargin": true,
           "gridcolor": "white",
           "linecolor": "white",
           "ticks": "",
           "title": {
            "standoff": 15
           },
           "zerolinecolor": "white",
           "zerolinewidth": 2
          }
         }
        },
        "title": {
         "text": "Average IQ vs Mean Years of Schooling (2021)"
        },
        "xaxis": {
         "anchor": "y",
         "domain": [
          0,
          1
         ],
         "title": {
          "text": "Mean Years of Schooling"
         }
        },
        "yaxis": {
         "anchor": "x",
         "domain": [
          0,
          1
         ],
         "title": {
          "text": "Average IQ"
         }
        }
       }
      },
      "text/html": [
       "<div>            <script src=\"https://cdnjs.cloudflare.com/ajax/libs/mathjax/2.7.5/MathJax.js?config=TeX-AMS-MML_SVG\"></script><script type=\"text/javascript\">if (window.MathJax && window.MathJax.Hub && window.MathJax.Hub.Config) {window.MathJax.Hub.Config({SVG: {font: \"STIX-Web\"}});}</script>                <script type=\"text/javascript\">window.PlotlyConfig = {MathJaxConfig: 'local'};</script>\n",
       "        <script charset=\"utf-8\" src=\"https://cdn.plot.ly/plotly-3.0.0.min.js\"></script>                <div id=\"b8167843-0ddf-43b3-af13-d7855c1164f3\" class=\"plotly-graph-div\" style=\"height:525px; width:100%;\"></div>            <script type=\"text/javascript\">                window.PLOTLYENV=window.PLOTLYENV || {};                                if (document.getElementById(\"b8167843-0ddf-43b3-af13-d7855c1164f3\")) {                    Plotly.newPlot(                        \"b8167843-0ddf-43b3-af13-d7855c1164f3\",                        [{\"hovertemplate\":\"Continent=Asia\\u003cbr\\u003eMean Years of Schooling=%{x}\\u003cbr\\u003eAverage IQ=%{y}\\u003cextra\\u003e\\u003c\\u002fextra\\u003e\",\"legendgroup\":\"Asia\",\"marker\":{\"color\":\"#636efa\",\"symbol\":\"circle\"},\"mode\":\"markers\",\"name\":\"Asia\",\"orientation\":\"v\",\"showlegend\":true,\"x\":{\"dtype\":\"f8\",\"bdata\":\"zczMzMzMKkDNzMzMzMwiQM3MzMzMzCdAZmZmZmZmKEBmZmZmZmYeQAAAAAAAAClAzczMzMzMIkBmZmZmZmYUQM3MzMzMzCJAmpmZmZmZKkCamZmZmZkZQM3MzMzMzCJAzczMzMzMIECamZmZmZkfQM3MzMzMzCdAmpmZmZmZKEBmZmZmZmYhQJqZmZmZmSZAzczMzMzMFECamZmZmZkmQGZmZmZmZiJAMzMzMzMzJUCamZmZmZklQJqZmZmZmSZAAAAAAAAAJUAAAAAAAAAmQAAAAAAAAAhAZmZmZmZmKUBmZmZmZmYhQAAAAAAAACJAmpmZmZmZFUAAAAAAAAAkQM3MzMzMzCRAMzMzMzMzHUAzMzMzMzMlQAAAAAAAABJAzczMzMzMJkBmZmZmZmYnQDMzMzMzMx1AzczMzMzMIkAzMzMzMzMhQM3MzMzMzCNAmpmZmZmZJkDNzMzMzMwaQGZmZmZmZhRAmpmZmZmZHUCamZmZmZkJQGZmZmZmZhRA\"},\"xaxis\":\"x\",\"y\":{\"dtype\":\"f8\",\"bdata\":\"H4XrUbieWkCuR+F6FJ5aQClcj8L1eFpASOF6FK5XWkBmZmZmZgZaQGZmZmZmlllAFK5H4Xr0WEAAAAAAAPBYQBSuR+F6tFhA7FG4HoUbV0DsUbgehctWQFK4HoXrwVZAUrgehethVkBSuB6F61FWQHE9CtejQFZAKVyPwvU4VkBI4XoUrjdWQBSuR+F6NFZAXI\\u002fC9Sj8VUA9CtejcO1VQIXrUbge5VVAhetRuB7lVUBI4XoUrqdVQNejcD0Kd1VApHA9CtczVUBmZmZmZuZUQEjhehSuh1RAMzMzMzODVEDNzMzMzGxUQClcj8L1aFRAj8L1KFw\\u002fVEBSuB6F6zFUQM3MzMzMLFRAw\\u002fUoXI8iVEBxPQrXowBUQAAAAAAAAFRA9ihcj8LFU0DNzMzMzKxTQClcj8L1qFNAj8L1KFyfU0CPwvUoXJ9TQFyPwvUobFNA16NwPQoXU0CPwvUoXA9TQArXo3A9mlJAhetRuB6VUkCuR+F6FG5PQB+F61G4fkVA\"},\"yaxis\":\"y\",\"type\":\"scatter\"},{\"hovertemplate\":\"Continent=Europe\\u003cbr\\u003eMean Years of Schooling=%{x}\\u003cbr\\u003eAverage IQ=%{y}\\u003cextra\\u003e\\u003c\\u002fextra\\u003e\",\"legendgroup\":\"Europe\",\"marker\":{\"color\":\"#EF553B\",\"symbol\":\"circle\"},\"mode\":\"markers\",\"name\":\"Europe\",\"orientation\":\"v\",\"showlegend\":true,\"x\":{\"dtype\":\"f8\",\"bdata\":\"MzMzMzMzKEDNzMzMzMwpQAAAAAAAAClAMzMzMzMzLEAzMzMzMzMpQAAAAAAAACtAAAAAAAAAKkBmZmZmZmYoQM3MzMzMzCtAzczMzMzMKkCamZmZmZkpQJqZmZmZmShAmpmZmZmZK0AAAAAAAAAqQM3MzMzMzChAAAAAAAAAKkAzMzMzMzMpQDMzMzMzMydAZmZmZmZmKkDNzMzMzMwpQAAAAAAAACtAZmZmZmZmKEAzMzMzMzMlQDMzMzMzMydAzczMzMzMKUCamZmZmZkqQGZmZmZmZiVAMzMzMzMzJUDNzMzMzMwoQDMzMzMzMyNAZmZmZmZmKEDNzMzMzMwmQM3MzMzMzCZAMzMzMzMzJkCamZmZmZknQM3MzMzMzCZAAAAAAAAAJUCamZmZmZkmQGZmZmZmZihAZmZmZmZmJECamZmZmZkmQA==\"},\"xaxis\":\"x\",\"y\":{\"dtype\":\"f8\",\"bdata\":\"ZmZmZmZmWUDNzMzMzExZQBSuR+F6RFlAj8L1KFwvWUCPwvUoXC9ZQK5H4XoULllASOF6FK73WECPwvUoXM9YQI\\u002fC9Shcz1hASOF6FK7HWEBmZmZmZqZYQLgehetRmFhAcT0K16OQWECF61G4HnVYQI\\u002fC9ShcX1hAuB6F61FIWEAAAAAAAEBYQFyPwvUoLFhAZmZmZmYWWEAUrkfhehRYQClcj8L1+FdAAAAAAADwV0DNzMzMzMxXQLgehetRyFdAexSuR+G6V0DD9Shcj7JXQB+F61G4jldAmpmZmZl5V0ApXI\\u002fC9VhXQOF6FK5HMVdA4XoUrkfRVkCPwvUoXL9WQOF6FK5HsVZAFK5H4XqEVkAfhetRuH5WQGZmZmZmZlZAw\\u002fUoXI8iVkC4HoXrUbhVQFK4HoXrcVVACtejcD16VEAAAAAAAHBUQA==\"},\"yaxis\":\"y\",\"type\":\"scatter\"},{\"hovertemplate\":\"Continent=North America\\u003cbr\\u003eMean Years of Schooling=%{x}\\u003cbr\\u003eAverage IQ=%{y}\\u003cextra\\u003e\\u003c\\u002fextra\\u003e\",\"legendgroup\":\"North America\",\"marker\":{\"color\":\"#00cc96\",\"symbol\":\"circle\"},\"mode\":\"markers\",\"name\":\"North America\",\"orientation\":\"v\",\"showlegend\":true,\"x\":{\"dtype\":\"f8\",\"bdata\":\"mpmZmZmZK0BmZmZmZmYrQM3MzMzMzCJAZmZmZmZmIkA=\"},\"xaxis\":\"x\",\"y\":{\"dtype\":\"f8\",\"bdata\":\"4XoUrkfhWEDsUbgehVtYQB+F61G4XldAH4XrUbjuVUA=\"},\"yaxis\":\"y\",\"type\":\"scatter\"},{\"hovertemplate\":\"Continent=Oceania\\u003cbr\\u003eMean Years of Schooling=%{x}\\u003cbr\\u003eAverage IQ=%{y}\\u003cextra\\u003e\\u003c\\u002fextra\\u003e\",\"legendgroup\":\"Oceania\",\"marker\":{\"color\":\"#ab63fa\",\"symbol\":\"circle\"},\"mode\":\"markers\",\"name\":\"Oceania\",\"orientation\":\"v\",\"showlegend\":true,\"x\":{\"dtype\":\"f8\",\"bdata\":\"ZmZmZmZmKUDNzMzMzMwpQM3MzMzMzCJAZmZmZmZmHEAzMzMzMzMfQM3MzMzMzCVAzczMzMzMJUDNzMzMzMwWQM3MzMzMzCJAzczMzMzMEkA=\"},\"xaxis\":\"x\",\"y\":{\"dtype\":\"f8\",\"bdata\":\"j8L1KFzPWEAUrkfheqRYQHsUrkfheldAexSuR+F6V0A9CtejcP1UQD0K16Nw\\u002fVRAPQrXo3D9VEA9CtejcP1UQNejcD0KV1RAj8L1KFyfU0A=\"},\"yaxis\":\"y\",\"type\":\"scatter\"},{\"hovertemplate\":\"Continent=Europe\\u002fAsia\\u003cbr\\u003eMean Years of Schooling=%{x}\\u003cbr\\u003eAverage IQ=%{y}\\u003cextra\\u003e\\u003c\\u002fextra\\u003e\",\"legendgroup\":\"Europe\\u002fAsia\",\"marker\":{\"color\":\"#FFA15A\",\"symbol\":\"circle\"},\"mode\":\"markers\",\"name\":\"Europe\\u002fAsia\",\"orientation\":\"v\",\"showlegend\":true,\"x\":{\"dtype\":\"f8\",\"bdata\":\"mpmZmZmZKUAzMzMzMzMhQJqZmZmZmSlA\"},\"xaxis\":\"x\",\"y\":{\"dtype\":\"f8\",\"bdata\":\"w\\u002fUoXI8SWEAzMzMzM7NVQAAAAAAAIFVA\"},\"yaxis\":\"y\",\"type\":\"scatter\"},{\"hovertemplate\":\"Continent=Central America\\u003cbr\\u003eMean Years of Schooling=%{x}\\u003cbr\\u003eAverage IQ=%{y}\\u003cextra\\u003e\\u003c\\u002fextra\\u003e\",\"legendgroup\":\"Central America\",\"marker\":{\"color\":\"#19d3f3\",\"symbol\":\"circle\"},\"mode\":\"markers\",\"name\":\"Central America\",\"orientation\":\"v\",\"showlegend\":true,\"x\":{\"dtype\":\"f8\",\"bdata\":\"zczMzMzMI0CamZmZmZkhQDMzMzMzMylAMzMzMzMzJ0DNzMzMzMwiQAAAAAAAAClAzczMzMzMIkBmZmZmZmYWQJqZmZmZmSJAzczMzMzMIkAAAAAAAAAiQAAAAAAAACVAzczMzMzMIkBmZmZmZmYiQAAAAAAAACFAmpmZmZmZIkDNzMzMzMwcQDMzMzMzMyBAmpmZmZmZJUCamZmZmZkhQGZmZmZmZhxAZmZmZmZmHEDNzMzMzMwWQA==\"},\"xaxis\":\"x\",\"y\":{\"dtype\":\"f8\",\"bdata\":\"ZmZmZmbmVkD2KFyPwhVWQI\\u002fC9Shcv1VAuB6F61FoVUDD9ShcjxJVQJqZmZmZ+VRAj8L1KFyPVEBmZmZmZoZUQDMzMzMzg1RAj8L1KFx\\u002fVED2KFyPwtVTQAAAAAAAwFNAXI\\u002fC9SgsU0CF61G4HsVSQOxRuB6Fa1JAH4XrUbieUUC4HoXrUWhRQFK4HoXrgVBA9ihcj8K1T0BmZmZmZkZPQBSuR+F6FE9AuB6F61FYSkBcj8L1KNxHQA==\"},\"yaxis\":\"y\",\"type\":\"scatter\"},{\"hovertemplate\":\"Continent=South America\\u003cbr\\u003eMean Years of Schooling=%{x}\\u003cbr\\u003eAverage IQ=%{y}\\u003cextra\\u003e\\u003c\\u002fextra\\u003e\",\"legendgroup\":\"South America\",\"marker\":{\"color\":\"#FF6692\",\"symbol\":\"circle\"},\"mode\":\"markers\",\"name\":\"South America\",\"orientation\":\"v\",\"showlegend\":true,\"x\":{\"dtype\":\"f8\",\"bdata\":\"mpmZmZmZI0DNzMzMzMwlQAAAAAAAACJAMzMzMzMzJkDNzMzMzMwhQDMzMzMzMyBAMzMzMzMzIUDNzMzMzMwhQDMzMzMzMyZAzczMzMzMI0CamZmZmZkhQJqZmZmZmSNA\"},\"xaxis\":\"x\",\"y\":{\"dtype\":\"f8\",\"bdata\":\"w\\u002fUoXI+SVkApXI\\u002fC9fhVQPYoXI\\u002fC5VVAuB6F61GoVUDD9ShcjwJVQLgehetR2FRAH4XrUbjOVEC4HoXrUchUQI\\u002fC9Shcv1RAXI\\u002fC9ShcVEBxPQrXo5BTQFK4HoXrIVNA\"},\"yaxis\":\"y\",\"type\":\"scatter\"},{\"hovertemplate\":\"Continent=Africa\\u003cbr\\u003eMean Years of Schooling=%{x}\\u003cbr\\u003eAverage IQ=%{y}\\u003cextra\\u003e\\u003c\\u002fextra\\u003e\",\"legendgroup\":\"Africa\",\"marker\":{\"color\":\"#B6E880\",\"symbol\":\"circle\"},\"mode\":\"markers\",\"name\":\"Africa\",\"orientation\":\"v\",\"showlegend\":true,\"x\":{\"dtype\":\"f8\",\"bdata\":\"zczMzMzMJEBmZmZmZmYeQJqZmZmZmR1AzczMzMzMBEBmZmZmZmYOQJqZmZmZmSRAMzMzMzMzB0BmZmZmZmYUQGZmZmZmZhRAzczMzMzMFkAzMzMzMzMjQDMzMzMzMyBAzczMzMzMGkCamZmZmZkVQJqZmZmZmRlAZmZmZmZmIUDNzMzMzMwAQJqZmZmZmQlAzczMzMzMCEDNzMzMzMwAQJqZmZmZmRFAMzMzMzMzEUAAAAAAAAASQJqZmZmZmSRAAAAAAAAAGEDNzMzMzMwmQGZmZmZmZhZAmpmZmZmZE0DNzMzMzMwiQM3MzMzMzBxAmpmZmZmZCUBmZmZmZmYQQM3MzMzMzBhAzczMzMzMHEDNzMzMzMwiQJqZmZmZmRdAzczMzMzMHEDNzMzMzMwYQM3MzMzMzBhAzczMzMzMIkAAAAAAAAAcQDMzMzMzMxFAAAAAAAAAFEBmZmZmZmYCQJqZmZmZmRNAzczMzMzMFkCamZmZmZkgQM3MzMzMzCJAmpmZmZmZAUBmZmZmZmYSQGZmZmZmZhRAZmZmZmZmEkA=\"},\"xaxis\":\"x\",\"y\":{\"dtype\":\"f8\",\"bdata\":\"pHA9CtejVUB7FK5H4TpUQK5H4XoUzlNASOF6FK63U0BI4XoUrrdTQHE9CtejsFNASOF6FK5XU0AUrkfhekRTQMP1KFyPMlNAexSuR+EaU0AUrkfhehRTQAAAAAAAAFNAzczMzMzMUkBmZmZmZsZSQM3MzMzMvFJAcT0K16OAUkAzMzMzM3NSQAAAAAAAIFJA9ihcj8IFUkAUrkfherRRQM3MzMzMfFFAPQrXo3BtUUDNzMzMzGxRQM3MzMzMXFFASOF6FK43UUBI4XoUrjdRQEjhehSuN1FA4XoUrkcxUUCPwvUoXC9RQOxRuB6FG1FAexSuR+EaUUAK16NwPRpRQHE9Ctej8FBAcT0K16PwUEB7FK5H4epQQFK4HoXrwVBAXI\\u002fC9SiMUECuR+F6FE5QQHsUrkfhOlBAXI\\u002fC9Sh8T0Bcj8L1KHxPQGZmZmZmRk9ACtejcD3qTUDhehSuR+FNQOF6FK5H4U1ArkfhehROTUAUrkfhehRNQBSuR+F6FE1APQrXo3C9SkDXo3A9CldKQClcj8L1iEZAKVyPwvWIRkA=\"},\"yaxis\":\"y\",\"type\":\"scatter\"}],                        {\"template\":{\"data\":{\"histogram2dcontour\":[{\"type\":\"histogram2dcontour\",\"colorbar\":{\"outlinewidth\":0,\"ticks\":\"\"},\"colorscale\":[[0.0,\"#0d0887\"],[0.1111111111111111,\"#46039f\"],[0.2222222222222222,\"#7201a8\"],[0.3333333333333333,\"#9c179e\"],[0.4444444444444444,\"#bd3786\"],[0.5555555555555556,\"#d8576b\"],[0.6666666666666666,\"#ed7953\"],[0.7777777777777778,\"#fb9f3a\"],[0.8888888888888888,\"#fdca26\"],[1.0,\"#f0f921\"]]}],\"choropleth\":[{\"type\":\"choropleth\",\"colorbar\":{\"outlinewidth\":0,\"ticks\":\"\"}}],\"histogram2d\":[{\"type\":\"histogram2d\",\"colorbar\":{\"outlinewidth\":0,\"ticks\":\"\"},\"colorscale\":[[0.0,\"#0d0887\"],[0.1111111111111111,\"#46039f\"],[0.2222222222222222,\"#7201a8\"],[0.3333333333333333,\"#9c179e\"],[0.4444444444444444,\"#bd3786\"],[0.5555555555555556,\"#d8576b\"],[0.6666666666666666,\"#ed7953\"],[0.7777777777777778,\"#fb9f3a\"],[0.8888888888888888,\"#fdca26\"],[1.0,\"#f0f921\"]]}],\"heatmap\":[{\"type\":\"heatmap\",\"colorbar\":{\"outlinewidth\":0,\"ticks\":\"\"},\"colorscale\":[[0.0,\"#0d0887\"],[0.1111111111111111,\"#46039f\"],[0.2222222222222222,\"#7201a8\"],[0.3333333333333333,\"#9c179e\"],[0.4444444444444444,\"#bd3786\"],[0.5555555555555556,\"#d8576b\"],[0.6666666666666666,\"#ed7953\"],[0.7777777777777778,\"#fb9f3a\"],[0.8888888888888888,\"#fdca26\"],[1.0,\"#f0f921\"]]}],\"contourcarpet\":[{\"type\":\"contourcarpet\",\"colorbar\":{\"outlinewidth\":0,\"ticks\":\"\"}}],\"contour\":[{\"type\":\"contour\",\"colorbar\":{\"outlinewidth\":0,\"ticks\":\"\"},\"colorscale\":[[0.0,\"#0d0887\"],[0.1111111111111111,\"#46039f\"],[0.2222222222222222,\"#7201a8\"],[0.3333333333333333,\"#9c179e\"],[0.4444444444444444,\"#bd3786\"],[0.5555555555555556,\"#d8576b\"],[0.6666666666666666,\"#ed7953\"],[0.7777777777777778,\"#fb9f3a\"],[0.8888888888888888,\"#fdca26\"],[1.0,\"#f0f921\"]]}],\"surface\":[{\"type\":\"surface\",\"colorbar\":{\"outlinewidth\":0,\"ticks\":\"\"},\"colorscale\":[[0.0,\"#0d0887\"],[0.1111111111111111,\"#46039f\"],[0.2222222222222222,\"#7201a8\"],[0.3333333333333333,\"#9c179e\"],[0.4444444444444444,\"#bd3786\"],[0.5555555555555556,\"#d8576b\"],[0.6666666666666666,\"#ed7953\"],[0.7777777777777778,\"#fb9f3a\"],[0.8888888888888888,\"#fdca26\"],[1.0,\"#f0f921\"]]}],\"mesh3d\":[{\"type\":\"mesh3d\",\"colorbar\":{\"outlinewidth\":0,\"ticks\":\"\"}}],\"scatter\":[{\"fillpattern\":{\"fillmode\":\"overlay\",\"size\":10,\"solidity\":0.2},\"type\":\"scatter\"}],\"parcoords\":[{\"type\":\"parcoords\",\"line\":{\"colorbar\":{\"outlinewidth\":0,\"ticks\":\"\"}}}],\"scatterpolargl\":[{\"type\":\"scatterpolargl\",\"marker\":{\"colorbar\":{\"outlinewidth\":0,\"ticks\":\"\"}}}],\"bar\":[{\"error_x\":{\"color\":\"#2a3f5f\"},\"error_y\":{\"color\":\"#2a3f5f\"},\"marker\":{\"line\":{\"color\":\"#E5ECF6\",\"width\":0.5},\"pattern\":{\"fillmode\":\"overlay\",\"size\":10,\"solidity\":0.2}},\"type\":\"bar\"}],\"scattergeo\":[{\"type\":\"scattergeo\",\"marker\":{\"colorbar\":{\"outlinewidth\":0,\"ticks\":\"\"}}}],\"scatterpolar\":[{\"type\":\"scatterpolar\",\"marker\":{\"colorbar\":{\"outlinewidth\":0,\"ticks\":\"\"}}}],\"histogram\":[{\"marker\":{\"pattern\":{\"fillmode\":\"overlay\",\"size\":10,\"solidity\":0.2}},\"type\":\"histogram\"}],\"scattergl\":[{\"type\":\"scattergl\",\"marker\":{\"colorbar\":{\"outlinewidth\":0,\"ticks\":\"\"}}}],\"scatter3d\":[{\"type\":\"scatter3d\",\"line\":{\"colorbar\":{\"outlinewidth\":0,\"ticks\":\"\"}},\"marker\":{\"colorbar\":{\"outlinewidth\":0,\"ticks\":\"\"}}}],\"scattermap\":[{\"type\":\"scattermap\",\"marker\":{\"colorbar\":{\"outlinewidth\":0,\"ticks\":\"\"}}}],\"scattermapbox\":[{\"type\":\"scattermapbox\",\"marker\":{\"colorbar\":{\"outlinewidth\":0,\"ticks\":\"\"}}}],\"scatterternary\":[{\"type\":\"scatterternary\",\"marker\":{\"colorbar\":{\"outlinewidth\":0,\"ticks\":\"\"}}}],\"scattercarpet\":[{\"type\":\"scattercarpet\",\"marker\":{\"colorbar\":{\"outlinewidth\":0,\"ticks\":\"\"}}}],\"carpet\":[{\"aaxis\":{\"endlinecolor\":\"#2a3f5f\",\"gridcolor\":\"white\",\"linecolor\":\"white\",\"minorgridcolor\":\"white\",\"startlinecolor\":\"#2a3f5f\"},\"baxis\":{\"endlinecolor\":\"#2a3f5f\",\"gridcolor\":\"white\",\"linecolor\":\"white\",\"minorgridcolor\":\"white\",\"startlinecolor\":\"#2a3f5f\"},\"type\":\"carpet\"}],\"table\":[{\"cells\":{\"fill\":{\"color\":\"#EBF0F8\"},\"line\":{\"color\":\"white\"}},\"header\":{\"fill\":{\"color\":\"#C8D4E3\"},\"line\":{\"color\":\"white\"}},\"type\":\"table\"}],\"barpolar\":[{\"marker\":{\"line\":{\"color\":\"#E5ECF6\",\"width\":0.5},\"pattern\":{\"fillmode\":\"overlay\",\"size\":10,\"solidity\":0.2}},\"type\":\"barpolar\"}],\"pie\":[{\"automargin\":true,\"type\":\"pie\"}]},\"layout\":{\"autotypenumbers\":\"strict\",\"colorway\":[\"#636efa\",\"#EF553B\",\"#00cc96\",\"#ab63fa\",\"#FFA15A\",\"#19d3f3\",\"#FF6692\",\"#B6E880\",\"#FF97FF\",\"#FECB52\"],\"font\":{\"color\":\"#2a3f5f\"},\"hovermode\":\"closest\",\"hoverlabel\":{\"align\":\"left\"},\"paper_bgcolor\":\"white\",\"plot_bgcolor\":\"#E5ECF6\",\"polar\":{\"bgcolor\":\"#E5ECF6\",\"angularaxis\":{\"gridcolor\":\"white\",\"linecolor\":\"white\",\"ticks\":\"\"},\"radialaxis\":{\"gridcolor\":\"white\",\"linecolor\":\"white\",\"ticks\":\"\"}},\"ternary\":{\"bgcolor\":\"#E5ECF6\",\"aaxis\":{\"gridcolor\":\"white\",\"linecolor\":\"white\",\"ticks\":\"\"},\"baxis\":{\"gridcolor\":\"white\",\"linecolor\":\"white\",\"ticks\":\"\"},\"caxis\":{\"gridcolor\":\"white\",\"linecolor\":\"white\",\"ticks\":\"\"}},\"coloraxis\":{\"colorbar\":{\"outlinewidth\":0,\"ticks\":\"\"}},\"colorscale\":{\"sequential\":[[0.0,\"#0d0887\"],[0.1111111111111111,\"#46039f\"],[0.2222222222222222,\"#7201a8\"],[0.3333333333333333,\"#9c179e\"],[0.4444444444444444,\"#bd3786\"],[0.5555555555555556,\"#d8576b\"],[0.6666666666666666,\"#ed7953\"],[0.7777777777777778,\"#fb9f3a\"],[0.8888888888888888,\"#fdca26\"],[1.0,\"#f0f921\"]],\"sequentialminus\":[[0.0,\"#0d0887\"],[0.1111111111111111,\"#46039f\"],[0.2222222222222222,\"#7201a8\"],[0.3333333333333333,\"#9c179e\"],[0.4444444444444444,\"#bd3786\"],[0.5555555555555556,\"#d8576b\"],[0.6666666666666666,\"#ed7953\"],[0.7777777777777778,\"#fb9f3a\"],[0.8888888888888888,\"#fdca26\"],[1.0,\"#f0f921\"]],\"diverging\":[[0,\"#8e0152\"],[0.1,\"#c51b7d\"],[0.2,\"#de77ae\"],[0.3,\"#f1b6da\"],[0.4,\"#fde0ef\"],[0.5,\"#f7f7f7\"],[0.6,\"#e6f5d0\"],[0.7,\"#b8e186\"],[0.8,\"#7fbc41\"],[0.9,\"#4d9221\"],[1,\"#276419\"]]},\"xaxis\":{\"gridcolor\":\"white\",\"linecolor\":\"white\",\"ticks\":\"\",\"title\":{\"standoff\":15},\"zerolinecolor\":\"white\",\"automargin\":true,\"zerolinewidth\":2},\"yaxis\":{\"gridcolor\":\"white\",\"linecolor\":\"white\",\"ticks\":\"\",\"title\":{\"standoff\":15},\"zerolinecolor\":\"white\",\"automargin\":true,\"zerolinewidth\":2},\"scene\":{\"xaxis\":{\"backgroundcolor\":\"#E5ECF6\",\"gridcolor\":\"white\",\"linecolor\":\"white\",\"showbackground\":true,\"ticks\":\"\",\"zerolinecolor\":\"white\",\"gridwidth\":2},\"yaxis\":{\"backgroundcolor\":\"#E5ECF6\",\"gridcolor\":\"white\",\"linecolor\":\"white\",\"showbackground\":true,\"ticks\":\"\",\"zerolinecolor\":\"white\",\"gridwidth\":2},\"zaxis\":{\"backgroundcolor\":\"#E5ECF6\",\"gridcolor\":\"white\",\"linecolor\":\"white\",\"showbackground\":true,\"ticks\":\"\",\"zerolinecolor\":\"white\",\"gridwidth\":2}},\"shapedefaults\":{\"line\":{\"color\":\"#2a3f5f\"}},\"annotationdefaults\":{\"arrowcolor\":\"#2a3f5f\",\"arrowhead\":0,\"arrowwidth\":1},\"geo\":{\"bgcolor\":\"white\",\"landcolor\":\"#E5ECF6\",\"subunitcolor\":\"white\",\"showland\":true,\"showlakes\":true,\"lakecolor\":\"white\"},\"title\":{\"x\":0.05},\"mapbox\":{\"style\":\"light\"}}},\"xaxis\":{\"anchor\":\"y\",\"domain\":[0.0,1.0],\"title\":{\"text\":\"Mean Years of Schooling\"}},\"yaxis\":{\"anchor\":\"x\",\"domain\":[0.0,1.0],\"title\":{\"text\":\"Average IQ\"}},\"legend\":{\"title\":{\"text\":\"Continent\"},\"tracegroupgap\":0},\"title\":{\"text\":\"Average IQ vs Mean Years of Schooling (2021)\"}},                        {\"responsive\": true}                    ).then(function(){\n",
       "                            \n",
       "var gd = document.getElementById('b8167843-0ddf-43b3-af13-d7855c1164f3');\n",
       "var x = new MutationObserver(function (mutations, observer) {{\n",
       "        var display = window.getComputedStyle(gd).display;\n",
       "        if (!display || display === 'none') {{\n",
       "            console.log([gd, 'removed!']);\n",
       "            Plotly.purge(gd);\n",
       "            observer.disconnect();\n",
       "        }}\n",
       "}});\n",
       "\n",
       "// Listen for the removal of the full notebook cells\n",
       "var notebookContainer = gd.closest('#notebook-container');\n",
       "if (notebookContainer) {{\n",
       "    x.observe(notebookContainer, {childList: true});\n",
       "}}\n",
       "\n",
       "// Listen for the clearing of the current output cell\n",
       "var outputEl = gd.closest('.output');\n",
       "if (outputEl) {{\n",
       "    x.observe(outputEl, {childList: true});\n",
       "}}\n",
       "\n",
       "                        })                };            </script>        </div>"
      ]
     },
     "metadata": {},
     "output_type": "display_data"
    },
    {
     "data": {
      "application/vnd.plotly.v1+json": {
       "config": {
        "plotlyServerURL": "https://plot.ly"
       },
       "data": [
        {
         "hovertemplate": "Continent=Asia<br>Human Development Index (2021)=%{x}<br>Average IQ=%{y}<extra></extra>",
         "legendgroup": "Asia",
         "marker": {
          "color": "#636efa",
          "symbol": "circle"
         },
         "mode": "markers",
         "name": "Asia",
         "orientation": "v",
         "showlegend": true,
         "type": "scatter",
         "x": {
          "bdata": "mpmZmZmZ7T/Xo3A9CtfnPz81XrpJDO4/EFg5tMh27j/6fmq8dJPoP5qZmZmZme0/16NwPQrX5z9g5dAi2/niP9ejcD0K1+c/nMQgsHJo7T+4HoXrUbjiP9nO91Pjpec/5dAi2/l+5j/ByqFFtvPlP90kBoGVQ+c/wcqhRbbz6T+amZmZmZnpP30/NV66Seg/HVpkO99P5T/sUbgehevlP7pJDAIrh+o/GQRWDi2y6T+gGi/dJAbpP9ejcD0K1+c/16NwPQrX5z8AAAAAAADsP2Q730+Nl94/9P3UeOkm7T9kO99PjZfmP5HtfD81XuY/BoGVQ4ts4z9cj8L1KFzrPwrXo3A9Cuc/gZVDi2zn5z/4U+Olm8ToP5zEILByaOE/vp8aL90k5j/pJjEIrBzqP2Q730+Nl+o/16NwPQrX5z+PwvUoXI/mP+F6FK5H4eY/AAAAAAAA7D+oxks3iUHkPxBYObTIduI/9P3UeOkm5T8fhetRuB7dP90kBoGVQ+M/",
          "dtype": "f8"
         },
         "xaxis": "x",
         "y": {
          "bdata": "H4XrUbieWkCuR+F6FJ5aQClcj8L1eFpASOF6FK5XWkBmZmZmZgZaQGZmZmZmlllAFK5H4Xr0WEAAAAAAAPBYQBSuR+F6tFhA7FG4HoUbV0DsUbgehctWQFK4HoXrwVZAUrgehethVkBSuB6F61FWQHE9CtejQFZAKVyPwvU4VkBI4XoUrjdWQBSuR+F6NFZAXI/C9Sj8VUA9CtejcO1VQIXrUbge5VVAhetRuB7lVUBI4XoUrqdVQNejcD0Kd1VApHA9CtczVUBmZmZmZuZUQEjhehSuh1RAMzMzMzODVEDNzMzMzGxUQClcj8L1aFRAj8L1KFw/VEBSuB6F6zFUQM3MzMzMLFRAw/UoXI8iVEBxPQrXowBUQAAAAAAAAFRA9ihcj8LFU0DNzMzMzKxTQClcj8L1qFNAj8L1KFyfU0CPwvUoXJ9TQFyPwvUobFNA16NwPQoXU0CPwvUoXA9TQArXo3A9mlJAhetRuB6VUkCuR+F6FG5PQB+F61G4fkVA",
          "dtype": "f8"
         },
         "yaxis": "y"
        },
        {
         "hovertemplate": "Continent=Europe<br>Human Development Index (2021)=%{x}<br>Average IQ=%{y}<extra></extra>",
         "legendgroup": "Europe",
         "marker": {
          "color": "#EF553B",
          "symbol": "circle"
         },
         "mode": "markers",
         "name": "Europe",
         "orientation": "v",
         "showlegend": true,
         "type": "scatter",
         "x": {
          "bdata": "QmDl0CLb6T8UrkfhehTuP+xRuB6F6+0/vp8aL90k7j/pJjEIrBzuP3sUrkfheuw/w/UoXI/C7T/fT42XbhLrP2IQWDm0yO4/7nw/NV667T/HSzeJQWDtPx1aZDvfT+0/46WbxCCw7j+8dJMYBFbuP5ZDi2zn++0/jZduEoPA7j/n+6nx0k3uP0w3iUFg5ew/1XjpJjEI7D+JQWDl0CLrPwAAAAAAAOw/2/l+arx06z/b+X5qvHTrPz0K16NwPe4/ppvEILBy7D8EVg4tsp3rP6RwPQrXo+w/9ihcj8L17D956SYxCKzsP4PAyqFFtus/x0s3iUFg7T9xPQrXo3DpP/yp8dJNYuw/I9v5fmq86D8lBoGVQ4voP0SLbOf7qek/9ihcj8L16D8Sg8DKoUXqPzm0yHa+n+o/pHA9Ctej6D9GtvP91HjpPw==",
          "dtype": "f8"
         },
         "xaxis": "x",
         "y": {
          "bdata": "ZmZmZmZmWUDNzMzMzExZQBSuR+F6RFlAj8L1KFwvWUCPwvUoXC9ZQK5H4XoULllASOF6FK73WECPwvUoXM9YQI/C9Shcz1hASOF6FK7HWEBmZmZmZqZYQLgehetRmFhAcT0K16OQWECF61G4HnVYQI/C9ShcX1hAuB6F61FIWEAAAAAAAEBYQFyPwvUoLFhAZmZmZmYWWEAUrkfhehRYQClcj8L1+FdAAAAAAADwV0DNzMzMzMxXQLgehetRyFdAexSuR+G6V0DD9Shcj7JXQB+F61G4jldAmpmZmZl5V0ApXI/C9VhXQOF6FK5HMVdA4XoUrkfRVkCPwvUoXL9WQOF6FK5HsVZAFK5H4XqEVkAfhetRuH5WQGZmZmZmZlZAw/UoXI8iVkC4HoXrUbhVQFK4HoXrcVVACtejcD16VEAAAAAAAHBUQA==",
          "dtype": "f8"
         },
         "yaxis": "y"
        },
        {
         "hovertemplate": "Continent=North America<br>Human Development Index (2021)=%{x}<br>Average IQ=%{y}<extra></extra>",
         "legendgroup": "North America",
         "marker": {
          "color": "#00cc96",
          "symbol": "circle"
         },
         "mode": "markers",
         "name": "North America",
         "orientation": "v",
         "showlegend": true,
         "type": "scatter",
         "x": {
          "bdata": "wcqhRbbz7T9GtvP91HjtP9ejcD0K1+c/qMZLN4lB6D8=",
          "dtype": "f8"
         },
         "xaxis": "x",
         "y": {
          "bdata": "4XoUrkfhWEDsUbgehVtYQB+F61G4XldAH4XrUbjuVUA=",
          "dtype": "f8"
         },
         "yaxis": "y"
        },
        {
         "hovertemplate": "Continent=Oceania<br>Human Development Index (2021)=%{x}<br>Average IQ=%{y}<extra></extra>",
         "legendgroup": "Oceania",
         "marker": {
          "color": "#ab63fa",
          "symbol": "circle"
         },
         "mode": "markers",
         "name": "Oceania",
         "orientation": "v",
         "showlegend": true,
         "type": "scatter",
         "x": {
          "bdata": "O99PjZdu7j+WQ4ts5/vtP9ejcD0K1+c/BoGVQ4ts4z9/arx0kxjkP1yPwvUoXOc/ppvEILBy5D8/NV66SQziP9ejcD0K1+c/QmDl0CLb4T8=",
          "dtype": "f8"
         },
         "xaxis": "x",
         "y": {
          "bdata": "j8L1KFzPWEAUrkfheqRYQHsUrkfheldAexSuR+F6V0A9CtejcP1UQD0K16Nw/VRAPQrXo3D9VEA9CtejcP1UQNejcD0KV1RAj8L1KFyfU0A=",
          "dtype": "f8"
         },
         "yaxis": "y"
        },
        {
         "hovertemplate": "Continent=Europe/Asia<br>Human Development Index (2021)=%{x}<br>Average IQ=%{y}<extra></extra>",
         "legendgroup": "Europe/Asia",
         "marker": {
          "color": "#FFA15A",
          "symbol": "circle"
         },
         "mode": "markers",
         "name": "Europe/Asia",
         "orientation": "v",
         "showlegend": true,
         "type": "scatter",
         "x": {
          "bdata": "5/up8dJN6j83iUFg5dDqP0SLbOf7qek/",
          "dtype": "f8"
         },
         "xaxis": "x",
         "y": {
          "bdata": "w/UoXI8SWEAzMzMzM7NVQAAAAAAAIFVA",
          "dtype": "f8"
         },
         "yaxis": "y"
        },
        {
         "hovertemplate": "Continent=Central America<br>Human Development Index (2021)=%{x}<br>Average IQ=%{y}<extra></extra>",
         "legendgroup": "Central America",
         "marker": {
          "color": "#19d3f3",
          "symbol": "circle"
         },
         "mode": "markers",
         "name": "Central America",
         "orientation": "v",
         "showlegend": true,
         "type": "scatter",
         "x": {
          "bdata": "SOF6FK5H6T8X2c73U+PpP5ZDi2zn++k/7FG4HoXr6T/Xo3A9CtfnP6abxCCwcug/16NwPQrX5z8fhetRuB7hPyUGgZVDi+g/16NwPQrX5z9xPQrXo3DpP8P1KFyPwuk/16NwPQrX5z/jpZvEILDmP+F6FK5H4eY/nu+nxks36T+amZmZmZnlPwrXo3A9Cuc/1XjpJjEI6D9CYOXQItvlP6wcWmQ73+M/8tJNYhBY5T+q8dJNYhDkPw==",
          "dtype": "f8"
         },
         "xaxis": "x",
         "y": {
          "bdata": "ZmZmZmbmVkD2KFyPwhVWQI/C9Shcv1VAuB6F61FoVUDD9ShcjxJVQJqZmZmZ+VRAj8L1KFyPVEBmZmZmZoZUQDMzMzMzg1RAj8L1KFx/VED2KFyPwtVTQAAAAAAAwFNAXI/C9SgsU0CF61G4HsVSQOxRuB6Fa1JAH4XrUbieUUC4HoXrUWhRQFK4HoXrgVBA9ihcj8K1T0BmZmZmZkZPQBSuR+F6FE9AuB6F61FYSkBcj8L1KNxHQA==",
          "dtype": "f8"
         },
         "yaxis": "y"
        },
        {
         "hovertemplate": "Continent=South America<br>Human Development Index (2021)=%{x}<br>Average IQ=%{y}<extra></extra>",
         "legendgroup": "South America",
         "marker": {
          "color": "#FF6692",
          "symbol": "circle"
         },
         "mode": "markers",
         "name": "South America",
         "orientation": "v",
         "showlegend": true,
         "type": "scatter",
         "x": {
          "bdata": "XI/C9Shc5z9cj8L1KFzrPxfZzvdT4+k/i2zn+6nx6j+LbOf7qfHmP1TjpZvEIOg/DAIrhxbZ5j+q8dJNYhDoP+kmMQisHOY//Knx0k1i6D+uR+F6FK7nP76fGi/dJOY/",
          "dtype": "f8"
         },
         "xaxis": "x",
         "y": {
          "bdata": "w/UoXI+SVkApXI/C9fhVQPYoXI/C5VVAuB6F61GoVUDD9ShcjwJVQLgehetR2FRAH4XrUbjOVEC4HoXrUchUQI/C9Shcv1RAXI/C9ShcVEBxPQrXo5BTQFK4HoXrIVNA",
          "dtype": "f8"
         },
         "yaxis": "y"
        },
        {
         "hovertemplate": "Continent=Africa<br>Human Development Index (2021)=%{x}<br>Average IQ=%{y}<extra></extra>",
         "legendgroup": "Africa",
         "marker": {
          "color": "#B6E880",
          "symbol": "circle"
         },
         "mode": "markers",
         "name": "Africa",
         "orientation": "v",
         "showlegend": true,
         "type": "scatter",
         "x": {
          "bdata": "RIts5/up6T9g5dAi2/nmPzEIrBxaZOc/nu+nxks32T+oxks3iUHgPx+F61G4Huk/JzEIrBxa4D9CYOXQItvhP9V46SYxCOA/zczMzMzM4D8xCKwcWmTnP9ejcD0K1+c/ZmZmZmZm4j+Nl24Sg8DiP8UgsHJokeE/YOXQItv54j8j2/l+arzcPyUGgZVDi9w/3SQGgZVD2z+amZmZmZnZP0oMAiuHFuE/zczMzMzM4D/8qfHSTWLgP5MYBFYOLeY/ppvEILBy4D83iUFg5dDmP7TIdr6fGuM/sHJoke183z/Xo3A9CtfnPxSuR+F6FOI/rBxaZDvf3z99PzVeukngPzvfT42XbuI/H4XrUbge4T/Xo3A9CtfnP0Jg5dAi2+U/rkfhehSu4z8tsp3vp8bjPxKDwMqhReI/ZDvfT42X5j8OLbKd76feP0Jg5dAi29k/c2iR7Xw/4T8xCKwcWmTbP5huEoPAyuE/pHA9Ctej2D/TTWIQWDnkP9ejcD0K1+c/w/UoXI/C3T8AAAAAAADgP2IQWDm0yN4/ukkMAiuH3j8=",
          "dtype": "f8"
         },
         "xaxis": "x",
         "y": {
          "bdata": "pHA9CtejVUB7FK5H4TpUQK5H4XoUzlNASOF6FK63U0BI4XoUrrdTQHE9CtejsFNASOF6FK5XU0AUrkfhekRTQMP1KFyPMlNAexSuR+EaU0AUrkfhehRTQAAAAAAAAFNAzczMzMzMUkBmZmZmZsZSQM3MzMzMvFJAcT0K16OAUkAzMzMzM3NSQAAAAAAAIFJA9ihcj8IFUkAUrkfherRRQM3MzMzMfFFAPQrXo3BtUUDNzMzMzGxRQM3MzMzMXFFASOF6FK43UUBI4XoUrjdRQEjhehSuN1FA4XoUrkcxUUCPwvUoXC9RQOxRuB6FG1FAexSuR+EaUUAK16NwPRpRQHE9Ctej8FBAcT0K16PwUEB7FK5H4epQQFK4HoXrwVBAXI/C9SiMUECuR+F6FE5QQHsUrkfhOlBAXI/C9Sh8T0Bcj8L1KHxPQGZmZmZmRk9ACtejcD3qTUDhehSuR+FNQOF6FK5H4U1ArkfhehROTUAUrkfhehRNQBSuR+F6FE1APQrXo3C9SkDXo3A9CldKQClcj8L1iEZAKVyPwvWIRkA=",
          "dtype": "f8"
         },
         "yaxis": "y"
        }
       ],
       "layout": {
        "legend": {
         "title": {
          "text": "Continent"
         },
         "tracegroupgap": 0
        },
        "template": {
         "data": {
          "bar": [
           {
            "error_x": {
             "color": "#2a3f5f"
            },
            "error_y": {
             "color": "#2a3f5f"
            },
            "marker": {
             "line": {
              "color": "#E5ECF6",
              "width": 0.5
             },
             "pattern": {
              "fillmode": "overlay",
              "size": 10,
              "solidity": 0.2
             }
            },
            "type": "bar"
           }
          ],
          "barpolar": [
           {
            "marker": {
             "line": {
              "color": "#E5ECF6",
              "width": 0.5
             },
             "pattern": {
              "fillmode": "overlay",
              "size": 10,
              "solidity": 0.2
             }
            },
            "type": "barpolar"
           }
          ],
          "carpet": [
           {
            "aaxis": {
             "endlinecolor": "#2a3f5f",
             "gridcolor": "white",
             "linecolor": "white",
             "minorgridcolor": "white",
             "startlinecolor": "#2a3f5f"
            },
            "baxis": {
             "endlinecolor": "#2a3f5f",
             "gridcolor": "white",
             "linecolor": "white",
             "minorgridcolor": "white",
             "startlinecolor": "#2a3f5f"
            },
            "type": "carpet"
           }
          ],
          "choropleth": [
           {
            "colorbar": {
             "outlinewidth": 0,
             "ticks": ""
            },
            "type": "choropleth"
           }
          ],
          "contour": [
           {
            "colorbar": {
             "outlinewidth": 0,
             "ticks": ""
            },
            "colorscale": [
             [
              0,
              "#0d0887"
             ],
             [
              0.1111111111111111,
              "#46039f"
             ],
             [
              0.2222222222222222,
              "#7201a8"
             ],
             [
              0.3333333333333333,
              "#9c179e"
             ],
             [
              0.4444444444444444,
              "#bd3786"
             ],
             [
              0.5555555555555556,
              "#d8576b"
             ],
             [
              0.6666666666666666,
              "#ed7953"
             ],
             [
              0.7777777777777778,
              "#fb9f3a"
             ],
             [
              0.8888888888888888,
              "#fdca26"
             ],
             [
              1,
              "#f0f921"
             ]
            ],
            "type": "contour"
           }
          ],
          "contourcarpet": [
           {
            "colorbar": {
             "outlinewidth": 0,
             "ticks": ""
            },
            "type": "contourcarpet"
           }
          ],
          "heatmap": [
           {
            "colorbar": {
             "outlinewidth": 0,
             "ticks": ""
            },
            "colorscale": [
             [
              0,
              "#0d0887"
             ],
             [
              0.1111111111111111,
              "#46039f"
             ],
             [
              0.2222222222222222,
              "#7201a8"
             ],
             [
              0.3333333333333333,
              "#9c179e"
             ],
             [
              0.4444444444444444,
              "#bd3786"
             ],
             [
              0.5555555555555556,
              "#d8576b"
             ],
             [
              0.6666666666666666,
              "#ed7953"
             ],
             [
              0.7777777777777778,
              "#fb9f3a"
             ],
             [
              0.8888888888888888,
              "#fdca26"
             ],
             [
              1,
              "#f0f921"
             ]
            ],
            "type": "heatmap"
           }
          ],
          "histogram": [
           {
            "marker": {
             "pattern": {
              "fillmode": "overlay",
              "size": 10,
              "solidity": 0.2
             }
            },
            "type": "histogram"
           }
          ],
          "histogram2d": [
           {
            "colorbar": {
             "outlinewidth": 0,
             "ticks": ""
            },
            "colorscale": [
             [
              0,
              "#0d0887"
             ],
             [
              0.1111111111111111,
              "#46039f"
             ],
             [
              0.2222222222222222,
              "#7201a8"
             ],
             [
              0.3333333333333333,
              "#9c179e"
             ],
             [
              0.4444444444444444,
              "#bd3786"
             ],
             [
              0.5555555555555556,
              "#d8576b"
             ],
             [
              0.6666666666666666,
              "#ed7953"
             ],
             [
              0.7777777777777778,
              "#fb9f3a"
             ],
             [
              0.8888888888888888,
              "#fdca26"
             ],
             [
              1,
              "#f0f921"
             ]
            ],
            "type": "histogram2d"
           }
          ],
          "histogram2dcontour": [
           {
            "colorbar": {
             "outlinewidth": 0,
             "ticks": ""
            },
            "colorscale": [
             [
              0,
              "#0d0887"
             ],
             [
              0.1111111111111111,
              "#46039f"
             ],
             [
              0.2222222222222222,
              "#7201a8"
             ],
             [
              0.3333333333333333,
              "#9c179e"
             ],
             [
              0.4444444444444444,
              "#bd3786"
             ],
             [
              0.5555555555555556,
              "#d8576b"
             ],
             [
              0.6666666666666666,
              "#ed7953"
             ],
             [
              0.7777777777777778,
              "#fb9f3a"
             ],
             [
              0.8888888888888888,
              "#fdca26"
             ],
             [
              1,
              "#f0f921"
             ]
            ],
            "type": "histogram2dcontour"
           }
          ],
          "mesh3d": [
           {
            "colorbar": {
             "outlinewidth": 0,
             "ticks": ""
            },
            "type": "mesh3d"
           }
          ],
          "parcoords": [
           {
            "line": {
             "colorbar": {
              "outlinewidth": 0,
              "ticks": ""
             }
            },
            "type": "parcoords"
           }
          ],
          "pie": [
           {
            "automargin": true,
            "type": "pie"
           }
          ],
          "scatter": [
           {
            "fillpattern": {
             "fillmode": "overlay",
             "size": 10,
             "solidity": 0.2
            },
            "type": "scatter"
           }
          ],
          "scatter3d": [
           {
            "line": {
             "colorbar": {
              "outlinewidth": 0,
              "ticks": ""
             }
            },
            "marker": {
             "colorbar": {
              "outlinewidth": 0,
              "ticks": ""
             }
            },
            "type": "scatter3d"
           }
          ],
          "scattercarpet": [
           {
            "marker": {
             "colorbar": {
              "outlinewidth": 0,
              "ticks": ""
             }
            },
            "type": "scattercarpet"
           }
          ],
          "scattergeo": [
           {
            "marker": {
             "colorbar": {
              "outlinewidth": 0,
              "ticks": ""
             }
            },
            "type": "scattergeo"
           }
          ],
          "scattergl": [
           {
            "marker": {
             "colorbar": {
              "outlinewidth": 0,
              "ticks": ""
             }
            },
            "type": "scattergl"
           }
          ],
          "scattermap": [
           {
            "marker": {
             "colorbar": {
              "outlinewidth": 0,
              "ticks": ""
             }
            },
            "type": "scattermap"
           }
          ],
          "scattermapbox": [
           {
            "marker": {
             "colorbar": {
              "outlinewidth": 0,
              "ticks": ""
             }
            },
            "type": "scattermapbox"
           }
          ],
          "scatterpolar": [
           {
            "marker": {
             "colorbar": {
              "outlinewidth": 0,
              "ticks": ""
             }
            },
            "type": "scatterpolar"
           }
          ],
          "scatterpolargl": [
           {
            "marker": {
             "colorbar": {
              "outlinewidth": 0,
              "ticks": ""
             }
            },
            "type": "scatterpolargl"
           }
          ],
          "scatterternary": [
           {
            "marker": {
             "colorbar": {
              "outlinewidth": 0,
              "ticks": ""
             }
            },
            "type": "scatterternary"
           }
          ],
          "surface": [
           {
            "colorbar": {
             "outlinewidth": 0,
             "ticks": ""
            },
            "colorscale": [
             [
              0,
              "#0d0887"
             ],
             [
              0.1111111111111111,
              "#46039f"
             ],
             [
              0.2222222222222222,
              "#7201a8"
             ],
             [
              0.3333333333333333,
              "#9c179e"
             ],
             [
              0.4444444444444444,
              "#bd3786"
             ],
             [
              0.5555555555555556,
              "#d8576b"
             ],
             [
              0.6666666666666666,
              "#ed7953"
             ],
             [
              0.7777777777777778,
              "#fb9f3a"
             ],
             [
              0.8888888888888888,
              "#fdca26"
             ],
             [
              1,
              "#f0f921"
             ]
            ],
            "type": "surface"
           }
          ],
          "table": [
           {
            "cells": {
             "fill": {
              "color": "#EBF0F8"
             },
             "line": {
              "color": "white"
             }
            },
            "header": {
             "fill": {
              "color": "#C8D4E3"
             },
             "line": {
              "color": "white"
             }
            },
            "type": "table"
           }
          ]
         },
         "layout": {
          "annotationdefaults": {
           "arrowcolor": "#2a3f5f",
           "arrowhead": 0,
           "arrowwidth": 1
          },
          "autotypenumbers": "strict",
          "coloraxis": {
           "colorbar": {
            "outlinewidth": 0,
            "ticks": ""
           }
          },
          "colorscale": {
           "diverging": [
            [
             0,
             "#8e0152"
            ],
            [
             0.1,
             "#c51b7d"
            ],
            [
             0.2,
             "#de77ae"
            ],
            [
             0.3,
             "#f1b6da"
            ],
            [
             0.4,
             "#fde0ef"
            ],
            [
             0.5,
             "#f7f7f7"
            ],
            [
             0.6,
             "#e6f5d0"
            ],
            [
             0.7,
             "#b8e186"
            ],
            [
             0.8,
             "#7fbc41"
            ],
            [
             0.9,
             "#4d9221"
            ],
            [
             1,
             "#276419"
            ]
           ],
           "sequential": [
            [
             0,
             "#0d0887"
            ],
            [
             0.1111111111111111,
             "#46039f"
            ],
            [
             0.2222222222222222,
             "#7201a8"
            ],
            [
             0.3333333333333333,
             "#9c179e"
            ],
            [
             0.4444444444444444,
             "#bd3786"
            ],
            [
             0.5555555555555556,
             "#d8576b"
            ],
            [
             0.6666666666666666,
             "#ed7953"
            ],
            [
             0.7777777777777778,
             "#fb9f3a"
            ],
            [
             0.8888888888888888,
             "#fdca26"
            ],
            [
             1,
             "#f0f921"
            ]
           ],
           "sequentialminus": [
            [
             0,
             "#0d0887"
            ],
            [
             0.1111111111111111,
             "#46039f"
            ],
            [
             0.2222222222222222,
             "#7201a8"
            ],
            [
             0.3333333333333333,
             "#9c179e"
            ],
            [
             0.4444444444444444,
             "#bd3786"
            ],
            [
             0.5555555555555556,
             "#d8576b"
            ],
            [
             0.6666666666666666,
             "#ed7953"
            ],
            [
             0.7777777777777778,
             "#fb9f3a"
            ],
            [
             0.8888888888888888,
             "#fdca26"
            ],
            [
             1,
             "#f0f921"
            ]
           ]
          },
          "colorway": [
           "#636efa",
           "#EF553B",
           "#00cc96",
           "#ab63fa",
           "#FFA15A",
           "#19d3f3",
           "#FF6692",
           "#B6E880",
           "#FF97FF",
           "#FECB52"
          ],
          "font": {
           "color": "#2a3f5f"
          },
          "geo": {
           "bgcolor": "white",
           "lakecolor": "white",
           "landcolor": "#E5ECF6",
           "showlakes": true,
           "showland": true,
           "subunitcolor": "white"
          },
          "hoverlabel": {
           "align": "left"
          },
          "hovermode": "closest",
          "mapbox": {
           "style": "light"
          },
          "paper_bgcolor": "white",
          "plot_bgcolor": "#E5ECF6",
          "polar": {
           "angularaxis": {
            "gridcolor": "white",
            "linecolor": "white",
            "ticks": ""
           },
           "bgcolor": "#E5ECF6",
           "radialaxis": {
            "gridcolor": "white",
            "linecolor": "white",
            "ticks": ""
           }
          },
          "scene": {
           "xaxis": {
            "backgroundcolor": "#E5ECF6",
            "gridcolor": "white",
            "gridwidth": 2,
            "linecolor": "white",
            "showbackground": true,
            "ticks": "",
            "zerolinecolor": "white"
           },
           "yaxis": {
            "backgroundcolor": "#E5ECF6",
            "gridcolor": "white",
            "gridwidth": 2,
            "linecolor": "white",
            "showbackground": true,
            "ticks": "",
            "zerolinecolor": "white"
           },
           "zaxis": {
            "backgroundcolor": "#E5ECF6",
            "gridcolor": "white",
            "gridwidth": 2,
            "linecolor": "white",
            "showbackground": true,
            "ticks": "",
            "zerolinecolor": "white"
           }
          },
          "shapedefaults": {
           "line": {
            "color": "#2a3f5f"
           }
          },
          "ternary": {
           "aaxis": {
            "gridcolor": "white",
            "linecolor": "white",
            "ticks": ""
           },
           "baxis": {
            "gridcolor": "white",
            "linecolor": "white",
            "ticks": ""
           },
           "bgcolor": "#E5ECF6",
           "caxis": {
            "gridcolor": "white",
            "linecolor": "white",
            "ticks": ""
           }
          },
          "title": {
           "x": 0.05
          },
          "xaxis": {
           "automargin": true,
           "gridcolor": "white",
           "linecolor": "white",
           "ticks": "",
           "title": {
            "standoff": 15
           },
           "zerolinecolor": "white",
           "zerolinewidth": 2
          },
          "yaxis": {
           "automargin": true,
           "gridcolor": "white",
           "linecolor": "white",
           "ticks": "",
           "title": {
            "standoff": 15
           },
           "zerolinecolor": "white",
           "zerolinewidth": 2
          }
         }
        },
        "title": {
         "text": "Average IQ vs HDI (2021)"
        },
        "xaxis": {
         "anchor": "y",
         "domain": [
          0,
          1
         ],
         "title": {
          "text": "Human Development Index (2021)"
         }
        },
        "yaxis": {
         "anchor": "x",
         "domain": [
          0,
          1
         ],
         "title": {
          "text": "Average IQ"
         }
        }
       }
      },
      "text/html": [
       "<div>            <script src=\"https://cdnjs.cloudflare.com/ajax/libs/mathjax/2.7.5/MathJax.js?config=TeX-AMS-MML_SVG\"></script><script type=\"text/javascript\">if (window.MathJax && window.MathJax.Hub && window.MathJax.Hub.Config) {window.MathJax.Hub.Config({SVG: {font: \"STIX-Web\"}});}</script>                <script type=\"text/javascript\">window.PlotlyConfig = {MathJaxConfig: 'local'};</script>\n",
       "        <script charset=\"utf-8\" src=\"https://cdn.plot.ly/plotly-3.0.0.min.js\"></script>                <div id=\"dea2a611-c2e6-4c9b-ae16-2b1b97319786\" class=\"plotly-graph-div\" style=\"height:525px; width:100%;\"></div>            <script type=\"text/javascript\">                window.PLOTLYENV=window.PLOTLYENV || {};                                if (document.getElementById(\"dea2a611-c2e6-4c9b-ae16-2b1b97319786\")) {                    Plotly.newPlot(                        \"dea2a611-c2e6-4c9b-ae16-2b1b97319786\",                        [{\"hovertemplate\":\"Continent=Asia\\u003cbr\\u003eHuman Development Index (2021)=%{x}\\u003cbr\\u003eAverage IQ=%{y}\\u003cextra\\u003e\\u003c\\u002fextra\\u003e\",\"legendgroup\":\"Asia\",\"marker\":{\"color\":\"#636efa\",\"symbol\":\"circle\"},\"mode\":\"markers\",\"name\":\"Asia\",\"orientation\":\"v\",\"showlegend\":true,\"x\":{\"dtype\":\"f8\",\"bdata\":\"mpmZmZmZ7T\\u002fXo3A9CtfnPz81XrpJDO4\\u002fEFg5tMh27j\\u002f6fmq8dJPoP5qZmZmZme0\\u002f16NwPQrX5z9g5dAi2\\u002fniP9ejcD0K1+c\\u002fnMQgsHJo7T+4HoXrUbjiP9nO91Pjpec\\u002f5dAi2\\u002fl+5j\\u002fByqFFtvPlP90kBoGVQ+c\\u002fwcqhRbbz6T+amZmZmZnpP30\\u002fNV66Seg\\u002fHVpkO99P5T\\u002fsUbgehevlP7pJDAIrh+o\\u002fGQRWDi2y6T+gGi\\u002fdJAbpP9ejcD0K1+c\\u002f16NwPQrX5z8AAAAAAADsP2Q730+Nl94\\u002f9P3UeOkm7T9kO99PjZfmP5HtfD81XuY\\u002fBoGVQ4ts4z9cj8L1KFzrPwrXo3A9Cuc\\u002fgZVDi2zn5z\\u002f4U+Olm8ToP5zEILByaOE\\u002fvp8aL90k5j\\u002fpJjEIrBzqP2Q730+Nl+o\\u002f16NwPQrX5z+PwvUoXI\\u002fmP+F6FK5H4eY\\u002fAAAAAAAA7D+oxks3iUHkPxBYObTIduI\\u002f9P3UeOkm5T8fhetRuB7dP90kBoGVQ+M\\u002f\"},\"xaxis\":\"x\",\"y\":{\"dtype\":\"f8\",\"bdata\":\"H4XrUbieWkCuR+F6FJ5aQClcj8L1eFpASOF6FK5XWkBmZmZmZgZaQGZmZmZmlllAFK5H4Xr0WEAAAAAAAPBYQBSuR+F6tFhA7FG4HoUbV0DsUbgehctWQFK4HoXrwVZAUrgehethVkBSuB6F61FWQHE9CtejQFZAKVyPwvU4VkBI4XoUrjdWQBSuR+F6NFZAXI\\u002fC9Sj8VUA9CtejcO1VQIXrUbge5VVAhetRuB7lVUBI4XoUrqdVQNejcD0Kd1VApHA9CtczVUBmZmZmZuZUQEjhehSuh1RAMzMzMzODVEDNzMzMzGxUQClcj8L1aFRAj8L1KFw\\u002fVEBSuB6F6zFUQM3MzMzMLFRAw\\u002fUoXI8iVEBxPQrXowBUQAAAAAAAAFRA9ihcj8LFU0DNzMzMzKxTQClcj8L1qFNAj8L1KFyfU0CPwvUoXJ9TQFyPwvUobFNA16NwPQoXU0CPwvUoXA9TQArXo3A9mlJAhetRuB6VUkCuR+F6FG5PQB+F61G4fkVA\"},\"yaxis\":\"y\",\"type\":\"scatter\"},{\"hovertemplate\":\"Continent=Europe\\u003cbr\\u003eHuman Development Index (2021)=%{x}\\u003cbr\\u003eAverage IQ=%{y}\\u003cextra\\u003e\\u003c\\u002fextra\\u003e\",\"legendgroup\":\"Europe\",\"marker\":{\"color\":\"#EF553B\",\"symbol\":\"circle\"},\"mode\":\"markers\",\"name\":\"Europe\",\"orientation\":\"v\",\"showlegend\":true,\"x\":{\"dtype\":\"f8\",\"bdata\":\"QmDl0CLb6T8UrkfhehTuP+xRuB6F6+0\\u002fvp8aL90k7j\\u002fpJjEIrBzuP3sUrkfheuw\\u002fw\\u002fUoXI\\u002fC7T\\u002ffT42XbhLrP2IQWDm0yO4\\u002f7nw\\u002fNV667T\\u002fHSzeJQWDtPx1aZDvfT+0\\u002f46WbxCCw7j+8dJMYBFbuP5ZDi2zn++0\\u002fjZduEoPA7j\\u002fn+6nx0k3uP0w3iUFg5ew\\u002f1XjpJjEI7D+JQWDl0CLrPwAAAAAAAOw\\u002f2\\u002fl+arx06z\\u002fb+X5qvHTrPz0K16NwPe4\\u002fppvEILBy7D8EVg4tsp3rP6RwPQrXo+w\\u002f9ihcj8L17D956SYxCKzsP4PAyqFFtus\\u002fx0s3iUFg7T9xPQrXo3DpP\\u002fyp8dJNYuw\\u002fI9v5fmq86D8lBoGVQ4voP0SLbOf7qek\\u002f9ihcj8L16D8Sg8DKoUXqPzm0yHa+n+o\\u002fpHA9Ctej6D9GtvP91HjpPw==\"},\"xaxis\":\"x\",\"y\":{\"dtype\":\"f8\",\"bdata\":\"ZmZmZmZmWUDNzMzMzExZQBSuR+F6RFlAj8L1KFwvWUCPwvUoXC9ZQK5H4XoULllASOF6FK73WECPwvUoXM9YQI\\u002fC9Shcz1hASOF6FK7HWEBmZmZmZqZYQLgehetRmFhAcT0K16OQWECF61G4HnVYQI\\u002fC9ShcX1hAuB6F61FIWEAAAAAAAEBYQFyPwvUoLFhAZmZmZmYWWEAUrkfhehRYQClcj8L1+FdAAAAAAADwV0DNzMzMzMxXQLgehetRyFdAexSuR+G6V0DD9Shcj7JXQB+F61G4jldAmpmZmZl5V0ApXI\\u002fC9VhXQOF6FK5HMVdA4XoUrkfRVkCPwvUoXL9WQOF6FK5HsVZAFK5H4XqEVkAfhetRuH5WQGZmZmZmZlZAw\\u002fUoXI8iVkC4HoXrUbhVQFK4HoXrcVVACtejcD16VEAAAAAAAHBUQA==\"},\"yaxis\":\"y\",\"type\":\"scatter\"},{\"hovertemplate\":\"Continent=North America\\u003cbr\\u003eHuman Development Index (2021)=%{x}\\u003cbr\\u003eAverage IQ=%{y}\\u003cextra\\u003e\\u003c\\u002fextra\\u003e\",\"legendgroup\":\"North America\",\"marker\":{\"color\":\"#00cc96\",\"symbol\":\"circle\"},\"mode\":\"markers\",\"name\":\"North America\",\"orientation\":\"v\",\"showlegend\":true,\"x\":{\"dtype\":\"f8\",\"bdata\":\"wcqhRbbz7T9GtvP91HjtP9ejcD0K1+c\\u002fqMZLN4lB6D8=\"},\"xaxis\":\"x\",\"y\":{\"dtype\":\"f8\",\"bdata\":\"4XoUrkfhWEDsUbgehVtYQB+F61G4XldAH4XrUbjuVUA=\"},\"yaxis\":\"y\",\"type\":\"scatter\"},{\"hovertemplate\":\"Continent=Oceania\\u003cbr\\u003eHuman Development Index (2021)=%{x}\\u003cbr\\u003eAverage IQ=%{y}\\u003cextra\\u003e\\u003c\\u002fextra\\u003e\",\"legendgroup\":\"Oceania\",\"marker\":{\"color\":\"#ab63fa\",\"symbol\":\"circle\"},\"mode\":\"markers\",\"name\":\"Oceania\",\"orientation\":\"v\",\"showlegend\":true,\"x\":{\"dtype\":\"f8\",\"bdata\":\"O99PjZdu7j+WQ4ts5\\u002fvtP9ejcD0K1+c\\u002fBoGVQ4ts4z9\\u002farx0kxjkP1yPwvUoXOc\\u002fppvEILBy5D8\\u002fNV66SQziP9ejcD0K1+c\\u002fQmDl0CLb4T8=\"},\"xaxis\":\"x\",\"y\":{\"dtype\":\"f8\",\"bdata\":\"j8L1KFzPWEAUrkfheqRYQHsUrkfheldAexSuR+F6V0A9CtejcP1UQD0K16Nw\\u002fVRAPQrXo3D9VEA9CtejcP1UQNejcD0KV1RAj8L1KFyfU0A=\"},\"yaxis\":\"y\",\"type\":\"scatter\"},{\"hovertemplate\":\"Continent=Europe\\u002fAsia\\u003cbr\\u003eHuman Development Index (2021)=%{x}\\u003cbr\\u003eAverage IQ=%{y}\\u003cextra\\u003e\\u003c\\u002fextra\\u003e\",\"legendgroup\":\"Europe\\u002fAsia\",\"marker\":{\"color\":\"#FFA15A\",\"symbol\":\"circle\"},\"mode\":\"markers\",\"name\":\"Europe\\u002fAsia\",\"orientation\":\"v\",\"showlegend\":true,\"x\":{\"dtype\":\"f8\",\"bdata\":\"5\\u002fup8dJN6j83iUFg5dDqP0SLbOf7qek\\u002f\"},\"xaxis\":\"x\",\"y\":{\"dtype\":\"f8\",\"bdata\":\"w\\u002fUoXI8SWEAzMzMzM7NVQAAAAAAAIFVA\"},\"yaxis\":\"y\",\"type\":\"scatter\"},{\"hovertemplate\":\"Continent=Central America\\u003cbr\\u003eHuman Development Index (2021)=%{x}\\u003cbr\\u003eAverage IQ=%{y}\\u003cextra\\u003e\\u003c\\u002fextra\\u003e\",\"legendgroup\":\"Central America\",\"marker\":{\"color\":\"#19d3f3\",\"symbol\":\"circle\"},\"mode\":\"markers\",\"name\":\"Central America\",\"orientation\":\"v\",\"showlegend\":true,\"x\":{\"dtype\":\"f8\",\"bdata\":\"SOF6FK5H6T8X2c73U+PpP5ZDi2zn++k\\u002f7FG4HoXr6T\\u002fXo3A9CtfnP6abxCCwcug\\u002f16NwPQrX5z8fhetRuB7hPyUGgZVDi+g\\u002f16NwPQrX5z9xPQrXo3DpP8P1KFyPwuk\\u002f16NwPQrX5z\\u002fjpZvEILDmP+F6FK5H4eY\\u002fnu+nxks36T+amZmZmZnlPwrXo3A9Cuc\\u002f1XjpJjEI6D9CYOXQItvlP6wcWmQ73+M\\u002f8tJNYhBY5T+q8dJNYhDkPw==\"},\"xaxis\":\"x\",\"y\":{\"dtype\":\"f8\",\"bdata\":\"ZmZmZmbmVkD2KFyPwhVWQI\\u002fC9Shcv1VAuB6F61FoVUDD9ShcjxJVQJqZmZmZ+VRAj8L1KFyPVEBmZmZmZoZUQDMzMzMzg1RAj8L1KFx\\u002fVED2KFyPwtVTQAAAAAAAwFNAXI\\u002fC9SgsU0CF61G4HsVSQOxRuB6Fa1JAH4XrUbieUUC4HoXrUWhRQFK4HoXrgVBA9ihcj8K1T0BmZmZmZkZPQBSuR+F6FE9AuB6F61FYSkBcj8L1KNxHQA==\"},\"yaxis\":\"y\",\"type\":\"scatter\"},{\"hovertemplate\":\"Continent=South America\\u003cbr\\u003eHuman Development Index (2021)=%{x}\\u003cbr\\u003eAverage IQ=%{y}\\u003cextra\\u003e\\u003c\\u002fextra\\u003e\",\"legendgroup\":\"South America\",\"marker\":{\"color\":\"#FF6692\",\"symbol\":\"circle\"},\"mode\":\"markers\",\"name\":\"South America\",\"orientation\":\"v\",\"showlegend\":true,\"x\":{\"dtype\":\"f8\",\"bdata\":\"XI\\u002fC9Shc5z9cj8L1KFzrPxfZzvdT4+k\\u002fi2zn+6nx6j+LbOf7qfHmP1TjpZvEIOg\\u002fDAIrhxbZ5j+q8dJNYhDoP+kmMQisHOY\\u002f\\u002fKnx0k1i6D+uR+F6FK7nP76fGi\\u002fdJOY\\u002f\"},\"xaxis\":\"x\",\"y\":{\"dtype\":\"f8\",\"bdata\":\"w\\u002fUoXI+SVkApXI\\u002fC9fhVQPYoXI\\u002fC5VVAuB6F61GoVUDD9ShcjwJVQLgehetR2FRAH4XrUbjOVEC4HoXrUchUQI\\u002fC9Shcv1RAXI\\u002fC9ShcVEBxPQrXo5BTQFK4HoXrIVNA\"},\"yaxis\":\"y\",\"type\":\"scatter\"},{\"hovertemplate\":\"Continent=Africa\\u003cbr\\u003eHuman Development Index (2021)=%{x}\\u003cbr\\u003eAverage IQ=%{y}\\u003cextra\\u003e\\u003c\\u002fextra\\u003e\",\"legendgroup\":\"Africa\",\"marker\":{\"color\":\"#B6E880\",\"symbol\":\"circle\"},\"mode\":\"markers\",\"name\":\"Africa\",\"orientation\":\"v\",\"showlegend\":true,\"x\":{\"dtype\":\"f8\",\"bdata\":\"RIts5\\u002fup6T9g5dAi2\\u002fnmPzEIrBxaZOc\\u002fnu+nxks32T+oxks3iUHgPx+F61G4Huk\\u002fJzEIrBxa4D9CYOXQItvhP9V46SYxCOA\\u002fzczMzMzM4D8xCKwcWmTnP9ejcD0K1+c\\u002fZmZmZmZm4j+Nl24Sg8DiP8UgsHJokeE\\u002fYOXQItv54j8j2\\u002fl+arzcPyUGgZVDi9w\\u002f3SQGgZVD2z+amZmZmZnZP0oMAiuHFuE\\u002fzczMzMzM4D\\u002f8qfHSTWLgP5MYBFYOLeY\\u002fppvEILBy4D83iUFg5dDmP7TIdr6fGuM\\u002fsHJoke183z\\u002fXo3A9CtfnPxSuR+F6FOI\\u002frBxaZDvf3z99PzVeukngPzvfT42XbuI\\u002fH4XrUbge4T\\u002fXo3A9CtfnP0Jg5dAi2+U\\u002frkfhehSu4z8tsp3vp8bjPxKDwMqhReI\\u002fZDvfT42X5j8OLbKd76feP0Jg5dAi29k\\u002fc2iR7Xw\\u002f4T8xCKwcWmTbP5huEoPAyuE\\u002fpHA9Ctej2D\\u002fTTWIQWDnkP9ejcD0K1+c\\u002fw\\u002fUoXI\\u002fC3T8AAAAAAADgP2IQWDm0yN4\\u002fukkMAiuH3j8=\"},\"xaxis\":\"x\",\"y\":{\"dtype\":\"f8\",\"bdata\":\"pHA9CtejVUB7FK5H4TpUQK5H4XoUzlNASOF6FK63U0BI4XoUrrdTQHE9CtejsFNASOF6FK5XU0AUrkfhekRTQMP1KFyPMlNAexSuR+EaU0AUrkfhehRTQAAAAAAAAFNAzczMzMzMUkBmZmZmZsZSQM3MzMzMvFJAcT0K16OAUkAzMzMzM3NSQAAAAAAAIFJA9ihcj8IFUkAUrkfherRRQM3MzMzMfFFAPQrXo3BtUUDNzMzMzGxRQM3MzMzMXFFASOF6FK43UUBI4XoUrjdRQEjhehSuN1FA4XoUrkcxUUCPwvUoXC9RQOxRuB6FG1FAexSuR+EaUUAK16NwPRpRQHE9Ctej8FBAcT0K16PwUEB7FK5H4epQQFK4HoXrwVBAXI\\u002fC9SiMUECuR+F6FE5QQHsUrkfhOlBAXI\\u002fC9Sh8T0Bcj8L1KHxPQGZmZmZmRk9ACtejcD3qTUDhehSuR+FNQOF6FK5H4U1ArkfhehROTUAUrkfhehRNQBSuR+F6FE1APQrXo3C9SkDXo3A9CldKQClcj8L1iEZAKVyPwvWIRkA=\"},\"yaxis\":\"y\",\"type\":\"scatter\"}],                        {\"template\":{\"data\":{\"histogram2dcontour\":[{\"type\":\"histogram2dcontour\",\"colorbar\":{\"outlinewidth\":0,\"ticks\":\"\"},\"colorscale\":[[0.0,\"#0d0887\"],[0.1111111111111111,\"#46039f\"],[0.2222222222222222,\"#7201a8\"],[0.3333333333333333,\"#9c179e\"],[0.4444444444444444,\"#bd3786\"],[0.5555555555555556,\"#d8576b\"],[0.6666666666666666,\"#ed7953\"],[0.7777777777777778,\"#fb9f3a\"],[0.8888888888888888,\"#fdca26\"],[1.0,\"#f0f921\"]]}],\"choropleth\":[{\"type\":\"choropleth\",\"colorbar\":{\"outlinewidth\":0,\"ticks\":\"\"}}],\"histogram2d\":[{\"type\":\"histogram2d\",\"colorbar\":{\"outlinewidth\":0,\"ticks\":\"\"},\"colorscale\":[[0.0,\"#0d0887\"],[0.1111111111111111,\"#46039f\"],[0.2222222222222222,\"#7201a8\"],[0.3333333333333333,\"#9c179e\"],[0.4444444444444444,\"#bd3786\"],[0.5555555555555556,\"#d8576b\"],[0.6666666666666666,\"#ed7953\"],[0.7777777777777778,\"#fb9f3a\"],[0.8888888888888888,\"#fdca26\"],[1.0,\"#f0f921\"]]}],\"heatmap\":[{\"type\":\"heatmap\",\"colorbar\":{\"outlinewidth\":0,\"ticks\":\"\"},\"colorscale\":[[0.0,\"#0d0887\"],[0.1111111111111111,\"#46039f\"],[0.2222222222222222,\"#7201a8\"],[0.3333333333333333,\"#9c179e\"],[0.4444444444444444,\"#bd3786\"],[0.5555555555555556,\"#d8576b\"],[0.6666666666666666,\"#ed7953\"],[0.7777777777777778,\"#fb9f3a\"],[0.8888888888888888,\"#fdca26\"],[1.0,\"#f0f921\"]]}],\"contourcarpet\":[{\"type\":\"contourcarpet\",\"colorbar\":{\"outlinewidth\":0,\"ticks\":\"\"}}],\"contour\":[{\"type\":\"contour\",\"colorbar\":{\"outlinewidth\":0,\"ticks\":\"\"},\"colorscale\":[[0.0,\"#0d0887\"],[0.1111111111111111,\"#46039f\"],[0.2222222222222222,\"#7201a8\"],[0.3333333333333333,\"#9c179e\"],[0.4444444444444444,\"#bd3786\"],[0.5555555555555556,\"#d8576b\"],[0.6666666666666666,\"#ed7953\"],[0.7777777777777778,\"#fb9f3a\"],[0.8888888888888888,\"#fdca26\"],[1.0,\"#f0f921\"]]}],\"surface\":[{\"type\":\"surface\",\"colorbar\":{\"outlinewidth\":0,\"ticks\":\"\"},\"colorscale\":[[0.0,\"#0d0887\"],[0.1111111111111111,\"#46039f\"],[0.2222222222222222,\"#7201a8\"],[0.3333333333333333,\"#9c179e\"],[0.4444444444444444,\"#bd3786\"],[0.5555555555555556,\"#d8576b\"],[0.6666666666666666,\"#ed7953\"],[0.7777777777777778,\"#fb9f3a\"],[0.8888888888888888,\"#fdca26\"],[1.0,\"#f0f921\"]]}],\"mesh3d\":[{\"type\":\"mesh3d\",\"colorbar\":{\"outlinewidth\":0,\"ticks\":\"\"}}],\"scatter\":[{\"fillpattern\":{\"fillmode\":\"overlay\",\"size\":10,\"solidity\":0.2},\"type\":\"scatter\"}],\"parcoords\":[{\"type\":\"parcoords\",\"line\":{\"colorbar\":{\"outlinewidth\":0,\"ticks\":\"\"}}}],\"scatterpolargl\":[{\"type\":\"scatterpolargl\",\"marker\":{\"colorbar\":{\"outlinewidth\":0,\"ticks\":\"\"}}}],\"bar\":[{\"error_x\":{\"color\":\"#2a3f5f\"},\"error_y\":{\"color\":\"#2a3f5f\"},\"marker\":{\"line\":{\"color\":\"#E5ECF6\",\"width\":0.5},\"pattern\":{\"fillmode\":\"overlay\",\"size\":10,\"solidity\":0.2}},\"type\":\"bar\"}],\"scattergeo\":[{\"type\":\"scattergeo\",\"marker\":{\"colorbar\":{\"outlinewidth\":0,\"ticks\":\"\"}}}],\"scatterpolar\":[{\"type\":\"scatterpolar\",\"marker\":{\"colorbar\":{\"outlinewidth\":0,\"ticks\":\"\"}}}],\"histogram\":[{\"marker\":{\"pattern\":{\"fillmode\":\"overlay\",\"size\":10,\"solidity\":0.2}},\"type\":\"histogram\"}],\"scattergl\":[{\"type\":\"scattergl\",\"marker\":{\"colorbar\":{\"outlinewidth\":0,\"ticks\":\"\"}}}],\"scatter3d\":[{\"type\":\"scatter3d\",\"line\":{\"colorbar\":{\"outlinewidth\":0,\"ticks\":\"\"}},\"marker\":{\"colorbar\":{\"outlinewidth\":0,\"ticks\":\"\"}}}],\"scattermap\":[{\"type\":\"scattermap\",\"marker\":{\"colorbar\":{\"outlinewidth\":0,\"ticks\":\"\"}}}],\"scattermapbox\":[{\"type\":\"scattermapbox\",\"marker\":{\"colorbar\":{\"outlinewidth\":0,\"ticks\":\"\"}}}],\"scatterternary\":[{\"type\":\"scatterternary\",\"marker\":{\"colorbar\":{\"outlinewidth\":0,\"ticks\":\"\"}}}],\"scattercarpet\":[{\"type\":\"scattercarpet\",\"marker\":{\"colorbar\":{\"outlinewidth\":0,\"ticks\":\"\"}}}],\"carpet\":[{\"aaxis\":{\"endlinecolor\":\"#2a3f5f\",\"gridcolor\":\"white\",\"linecolor\":\"white\",\"minorgridcolor\":\"white\",\"startlinecolor\":\"#2a3f5f\"},\"baxis\":{\"endlinecolor\":\"#2a3f5f\",\"gridcolor\":\"white\",\"linecolor\":\"white\",\"minorgridcolor\":\"white\",\"startlinecolor\":\"#2a3f5f\"},\"type\":\"carpet\"}],\"table\":[{\"cells\":{\"fill\":{\"color\":\"#EBF0F8\"},\"line\":{\"color\":\"white\"}},\"header\":{\"fill\":{\"color\":\"#C8D4E3\"},\"line\":{\"color\":\"white\"}},\"type\":\"table\"}],\"barpolar\":[{\"marker\":{\"line\":{\"color\":\"#E5ECF6\",\"width\":0.5},\"pattern\":{\"fillmode\":\"overlay\",\"size\":10,\"solidity\":0.2}},\"type\":\"barpolar\"}],\"pie\":[{\"automargin\":true,\"type\":\"pie\"}]},\"layout\":{\"autotypenumbers\":\"strict\",\"colorway\":[\"#636efa\",\"#EF553B\",\"#00cc96\",\"#ab63fa\",\"#FFA15A\",\"#19d3f3\",\"#FF6692\",\"#B6E880\",\"#FF97FF\",\"#FECB52\"],\"font\":{\"color\":\"#2a3f5f\"},\"hovermode\":\"closest\",\"hoverlabel\":{\"align\":\"left\"},\"paper_bgcolor\":\"white\",\"plot_bgcolor\":\"#E5ECF6\",\"polar\":{\"bgcolor\":\"#E5ECF6\",\"angularaxis\":{\"gridcolor\":\"white\",\"linecolor\":\"white\",\"ticks\":\"\"},\"radialaxis\":{\"gridcolor\":\"white\",\"linecolor\":\"white\",\"ticks\":\"\"}},\"ternary\":{\"bgcolor\":\"#E5ECF6\",\"aaxis\":{\"gridcolor\":\"white\",\"linecolor\":\"white\",\"ticks\":\"\"},\"baxis\":{\"gridcolor\":\"white\",\"linecolor\":\"white\",\"ticks\":\"\"},\"caxis\":{\"gridcolor\":\"white\",\"linecolor\":\"white\",\"ticks\":\"\"}},\"coloraxis\":{\"colorbar\":{\"outlinewidth\":0,\"ticks\":\"\"}},\"colorscale\":{\"sequential\":[[0.0,\"#0d0887\"],[0.1111111111111111,\"#46039f\"],[0.2222222222222222,\"#7201a8\"],[0.3333333333333333,\"#9c179e\"],[0.4444444444444444,\"#bd3786\"],[0.5555555555555556,\"#d8576b\"],[0.6666666666666666,\"#ed7953\"],[0.7777777777777778,\"#fb9f3a\"],[0.8888888888888888,\"#fdca26\"],[1.0,\"#f0f921\"]],\"sequentialminus\":[[0.0,\"#0d0887\"],[0.1111111111111111,\"#46039f\"],[0.2222222222222222,\"#7201a8\"],[0.3333333333333333,\"#9c179e\"],[0.4444444444444444,\"#bd3786\"],[0.5555555555555556,\"#d8576b\"],[0.6666666666666666,\"#ed7953\"],[0.7777777777777778,\"#fb9f3a\"],[0.8888888888888888,\"#fdca26\"],[1.0,\"#f0f921\"]],\"diverging\":[[0,\"#8e0152\"],[0.1,\"#c51b7d\"],[0.2,\"#de77ae\"],[0.3,\"#f1b6da\"],[0.4,\"#fde0ef\"],[0.5,\"#f7f7f7\"],[0.6,\"#e6f5d0\"],[0.7,\"#b8e186\"],[0.8,\"#7fbc41\"],[0.9,\"#4d9221\"],[1,\"#276419\"]]},\"xaxis\":{\"gridcolor\":\"white\",\"linecolor\":\"white\",\"ticks\":\"\",\"title\":{\"standoff\":15},\"zerolinecolor\":\"white\",\"automargin\":true,\"zerolinewidth\":2},\"yaxis\":{\"gridcolor\":\"white\",\"linecolor\":\"white\",\"ticks\":\"\",\"title\":{\"standoff\":15},\"zerolinecolor\":\"white\",\"automargin\":true,\"zerolinewidth\":2},\"scene\":{\"xaxis\":{\"backgroundcolor\":\"#E5ECF6\",\"gridcolor\":\"white\",\"linecolor\":\"white\",\"showbackground\":true,\"ticks\":\"\",\"zerolinecolor\":\"white\",\"gridwidth\":2},\"yaxis\":{\"backgroundcolor\":\"#E5ECF6\",\"gridcolor\":\"white\",\"linecolor\":\"white\",\"showbackground\":true,\"ticks\":\"\",\"zerolinecolor\":\"white\",\"gridwidth\":2},\"zaxis\":{\"backgroundcolor\":\"#E5ECF6\",\"gridcolor\":\"white\",\"linecolor\":\"white\",\"showbackground\":true,\"ticks\":\"\",\"zerolinecolor\":\"white\",\"gridwidth\":2}},\"shapedefaults\":{\"line\":{\"color\":\"#2a3f5f\"}},\"annotationdefaults\":{\"arrowcolor\":\"#2a3f5f\",\"arrowhead\":0,\"arrowwidth\":1},\"geo\":{\"bgcolor\":\"white\",\"landcolor\":\"#E5ECF6\",\"subunitcolor\":\"white\",\"showland\":true,\"showlakes\":true,\"lakecolor\":\"white\"},\"title\":{\"x\":0.05},\"mapbox\":{\"style\":\"light\"}}},\"xaxis\":{\"anchor\":\"y\",\"domain\":[0.0,1.0],\"title\":{\"text\":\"Human Development Index (2021)\"}},\"yaxis\":{\"anchor\":\"x\",\"domain\":[0.0,1.0],\"title\":{\"text\":\"Average IQ\"}},\"legend\":{\"title\":{\"text\":\"Continent\"},\"tracegroupgap\":0},\"title\":{\"text\":\"Average IQ vs HDI (2021)\"}},                        {\"responsive\": true}                    ).then(function(){\n",
       "                            \n",
       "var gd = document.getElementById('dea2a611-c2e6-4c9b-ae16-2b1b97319786');\n",
       "var x = new MutationObserver(function (mutations, observer) {{\n",
       "        var display = window.getComputedStyle(gd).display;\n",
       "        if (!display || display === 'none') {{\n",
       "            console.log([gd, 'removed!']);\n",
       "            Plotly.purge(gd);\n",
       "            observer.disconnect();\n",
       "        }}\n",
       "}});\n",
       "\n",
       "// Listen for the removal of the full notebook cells\n",
       "var notebookContainer = gd.closest('#notebook-container');\n",
       "if (notebookContainer) {{\n",
       "    x.observe(notebookContainer, {childList: true});\n",
       "}}\n",
       "\n",
       "// Listen for the clearing of the current output cell\n",
       "var outputEl = gd.closest('.output');\n",
       "if (outputEl) {{\n",
       "    x.observe(outputEl, {childList: true});\n",
       "}}\n",
       "\n",
       "                        })                };            </script>        </div>"
      ]
     },
     "metadata": {},
     "output_type": "display_data"
    }
   ],
   "source": [
    "import plotly.express as px\n",
    "import pandas as pd\n",
    "\n",
    "# Assuming df is your DataFrame and it contains the necessary columns\n",
    "\n",
    "# Scatter plot for Average IQ vs Literacy Rate\n",
    "fig1 = px.scatter(df, x='Literacy Rate', y='Average IQ',\n",
    "                  title='Average IQ vs Literacy Rate',\n",
    "                  labels={'Literacy Rate': 'Literacy Rate (%)', 'Average IQ': 'Average IQ'},\n",
    "                  color='Continent',  # You can add color by continent to better visualize patterns\n",
    "                  color_continuous_scale='Viridis')\n",
    "\n",
    "# Scatter plot for Average IQ vs Mean Years of Schooling\n",
    "fig2 = px.scatter(df, x='Mean years of schooling - 2021', y='Average IQ',\n",
    "                  title='Average IQ vs Mean Years of Schooling (2021)',\n",
    "                  labels={'Mean years of schooling - 2021': 'Mean Years of Schooling', 'Average IQ': 'Average IQ'},\n",
    "                  color='Continent', \n",
    "                  color_continuous_scale='Viridis')\n",
    "\n",
    "# Scatter plot for Average IQ vs HDI (2021)\n",
    "fig3 = px.scatter(df, x='HDI (2021)', y='Average IQ',\n",
    "                  title='Average IQ vs HDI (2021)',\n",
    "                  labels={'HDI (2021)': 'Human Development Index (2021)', 'Average IQ': 'Average IQ'},\n",
    "                  color='Continent', \n",
    "                  color_continuous_scale='Viridis')\n",
    "\n",
    "# Show the plots\n",
    "fig1.show()\n",
    "fig2.show()\n",
    "fig3.show()\n"
   ]
  },
  {
   "cell_type": "code",
   "execution_count": 88,
   "metadata": {},
   "outputs": [
    {
     "data": {
      "text/html": [
       "        <script type=\"text/javascript\">\n",
       "        window.PlotlyConfig = {MathJaxConfig: 'local'};\n",
       "        if (window.MathJax && window.MathJax.Hub && window.MathJax.Hub.Config) {window.MathJax.Hub.Config({SVG: {font: \"STIX-Web\"}});}\n",
       "        </script>\n",
       "        <script type=\"module\">import \"https://cdn.plot.ly/plotly-3.0.0.min\"</script>\n",
       "        "
      ]
     },
     "metadata": {},
     "output_type": "display_data"
    },
    {
     "data": {
      "application/vnd.plotly.v1+json": {
       "config": {
        "linkText": "Export to plot.ly",
        "plotlyServerURL": "https://plot.ly",
        "showLink": false
       },
       "data": [
        {
         "hoverinfo": "text+y",
         "marker": {
          "color": "lightblue"
         },
         "name": "Highest IQ",
         "text": [
          "Japan",
          "Belarus",
          "Canada",
          "Australia",
          "Russia",
          "Barbados",
          "Suriname",
          "Mauritius"
         ],
         "type": "bar",
         "x": [
          "Asia",
          "Europe",
          "North America",
          "Oceania",
          "Europe/Asia",
          "Central America",
          "South America",
          "Africa"
         ],
         "y": {
          "bdata": "H4XrUbieWkBmZmZmZmZZQOF6FK5H4VhAj8L1KFzPWEDD9ShcjxJYQGZmZmZm5lZAw/UoXI+SVkCkcD0K16NVQA==",
          "dtype": "f8"
         }
        },
        {
         "hoverinfo": "text+y",
         "marker": {
          "color": "lightyellow"
         },
         "name": "Lowest IQ",
         "text": [
          "Nepal",
          "Albania",
          "Mexico",
          "Papua New Guinea",
          "Georgia",
          "Guatemala",
          "Bolivia",
          "Liberia"
         ],
         "type": "bar",
         "x": [
          "Asia",
          "Europe",
          "North America",
          "Oceania",
          "Europe/Asia",
          "Central America",
          "South America",
          "Africa"
         ],
         "y": {
          "bdata": "H4XrUbh+RUAAAAAAAHBUQB+F61G47lVAj8L1KFyfU0AAAAAAACBVQFyPwvUo3EdAUrgeheshU0ApXI/C9YhGQA==",
          "dtype": "f8"
         }
        }
       ],
       "layout": {
        "barmode": "group",
        "font": {
         "color": "black"
        },
        "legend": {
         "title": {
          "text": "IQ Rank"
         }
        },
        "paper_bgcolor": "white",
        "plot_bgcolor": "white",
        "template": {
         "data": {
          "bar": [
           {
            "error_x": {
             "color": "#2a3f5f"
            },
            "error_y": {
             "color": "#2a3f5f"
            },
            "marker": {
             "line": {
              "color": "#E5ECF6",
              "width": 0.5
             },
             "pattern": {
              "fillmode": "overlay",
              "size": 10,
              "solidity": 0.2
             }
            },
            "type": "bar"
           }
          ],
          "barpolar": [
           {
            "marker": {
             "line": {
              "color": "#E5ECF6",
              "width": 0.5
             },
             "pattern": {
              "fillmode": "overlay",
              "size": 10,
              "solidity": 0.2
             }
            },
            "type": "barpolar"
           }
          ],
          "carpet": [
           {
            "aaxis": {
             "endlinecolor": "#2a3f5f",
             "gridcolor": "white",
             "linecolor": "white",
             "minorgridcolor": "white",
             "startlinecolor": "#2a3f5f"
            },
            "baxis": {
             "endlinecolor": "#2a3f5f",
             "gridcolor": "white",
             "linecolor": "white",
             "minorgridcolor": "white",
             "startlinecolor": "#2a3f5f"
            },
            "type": "carpet"
           }
          ],
          "choropleth": [
           {
            "colorbar": {
             "outlinewidth": 0,
             "ticks": ""
            },
            "type": "choropleth"
           }
          ],
          "contour": [
           {
            "colorbar": {
             "outlinewidth": 0,
             "ticks": ""
            },
            "colorscale": [
             [
              0,
              "#0d0887"
             ],
             [
              0.1111111111111111,
              "#46039f"
             ],
             [
              0.2222222222222222,
              "#7201a8"
             ],
             [
              0.3333333333333333,
              "#9c179e"
             ],
             [
              0.4444444444444444,
              "#bd3786"
             ],
             [
              0.5555555555555556,
              "#d8576b"
             ],
             [
              0.6666666666666666,
              "#ed7953"
             ],
             [
              0.7777777777777778,
              "#fb9f3a"
             ],
             [
              0.8888888888888888,
              "#fdca26"
             ],
             [
              1,
              "#f0f921"
             ]
            ],
            "type": "contour"
           }
          ],
          "contourcarpet": [
           {
            "colorbar": {
             "outlinewidth": 0,
             "ticks": ""
            },
            "type": "contourcarpet"
           }
          ],
          "heatmap": [
           {
            "colorbar": {
             "outlinewidth": 0,
             "ticks": ""
            },
            "colorscale": [
             [
              0,
              "#0d0887"
             ],
             [
              0.1111111111111111,
              "#46039f"
             ],
             [
              0.2222222222222222,
              "#7201a8"
             ],
             [
              0.3333333333333333,
              "#9c179e"
             ],
             [
              0.4444444444444444,
              "#bd3786"
             ],
             [
              0.5555555555555556,
              "#d8576b"
             ],
             [
              0.6666666666666666,
              "#ed7953"
             ],
             [
              0.7777777777777778,
              "#fb9f3a"
             ],
             [
              0.8888888888888888,
              "#fdca26"
             ],
             [
              1,
              "#f0f921"
             ]
            ],
            "type": "heatmap"
           }
          ],
          "histogram": [
           {
            "marker": {
             "pattern": {
              "fillmode": "overlay",
              "size": 10,
              "solidity": 0.2
             }
            },
            "type": "histogram"
           }
          ],
          "histogram2d": [
           {
            "colorbar": {
             "outlinewidth": 0,
             "ticks": ""
            },
            "colorscale": [
             [
              0,
              "#0d0887"
             ],
             [
              0.1111111111111111,
              "#46039f"
             ],
             [
              0.2222222222222222,
              "#7201a8"
             ],
             [
              0.3333333333333333,
              "#9c179e"
             ],
             [
              0.4444444444444444,
              "#bd3786"
             ],
             [
              0.5555555555555556,
              "#d8576b"
             ],
             [
              0.6666666666666666,
              "#ed7953"
             ],
             [
              0.7777777777777778,
              "#fb9f3a"
             ],
             [
              0.8888888888888888,
              "#fdca26"
             ],
             [
              1,
              "#f0f921"
             ]
            ],
            "type": "histogram2d"
           }
          ],
          "histogram2dcontour": [
           {
            "colorbar": {
             "outlinewidth": 0,
             "ticks": ""
            },
            "colorscale": [
             [
              0,
              "#0d0887"
             ],
             [
              0.1111111111111111,
              "#46039f"
             ],
             [
              0.2222222222222222,
              "#7201a8"
             ],
             [
              0.3333333333333333,
              "#9c179e"
             ],
             [
              0.4444444444444444,
              "#bd3786"
             ],
             [
              0.5555555555555556,
              "#d8576b"
             ],
             [
              0.6666666666666666,
              "#ed7953"
             ],
             [
              0.7777777777777778,
              "#fb9f3a"
             ],
             [
              0.8888888888888888,
              "#fdca26"
             ],
             [
              1,
              "#f0f921"
             ]
            ],
            "type": "histogram2dcontour"
           }
          ],
          "mesh3d": [
           {
            "colorbar": {
             "outlinewidth": 0,
             "ticks": ""
            },
            "type": "mesh3d"
           }
          ],
          "parcoords": [
           {
            "line": {
             "colorbar": {
              "outlinewidth": 0,
              "ticks": ""
             }
            },
            "type": "parcoords"
           }
          ],
          "pie": [
           {
            "automargin": true,
            "type": "pie"
           }
          ],
          "scatter": [
           {
            "fillpattern": {
             "fillmode": "overlay",
             "size": 10,
             "solidity": 0.2
            },
            "type": "scatter"
           }
          ],
          "scatter3d": [
           {
            "line": {
             "colorbar": {
              "outlinewidth": 0,
              "ticks": ""
             }
            },
            "marker": {
             "colorbar": {
              "outlinewidth": 0,
              "ticks": ""
             }
            },
            "type": "scatter3d"
           }
          ],
          "scattercarpet": [
           {
            "marker": {
             "colorbar": {
              "outlinewidth": 0,
              "ticks": ""
             }
            },
            "type": "scattercarpet"
           }
          ],
          "scattergeo": [
           {
            "marker": {
             "colorbar": {
              "outlinewidth": 0,
              "ticks": ""
             }
            },
            "type": "scattergeo"
           }
          ],
          "scattergl": [
           {
            "marker": {
             "colorbar": {
              "outlinewidth": 0,
              "ticks": ""
             }
            },
            "type": "scattergl"
           }
          ],
          "scattermap": [
           {
            "marker": {
             "colorbar": {
              "outlinewidth": 0,
              "ticks": ""
             }
            },
            "type": "scattermap"
           }
          ],
          "scattermapbox": [
           {
            "marker": {
             "colorbar": {
              "outlinewidth": 0,
              "ticks": ""
             }
            },
            "type": "scattermapbox"
           }
          ],
          "scatterpolar": [
           {
            "marker": {
             "colorbar": {
              "outlinewidth": 0,
              "ticks": ""
             }
            },
            "type": "scatterpolar"
           }
          ],
          "scatterpolargl": [
           {
            "marker": {
             "colorbar": {
              "outlinewidth": 0,
              "ticks": ""
             }
            },
            "type": "scatterpolargl"
           }
          ],
          "scatterternary": [
           {
            "marker": {
             "colorbar": {
              "outlinewidth": 0,
              "ticks": ""
             }
            },
            "type": "scatterternary"
           }
          ],
          "surface": [
           {
            "colorbar": {
             "outlinewidth": 0,
             "ticks": ""
            },
            "colorscale": [
             [
              0,
              "#0d0887"
             ],
             [
              0.1111111111111111,
              "#46039f"
             ],
             [
              0.2222222222222222,
              "#7201a8"
             ],
             [
              0.3333333333333333,
              "#9c179e"
             ],
             [
              0.4444444444444444,
              "#bd3786"
             ],
             [
              0.5555555555555556,
              "#d8576b"
             ],
             [
              0.6666666666666666,
              "#ed7953"
             ],
             [
              0.7777777777777778,
              "#fb9f3a"
             ],
             [
              0.8888888888888888,
              "#fdca26"
             ],
             [
              1,
              "#f0f921"
             ]
            ],
            "type": "surface"
           }
          ],
          "table": [
           {
            "cells": {
             "fill": {
              "color": "#EBF0F8"
             },
             "line": {
              "color": "white"
             }
            },
            "header": {
             "fill": {
              "color": "#C8D4E3"
             },
             "line": {
              "color": "white"
             }
            },
            "type": "table"
           }
          ]
         },
         "layout": {
          "annotationdefaults": {
           "arrowcolor": "#2a3f5f",
           "arrowhead": 0,
           "arrowwidth": 1
          },
          "autotypenumbers": "strict",
          "coloraxis": {
           "colorbar": {
            "outlinewidth": 0,
            "ticks": ""
           }
          },
          "colorscale": {
           "diverging": [
            [
             0,
             "#8e0152"
            ],
            [
             0.1,
             "#c51b7d"
            ],
            [
             0.2,
             "#de77ae"
            ],
            [
             0.3,
             "#f1b6da"
            ],
            [
             0.4,
             "#fde0ef"
            ],
            [
             0.5,
             "#f7f7f7"
            ],
            [
             0.6,
             "#e6f5d0"
            ],
            [
             0.7,
             "#b8e186"
            ],
            [
             0.8,
             "#7fbc41"
            ],
            [
             0.9,
             "#4d9221"
            ],
            [
             1,
             "#276419"
            ]
           ],
           "sequential": [
            [
             0,
             "#0d0887"
            ],
            [
             0.1111111111111111,
             "#46039f"
            ],
            [
             0.2222222222222222,
             "#7201a8"
            ],
            [
             0.3333333333333333,
             "#9c179e"
            ],
            [
             0.4444444444444444,
             "#bd3786"
            ],
            [
             0.5555555555555556,
             "#d8576b"
            ],
            [
             0.6666666666666666,
             "#ed7953"
            ],
            [
             0.7777777777777778,
             "#fb9f3a"
            ],
            [
             0.8888888888888888,
             "#fdca26"
            ],
            [
             1,
             "#f0f921"
            ]
           ],
           "sequentialminus": [
            [
             0,
             "#0d0887"
            ],
            [
             0.1111111111111111,
             "#46039f"
            ],
            [
             0.2222222222222222,
             "#7201a8"
            ],
            [
             0.3333333333333333,
             "#9c179e"
            ],
            [
             0.4444444444444444,
             "#bd3786"
            ],
            [
             0.5555555555555556,
             "#d8576b"
            ],
            [
             0.6666666666666666,
             "#ed7953"
            ],
            [
             0.7777777777777778,
             "#fb9f3a"
            ],
            [
             0.8888888888888888,
             "#fdca26"
            ],
            [
             1,
             "#f0f921"
            ]
           ]
          },
          "colorway": [
           "#636efa",
           "#EF553B",
           "#00cc96",
           "#ab63fa",
           "#FFA15A",
           "#19d3f3",
           "#FF6692",
           "#B6E880",
           "#FF97FF",
           "#FECB52"
          ],
          "font": {
           "color": "#2a3f5f"
          },
          "geo": {
           "bgcolor": "white",
           "lakecolor": "white",
           "landcolor": "#E5ECF6",
           "showlakes": true,
           "showland": true,
           "subunitcolor": "white"
          },
          "hoverlabel": {
           "align": "left"
          },
          "hovermode": "closest",
          "mapbox": {
           "style": "light"
          },
          "paper_bgcolor": "white",
          "plot_bgcolor": "#E5ECF6",
          "polar": {
           "angularaxis": {
            "gridcolor": "white",
            "linecolor": "white",
            "ticks": ""
           },
           "bgcolor": "#E5ECF6",
           "radialaxis": {
            "gridcolor": "white",
            "linecolor": "white",
            "ticks": ""
           }
          },
          "scene": {
           "xaxis": {
            "backgroundcolor": "#E5ECF6",
            "gridcolor": "white",
            "gridwidth": 2,
            "linecolor": "white",
            "showbackground": true,
            "ticks": "",
            "zerolinecolor": "white"
           },
           "yaxis": {
            "backgroundcolor": "#E5ECF6",
            "gridcolor": "white",
            "gridwidth": 2,
            "linecolor": "white",
            "showbackground": true,
            "ticks": "",
            "zerolinecolor": "white"
           },
           "zaxis": {
            "backgroundcolor": "#E5ECF6",
            "gridcolor": "white",
            "gridwidth": 2,
            "linecolor": "white",
            "showbackground": true,
            "ticks": "",
            "zerolinecolor": "white"
           }
          },
          "shapedefaults": {
           "line": {
            "color": "#2a3f5f"
           }
          },
          "ternary": {
           "aaxis": {
            "gridcolor": "white",
            "linecolor": "white",
            "ticks": ""
           },
           "baxis": {
            "gridcolor": "white",
            "linecolor": "white",
            "ticks": ""
           },
           "bgcolor": "#E5ECF6",
           "caxis": {
            "gridcolor": "white",
            "linecolor": "white",
            "ticks": ""
           }
          },
          "title": {
           "x": 0.05
          },
          "xaxis": {
           "automargin": true,
           "gridcolor": "white",
           "linecolor": "white",
           "ticks": "",
           "title": {
            "standoff": 15
           },
           "zerolinecolor": "white",
           "zerolinewidth": 2
          },
          "yaxis": {
           "automargin": true,
           "gridcolor": "white",
           "linecolor": "white",
           "ticks": "",
           "title": {
            "standoff": 15
           },
           "zerolinecolor": "white",
           "zerolinewidth": 2
          }
         }
        },
        "title": {
         "text": "Country with Highest and Lowest IQ in Each Continent"
        },
        "xaxis": {
         "title": {
          "text": "Continent"
         }
        },
        "yaxis": {
         "title": {
          "text": "Average IQ"
         }
        }
       }
      },
      "text/html": [
       "<div>            <script src=\"https://cdnjs.cloudflare.com/ajax/libs/mathjax/2.7.5/MathJax.js?config=TeX-AMS-MML_SVG\"></script><script type=\"text/javascript\">if (window.MathJax && window.MathJax.Hub && window.MathJax.Hub.Config) {window.MathJax.Hub.Config({SVG: {font: \"STIX-Web\"}});}</script>                <script type=\"text/javascript\">window.PlotlyConfig = {MathJaxConfig: 'local'};</script>\n",
       "        <script charset=\"utf-8\" src=\"https://cdn.plot.ly/plotly-3.0.0.min.js\"></script>                <div id=\"6e5a8897-7a0b-485c-a592-05afb97e1f88\" class=\"plotly-graph-div\" style=\"height:525px; width:100%;\"></div>            <script type=\"text/javascript\">                window.PLOTLYENV=window.PLOTLYENV || {};                                if (document.getElementById(\"6e5a8897-7a0b-485c-a592-05afb97e1f88\")) {                    Plotly.newPlot(                        \"6e5a8897-7a0b-485c-a592-05afb97e1f88\",                        [{\"hoverinfo\":\"text+y\",\"marker\":{\"color\":\"lightblue\"},\"name\":\"Highest IQ\",\"text\":[\"Japan\",\"Belarus\",\"Canada\",\"Australia\",\"Russia\",\"Barbados\",\"Suriname\",\"Mauritius\"],\"x\":[\"Asia\",\"Europe\",\"North America\",\"Oceania\",\"Europe\\u002fAsia\",\"Central America\",\"South America\",\"Africa\"],\"y\":{\"dtype\":\"f8\",\"bdata\":\"H4XrUbieWkBmZmZmZmZZQOF6FK5H4VhAj8L1KFzPWEDD9ShcjxJYQGZmZmZm5lZAw\\u002fUoXI+SVkCkcD0K16NVQA==\"},\"type\":\"bar\"},{\"hoverinfo\":\"text+y\",\"marker\":{\"color\":\"lightyellow\"},\"name\":\"Lowest IQ\",\"text\":[\"Nepal\",\"Albania\",\"Mexico\",\"Papua New Guinea\",\"Georgia\",\"Guatemala\",\"Bolivia\",\"Liberia\"],\"x\":[\"Asia\",\"Europe\",\"North America\",\"Oceania\",\"Europe\\u002fAsia\",\"Central America\",\"South America\",\"Africa\"],\"y\":{\"dtype\":\"f8\",\"bdata\":\"H4XrUbh+RUAAAAAAAHBUQB+F61G47lVAj8L1KFyfU0AAAAAAACBVQFyPwvUo3EdAUrgeheshU0ApXI\\u002fC9YhGQA==\"},\"type\":\"bar\"}],                        {\"barmode\":\"group\",\"font\":{\"color\":\"black\"},\"legend\":{\"title\":{\"text\":\"IQ Rank\"}},\"paper_bgcolor\":\"white\",\"plot_bgcolor\":\"white\",\"template\":{\"data\":{\"barpolar\":[{\"marker\":{\"line\":{\"color\":\"#E5ECF6\",\"width\":0.5},\"pattern\":{\"fillmode\":\"overlay\",\"size\":10,\"solidity\":0.2}},\"type\":\"barpolar\"}],\"bar\":[{\"error_x\":{\"color\":\"#2a3f5f\"},\"error_y\":{\"color\":\"#2a3f5f\"},\"marker\":{\"line\":{\"color\":\"#E5ECF6\",\"width\":0.5},\"pattern\":{\"fillmode\":\"overlay\",\"size\":10,\"solidity\":0.2}},\"type\":\"bar\"}],\"carpet\":[{\"aaxis\":{\"endlinecolor\":\"#2a3f5f\",\"gridcolor\":\"white\",\"linecolor\":\"white\",\"minorgridcolor\":\"white\",\"startlinecolor\":\"#2a3f5f\"},\"baxis\":{\"endlinecolor\":\"#2a3f5f\",\"gridcolor\":\"white\",\"linecolor\":\"white\",\"minorgridcolor\":\"white\",\"startlinecolor\":\"#2a3f5f\"},\"type\":\"carpet\"}],\"choropleth\":[{\"colorbar\":{\"outlinewidth\":0,\"ticks\":\"\"},\"type\":\"choropleth\"}],\"contourcarpet\":[{\"colorbar\":{\"outlinewidth\":0,\"ticks\":\"\"},\"type\":\"contourcarpet\"}],\"contour\":[{\"colorbar\":{\"outlinewidth\":0,\"ticks\":\"\"},\"colorscale\":[[0.0,\"#0d0887\"],[0.1111111111111111,\"#46039f\"],[0.2222222222222222,\"#7201a8\"],[0.3333333333333333,\"#9c179e\"],[0.4444444444444444,\"#bd3786\"],[0.5555555555555556,\"#d8576b\"],[0.6666666666666666,\"#ed7953\"],[0.7777777777777778,\"#fb9f3a\"],[0.8888888888888888,\"#fdca26\"],[1.0,\"#f0f921\"]],\"type\":\"contour\"}],\"heatmap\":[{\"colorbar\":{\"outlinewidth\":0,\"ticks\":\"\"},\"colorscale\":[[0.0,\"#0d0887\"],[0.1111111111111111,\"#46039f\"],[0.2222222222222222,\"#7201a8\"],[0.3333333333333333,\"#9c179e\"],[0.4444444444444444,\"#bd3786\"],[0.5555555555555556,\"#d8576b\"],[0.6666666666666666,\"#ed7953\"],[0.7777777777777778,\"#fb9f3a\"],[0.8888888888888888,\"#fdca26\"],[1.0,\"#f0f921\"]],\"type\":\"heatmap\"}],\"histogram2dcontour\":[{\"colorbar\":{\"outlinewidth\":0,\"ticks\":\"\"},\"colorscale\":[[0.0,\"#0d0887\"],[0.1111111111111111,\"#46039f\"],[0.2222222222222222,\"#7201a8\"],[0.3333333333333333,\"#9c179e\"],[0.4444444444444444,\"#bd3786\"],[0.5555555555555556,\"#d8576b\"],[0.6666666666666666,\"#ed7953\"],[0.7777777777777778,\"#fb9f3a\"],[0.8888888888888888,\"#fdca26\"],[1.0,\"#f0f921\"]],\"type\":\"histogram2dcontour\"}],\"histogram2d\":[{\"colorbar\":{\"outlinewidth\":0,\"ticks\":\"\"},\"colorscale\":[[0.0,\"#0d0887\"],[0.1111111111111111,\"#46039f\"],[0.2222222222222222,\"#7201a8\"],[0.3333333333333333,\"#9c179e\"],[0.4444444444444444,\"#bd3786\"],[0.5555555555555556,\"#d8576b\"],[0.6666666666666666,\"#ed7953\"],[0.7777777777777778,\"#fb9f3a\"],[0.8888888888888888,\"#fdca26\"],[1.0,\"#f0f921\"]],\"type\":\"histogram2d\"}],\"histogram\":[{\"marker\":{\"pattern\":{\"fillmode\":\"overlay\",\"size\":10,\"solidity\":0.2}},\"type\":\"histogram\"}],\"mesh3d\":[{\"colorbar\":{\"outlinewidth\":0,\"ticks\":\"\"},\"type\":\"mesh3d\"}],\"parcoords\":[{\"line\":{\"colorbar\":{\"outlinewidth\":0,\"ticks\":\"\"}},\"type\":\"parcoords\"}],\"pie\":[{\"automargin\":true,\"type\":\"pie\"}],\"scatter3d\":[{\"line\":{\"colorbar\":{\"outlinewidth\":0,\"ticks\":\"\"}},\"marker\":{\"colorbar\":{\"outlinewidth\":0,\"ticks\":\"\"}},\"type\":\"scatter3d\"}],\"scattercarpet\":[{\"marker\":{\"colorbar\":{\"outlinewidth\":0,\"ticks\":\"\"}},\"type\":\"scattercarpet\"}],\"scattergeo\":[{\"marker\":{\"colorbar\":{\"outlinewidth\":0,\"ticks\":\"\"}},\"type\":\"scattergeo\"}],\"scattergl\":[{\"marker\":{\"colorbar\":{\"outlinewidth\":0,\"ticks\":\"\"}},\"type\":\"scattergl\"}],\"scattermapbox\":[{\"marker\":{\"colorbar\":{\"outlinewidth\":0,\"ticks\":\"\"}},\"type\":\"scattermapbox\"}],\"scattermap\":[{\"marker\":{\"colorbar\":{\"outlinewidth\":0,\"ticks\":\"\"}},\"type\":\"scattermap\"}],\"scatterpolargl\":[{\"marker\":{\"colorbar\":{\"outlinewidth\":0,\"ticks\":\"\"}},\"type\":\"scatterpolargl\"}],\"scatterpolar\":[{\"marker\":{\"colorbar\":{\"outlinewidth\":0,\"ticks\":\"\"}},\"type\":\"scatterpolar\"}],\"scatter\":[{\"fillpattern\":{\"fillmode\":\"overlay\",\"size\":10,\"solidity\":0.2},\"type\":\"scatter\"}],\"scatterternary\":[{\"marker\":{\"colorbar\":{\"outlinewidth\":0,\"ticks\":\"\"}},\"type\":\"scatterternary\"}],\"surface\":[{\"colorbar\":{\"outlinewidth\":0,\"ticks\":\"\"},\"colorscale\":[[0.0,\"#0d0887\"],[0.1111111111111111,\"#46039f\"],[0.2222222222222222,\"#7201a8\"],[0.3333333333333333,\"#9c179e\"],[0.4444444444444444,\"#bd3786\"],[0.5555555555555556,\"#d8576b\"],[0.6666666666666666,\"#ed7953\"],[0.7777777777777778,\"#fb9f3a\"],[0.8888888888888888,\"#fdca26\"],[1.0,\"#f0f921\"]],\"type\":\"surface\"}],\"table\":[{\"cells\":{\"fill\":{\"color\":\"#EBF0F8\"},\"line\":{\"color\":\"white\"}},\"header\":{\"fill\":{\"color\":\"#C8D4E3\"},\"line\":{\"color\":\"white\"}},\"type\":\"table\"}]},\"layout\":{\"annotationdefaults\":{\"arrowcolor\":\"#2a3f5f\",\"arrowhead\":0,\"arrowwidth\":1},\"autotypenumbers\":\"strict\",\"coloraxis\":{\"colorbar\":{\"outlinewidth\":0,\"ticks\":\"\"}},\"colorscale\":{\"diverging\":[[0,\"#8e0152\"],[0.1,\"#c51b7d\"],[0.2,\"#de77ae\"],[0.3,\"#f1b6da\"],[0.4,\"#fde0ef\"],[0.5,\"#f7f7f7\"],[0.6,\"#e6f5d0\"],[0.7,\"#b8e186\"],[0.8,\"#7fbc41\"],[0.9,\"#4d9221\"],[1,\"#276419\"]],\"sequential\":[[0.0,\"#0d0887\"],[0.1111111111111111,\"#46039f\"],[0.2222222222222222,\"#7201a8\"],[0.3333333333333333,\"#9c179e\"],[0.4444444444444444,\"#bd3786\"],[0.5555555555555556,\"#d8576b\"],[0.6666666666666666,\"#ed7953\"],[0.7777777777777778,\"#fb9f3a\"],[0.8888888888888888,\"#fdca26\"],[1.0,\"#f0f921\"]],\"sequentialminus\":[[0.0,\"#0d0887\"],[0.1111111111111111,\"#46039f\"],[0.2222222222222222,\"#7201a8\"],[0.3333333333333333,\"#9c179e\"],[0.4444444444444444,\"#bd3786\"],[0.5555555555555556,\"#d8576b\"],[0.6666666666666666,\"#ed7953\"],[0.7777777777777778,\"#fb9f3a\"],[0.8888888888888888,\"#fdca26\"],[1.0,\"#f0f921\"]]},\"colorway\":[\"#636efa\",\"#EF553B\",\"#00cc96\",\"#ab63fa\",\"#FFA15A\",\"#19d3f3\",\"#FF6692\",\"#B6E880\",\"#FF97FF\",\"#FECB52\"],\"font\":{\"color\":\"#2a3f5f\"},\"geo\":{\"bgcolor\":\"white\",\"lakecolor\":\"white\",\"landcolor\":\"#E5ECF6\",\"showlakes\":true,\"showland\":true,\"subunitcolor\":\"white\"},\"hoverlabel\":{\"align\":\"left\"},\"hovermode\":\"closest\",\"mapbox\":{\"style\":\"light\"},\"paper_bgcolor\":\"white\",\"plot_bgcolor\":\"#E5ECF6\",\"polar\":{\"angularaxis\":{\"gridcolor\":\"white\",\"linecolor\":\"white\",\"ticks\":\"\"},\"bgcolor\":\"#E5ECF6\",\"radialaxis\":{\"gridcolor\":\"white\",\"linecolor\":\"white\",\"ticks\":\"\"}},\"scene\":{\"xaxis\":{\"backgroundcolor\":\"#E5ECF6\",\"gridcolor\":\"white\",\"gridwidth\":2,\"linecolor\":\"white\",\"showbackground\":true,\"ticks\":\"\",\"zerolinecolor\":\"white\"},\"yaxis\":{\"backgroundcolor\":\"#E5ECF6\",\"gridcolor\":\"white\",\"gridwidth\":2,\"linecolor\":\"white\",\"showbackground\":true,\"ticks\":\"\",\"zerolinecolor\":\"white\"},\"zaxis\":{\"backgroundcolor\":\"#E5ECF6\",\"gridcolor\":\"white\",\"gridwidth\":2,\"linecolor\":\"white\",\"showbackground\":true,\"ticks\":\"\",\"zerolinecolor\":\"white\"}},\"shapedefaults\":{\"line\":{\"color\":\"#2a3f5f\"}},\"ternary\":{\"aaxis\":{\"gridcolor\":\"white\",\"linecolor\":\"white\",\"ticks\":\"\"},\"baxis\":{\"gridcolor\":\"white\",\"linecolor\":\"white\",\"ticks\":\"\"},\"bgcolor\":\"#E5ECF6\",\"caxis\":{\"gridcolor\":\"white\",\"linecolor\":\"white\",\"ticks\":\"\"}},\"title\":{\"x\":0.05},\"xaxis\":{\"automargin\":true,\"gridcolor\":\"white\",\"linecolor\":\"white\",\"ticks\":\"\",\"title\":{\"standoff\":15},\"zerolinecolor\":\"white\",\"zerolinewidth\":2},\"yaxis\":{\"automargin\":true,\"gridcolor\":\"white\",\"linecolor\":\"white\",\"ticks\":\"\",\"title\":{\"standoff\":15},\"zerolinecolor\":\"white\",\"zerolinewidth\":2}}},\"title\":{\"text\":\"Country with Highest and Lowest IQ in Each Continent\"},\"xaxis\":{\"title\":{\"text\":\"Continent\"}},\"yaxis\":{\"title\":{\"text\":\"Average IQ\"}}},                        {\"responsive\": true}                    ).then(function(){\n",
       "                            \n",
       "var gd = document.getElementById('6e5a8897-7a0b-485c-a592-05afb97e1f88');\n",
       "var x = new MutationObserver(function (mutations, observer) {{\n",
       "        var display = window.getComputedStyle(gd).display;\n",
       "        if (!display || display === 'none') {{\n",
       "            console.log([gd, 'removed!']);\n",
       "            Plotly.purge(gd);\n",
       "            observer.disconnect();\n",
       "        }}\n",
       "}});\n",
       "\n",
       "// Listen for the removal of the full notebook cells\n",
       "var notebookContainer = gd.closest('#notebook-container');\n",
       "if (notebookContainer) {{\n",
       "    x.observe(notebookContainer, {childList: true});\n",
       "}}\n",
       "\n",
       "// Listen for the clearing of the current output cell\n",
       "var outputEl = gd.closest('.output');\n",
       "if (outputEl) {{\n",
       "    x.observe(outputEl, {childList: true});\n",
       "}}\n",
       "\n",
       "                        })                };            </script>        </div>"
      ]
     },
     "metadata": {},
     "output_type": "display_data"
    }
   ],
   "source": [
    "# Assuming df is your DataFrame\n",
    "# Create an empty list to store the highest and lowest IQ countries in each continent\n",
    "highest_lowest_iq = []\n",
    "\n",
    "# Loop through each continent to find the countries with the highest and lowest IQ\n",
    "for continent in df['Continent'].unique():\n",
    "    continent_data = df[df['Continent'] == continent]\n",
    "    \n",
    "    # Find the country with the highest IQ\n",
    "    highest_iq_country = continent_data.loc[continent_data['Average IQ'].idxmax()]\n",
    "    \n",
    "    # Find the country with the lowest IQ\n",
    "    lowest_iq_country = continent_data.loc[continent_data['Average IQ'].idxmin()]\n",
    "    \n",
    "    highest_lowest_iq.append({\n",
    "        'Continent': continent,\n",
    "        'Highest Country': highest_iq_country['Country'],\n",
    "        'Highest IQ': highest_iq_country['Average IQ'],\n",
    "        'Lowest Country': lowest_iq_country['Country'],\n",
    "        'Lowest IQ': lowest_iq_country['Average IQ']\n",
    "    })\n",
    "\n",
    "# Convert the list into a DataFrame\n",
    "highest_lowest_iq_df = pd.DataFrame(highest_lowest_iq)\n",
    "\n",
    "# Create the figure\n",
    "fig = go.Figure()\n",
    "\n",
    "# Add bars for the highest IQ countries (soft green color)\n",
    "fig.add_trace(go.Bar(\n",
    "    x=highest_lowest_iq_df['Continent'],\n",
    "    y=highest_lowest_iq_df['Highest IQ'],\n",
    "    name='Highest IQ',\n",
    "    marker=dict(color='lightblue'),\n",
    "    text=highest_lowest_iq_df['Highest Country'],  # Show country names as hover text\n",
    "    hoverinfo='text+y'  # Display country name and IQ value on hover\n",
    "))\n",
    "\n",
    "# Add bars for the lowest IQ countries (soft red color)\n",
    "fig.add_trace(go.Bar(\n",
    "    x=highest_lowest_iq_df['Continent'],\n",
    "    y=highest_lowest_iq_df['Lowest IQ'],\n",
    "    name='Lowest IQ',\n",
    "    marker=dict(color='lightyellow'),\n",
    "    text=highest_lowest_iq_df['Lowest Country'],  # Show country names as hover text\n",
    "    hoverinfo='text+y'  # Display country name and IQ value on hover\n",
    "))\n",
    "\n",
    "# Update the layout\n",
    "fig.update_layout(\n",
    "    title=\"Country with Highest and Lowest IQ in Each Continent\",\n",
    "    xaxis_title=\"Continent\",\n",
    "    yaxis_title=\"Average IQ\",\n",
    "    barmode='group',  # Group the bars together\n",
    "    plot_bgcolor='white',\n",
    "    paper_bgcolor='white',\n",
    "    font=dict(color='black'),\n",
    "    legend_title=\"IQ Rank\"\n",
    ")\n",
    "\n",
    "# Show the figure\n",
    "pyo.init_notebook_mode(connected=True)\n",
    "pyo.iplot(fig)\n"
   ]
  },
  {
   "cell_type": "code",
   "execution_count": 120,
   "metadata": {},
   "outputs": [
    {
     "data": {
      "application/vnd.plotly.v1+json": {
       "config": {
        "plotlyServerURL": "https://plot.ly"
       },
       "data": [
        {
         "coloraxis": "coloraxis",
         "geo": "geo",
         "hovertemplate": "<b>%{hovertext}</b><br><br>ISO_A3=%{location}<br>Rank=%{z}<extra></extra>",
         "hovertext": [
          "Fiji",
          null,
          null,
          "Canada",
          "United States",
          "Kazakhstan",
          "Uzbekistan",
          "Papua New Guinea",
          "Indonesia",
          "Argentina",
          "Chile",
          null,
          "Somalia",
          "Kenya",
          "Sudan",
          "Chad",
          "Haiti",
          "Dominican Republic",
          null,
          "Bahamas",
          null,
          null,
          null,
          null,
          null,
          "South Africa",
          "Lesotho",
          "Mexico",
          "Uruguay",
          "Brazil",
          null,
          "Peru",
          "Colombia",
          "Panama",
          "Costa Rica",
          "Nicaragua",
          "Honduras",
          "El Salvador",
          "Guatemala",
          "Belize",
          null,
          "Guyana",
          "Suriname",
          null,
          "Ecuador",
          "Puerto Rico",
          "Jamaica",
          "Cuba",
          "Zimbabwe",
          "Botswana",
          "Namibia",
          "Senegal",
          "Mali",
          "Mauritania",
          "Benin",
          "Niger",
          "Nigeria",
          "Cameroon",
          "Togo",
          "Ghana",
          null,
          "Guinea",
          null,
          "Liberia",
          "Sierra Leone",
          "Burkina Faso",
          "Central African Republic",
          "Congo",
          "Gabon",
          null,
          "Zambia",
          "Malawi",
          "Mozambique",
          "Eswatini",
          "Angola",
          "Burundi",
          "Israel",
          "Lebanon",
          "Madagascar",
          null,
          "Gambia",
          "Tunisia",
          "Algeria",
          "Jordan",
          "United Arab Emirates",
          "Qatar",
          "Kuwait",
          "Iraq",
          "Oman",
          "Vanuatu",
          "Cambodia",
          "Thailand",
          null,
          "Myanmar",
          null,
          null,
          null,
          "Mongolia",
          "India",
          "Bangladesh",
          "Bhutan",
          "Nepal",
          "Pakistan",
          "Afghanistan",
          "Tajikistan",
          "Kyrgyzstan",
          "Turkmenistan",
          null,
          null,
          "Armenia",
          "Sweden",
          "Belarus",
          "Ukraine",
          "Poland",
          "Austria",
          "Hungary",
          null,
          "Romania",
          "Lithuania",
          "Latvia",
          "Estonia",
          "Germany",
          "Bulgaria",
          "Greece",
          "Türkiye",
          "Albania",
          "Croatia",
          "Switzerland",
          "Luxembourg",
          "Belgium",
          "Netherlands",
          "Portugal",
          "Spain",
          "Ireland",
          "New Caledonia",
          "Solomon Islands",
          "New Zealand",
          "Australia",
          "Sri Lanka",
          "China",
          null,
          "Italy",
          "Denmark",
          "United Kingdom",
          "Iceland",
          "Azerbaijan",
          "Georgia",
          "Philippines",
          "Malaysia",
          null,
          "Slovenia",
          "Finland",
          "Slovakia",
          null,
          "Eritrea",
          "Japan",
          "Paraguay",
          "Yemen",
          "Saudi Arabia",
          null,
          null,
          "Cyprus",
          "Morocco",
          "Egypt",
          "Libya",
          "Ethiopia",
          "Djibouti",
          null,
          "Uganda",
          "Rwanda",
          "Bosnia and Herzegovina",
          "North Macedonia",
          "Serbia",
          "Montenegro",
          null,
          "Trinidad and Tobago",
          "South Sudan"
         ],
         "locations": [
          "FJI",
          "TZA",
          "ESH",
          "CAN",
          "USA",
          "KAZ",
          "UZB",
          "PNG",
          "IDN",
          "ARG",
          "CHL",
          "COD",
          "SOM",
          "KEN",
          "SDN",
          "TCD",
          "HTI",
          "DOM",
          "RUS",
          "BHS",
          "FLK",
          "-99",
          "GRL",
          "ATF",
          "TLS",
          "ZAF",
          "LSO",
          "MEX",
          "URY",
          "BRA",
          "BOL",
          "PER",
          "COL",
          "PAN",
          "CRI",
          "NIC",
          "HND",
          "SLV",
          "GTM",
          "BLZ",
          "VEN",
          "GUY",
          "SUR",
          "-99",
          "ECU",
          "PRI",
          "JAM",
          "CUB",
          "ZWE",
          "BWA",
          "NAM",
          "SEN",
          "MLI",
          "MRT",
          "BEN",
          "NER",
          "NGA",
          "CMR",
          "TGO",
          "GHA",
          "CIV",
          "GIN",
          "GNB",
          "LBR",
          "SLE",
          "BFA",
          "CAF",
          "COG",
          "GAB",
          "GNQ",
          "ZMB",
          "MWI",
          "MOZ",
          "SWZ",
          "AGO",
          "BDI",
          "ISR",
          "LBN",
          "MDG",
          "PSE",
          "GMB",
          "TUN",
          "DZA",
          "JOR",
          "ARE",
          "QAT",
          "KWT",
          "IRQ",
          "OMN",
          "VUT",
          "KHM",
          "THA",
          "LAO",
          "MMR",
          "VNM",
          "PRK",
          "KOR",
          "MNG",
          "IND",
          "BGD",
          "BTN",
          "NPL",
          "PAK",
          "AFG",
          "TJK",
          "KGZ",
          "TKM",
          "IRN",
          "SYR",
          "ARM",
          "SWE",
          "BLR",
          "UKR",
          "POL",
          "AUT",
          "HUN",
          "MDA",
          "ROU",
          "LTU",
          "LVA",
          "EST",
          "DEU",
          "BGR",
          "GRC",
          "TUR",
          "ALB",
          "HRV",
          "CHE",
          "LUX",
          "BEL",
          "NLD",
          "PRT",
          "ESP",
          "IRL",
          "NCL",
          "SLB",
          "NZL",
          "AUS",
          "LKA",
          "CHN",
          "TWN",
          "ITA",
          "DNK",
          "GBR",
          "ISL",
          "AZE",
          "GEO",
          "PHL",
          "MYS",
          "BRN",
          "SVN",
          "FIN",
          "SVK",
          "CZE",
          "ERI",
          "JPN",
          "PRY",
          "YEM",
          "SAU",
          "ATA",
          "-99",
          "CYP",
          "MAR",
          "EGY",
          "LBY",
          "ETH",
          "DJI",
          "-99",
          "UGA",
          "RWA",
          "BIH",
          "MKD",
          "SRB",
          "MNE",
          "-99",
          "TTO",
          "SSD"
         ],
         "name": "",
         "type": "choropleth",
         "z": {
          "bdata": "AAAAAAAAVkAAAAAAAAD4fwAAAAAAAPh/AAAAAAAAMEAAAAAAAAA8QAAAAAAAAE9AAAAAAACATkAAAAAAAMBfQAAAAAAAgF9AAAAAAABAU0AAAAAAAABRQAAAAAAAAPh/AAAAAAAAZUAAAAAAAIBhQAAAAAAAQF5AAAAAAAAAXkAAAAAAAMBYQAAAAAAAAFlAAAAAAAAA+H8AAAAAAIBSQAAAAAAAAPh/AAAAAAAA+H8AAAAAAAD4fwAAAAAAAPh/AAAAAAAA+H8AAAAAAOBjQAAAAAAAwGNAAAAAAABAUUAAAAAAAMBRQAAAAAAAQFdAAAAAAAAA+H8AAAAAAMBaQAAAAAAAwFdAAAAAAADAXUAAAAAAAIBQQAAAAAAAgGdAAAAAAACAZkAAAAAAAIBjQAAAAAAAwGdAAAAAAABAZkAAAAAAAAD4fwAAAAAAgFdAAAAAAACAS0AAAAAAAAD4fwAAAAAAAGBAAAAAAACAWUAAAAAAAMBhQAAAAAAAwFZAAAAAAABAYkAAAAAAAKBjQAAAAAAAQGVAAAAAAABAYEAAAAAAAMBmQAAAAAAA4GZAAAAAAABAY0AAAAAAAOBiQAAAAAAA4GRAAAAAAADAZEAAAAAAAKBmQAAAAAAAIGdAAAAAAAAA+H8AAAAAAGBnQAAAAAAAAPh/AAAAAADgZ0AAAAAAAABoQAAAAAAAYGJAAAAAAABgZkAAAAAAAKBlQAAAAAAA4GVAAAAAAAAA+H8AAAAAAGBkQAAAAAAAYGNAAAAAAACgYkAAAAAAAABkQAAAAAAAoGFAAAAAAADAYkAAAAAAAABIQAAAAAAAQFpAAAAAAACAYEAAAAAAAAD4fwAAAAAAoGdAAAAAAABAXUAAAAAAAGBhQAAAAAAAAFxAAAAAAABAWUAAAAAAAMBbQAAAAAAAAF9AAAAAAAAATkAAAAAAAMBeQAAAAAAAgEVAAAAAAAAALkAAAAAAAIBPQAAAAAAAAPh/AAAAAACASUAAAAAAAAD4fwAAAAAAAPh/AAAAAAAA+H8AAAAAAABKQAAAAAAAQGFAAAAAAAAgYkAAAAAAAMBQQAAAAAAAIGhAAAAAAADAXEAAAAAAAIBYQAAAAAAAgFFAAAAAAACAXUAAAAAAAABUQAAAAAAAAPh/AAAAAAAA+H8AAAAAAABQQAAAAAAAAD5AAAAAAAAAHEAAAAAAAABMQAAAAAAAAEBAAAAAAAAAOEAAAAAAAAAyQAAAAAAAAPh/AAAAAADAUkAAAAAAAIBBQAAAAAAAAERAAAAAAAAAKEAAAAAAAAAkQAAAAAAAgEpAAAAAAAAAS0AAAAAAAABTQAAAAAAAAFpAAAAAAAAAQkAAAAAAAAAzQAAAAAAAACpAAAAAAAAAO0AAAAAAAAAmQAAAAAAAgEdAAAAAAAAARkAAAAAAAABDQAAAAAAAAEVAAAAAAACAVkAAAAAAAAA3QAAAAAAAADFAAAAAAACAU0AAAAAAAAAUQAAAAAAAAPh/AAAAAACAREAAAAAAAAA6QAAAAAAAADRAAAAAAAAAOUAAAAAAAMBUQAAAAAAAAFVAAAAAAACAWkAAAAAAAEBSQAAAAAAAAPh/AAAAAAAANkAAAAAAAAAgQAAAAAAAgEBAAAAAAAAA+H8AAAAAACBkQAAAAAAAAPA/AAAAAACAVUAAAAAAACBmQAAAAAAAAGFAAAAAAAAA+H8AAAAAAAD4fwAAAAAAAEdAAAAAAAAgZUAAAAAAACBhQAAAAAAAgFtAAAAAAACAZEAAAAAAAKBkQAAAAAAAAPh/AAAAAADgYEAAAAAAACBjQAAAAAAAQFBAAAAAAADAWUAAAAAAAABNQAAAAAAAQFRAAAAAAAAA+H8AAAAAAIBUQAAAAAAAAGdA",
          "dtype": "f8"
         }
        }
       ],
       "layout": {
        "coloraxis": {
         "colorbar": {
          "title": {
           "text": "Rank"
          }
         },
         "colorscale": [
          [
           0,
           "rgb(255,255,204)"
          ],
          [
           0.125,
           "rgb(255,237,160)"
          ],
          [
           0.25,
           "rgb(254,217,118)"
          ],
          [
           0.375,
           "rgb(254,178,76)"
          ],
          [
           0.5,
           "rgb(253,141,60)"
          ],
          [
           0.625,
           "rgb(252,78,42)"
          ],
          [
           0.75,
           "rgb(227,26,28)"
          ],
          [
           0.875,
           "rgb(189,0,38)"
          ],
          [
           1,
           "rgb(128,0,38)"
          ]
         ]
        },
        "geo": {
         "center": {},
         "domain": {
          "x": [
           0,
           1
          ],
          "y": [
           0,
           1
          ]
         },
         "projection": {
          "type": "winkel3"
         }
        },
        "legend": {
         "tracegroupgap": 0
        },
        "template": {
         "data": {
          "bar": [
           {
            "error_x": {
             "color": "#2a3f5f"
            },
            "error_y": {
             "color": "#2a3f5f"
            },
            "marker": {
             "line": {
              "color": "#E5ECF6",
              "width": 0.5
             },
             "pattern": {
              "fillmode": "overlay",
              "size": 10,
              "solidity": 0.2
             }
            },
            "type": "bar"
           }
          ],
          "barpolar": [
           {
            "marker": {
             "line": {
              "color": "#E5ECF6",
              "width": 0.5
             },
             "pattern": {
              "fillmode": "overlay",
              "size": 10,
              "solidity": 0.2
             }
            },
            "type": "barpolar"
           }
          ],
          "carpet": [
           {
            "aaxis": {
             "endlinecolor": "#2a3f5f",
             "gridcolor": "white",
             "linecolor": "white",
             "minorgridcolor": "white",
             "startlinecolor": "#2a3f5f"
            },
            "baxis": {
             "endlinecolor": "#2a3f5f",
             "gridcolor": "white",
             "linecolor": "white",
             "minorgridcolor": "white",
             "startlinecolor": "#2a3f5f"
            },
            "type": "carpet"
           }
          ],
          "choropleth": [
           {
            "colorbar": {
             "outlinewidth": 0,
             "ticks": ""
            },
            "type": "choropleth"
           }
          ],
          "contour": [
           {
            "colorbar": {
             "outlinewidth": 0,
             "ticks": ""
            },
            "colorscale": [
             [
              0,
              "#0d0887"
             ],
             [
              0.1111111111111111,
              "#46039f"
             ],
             [
              0.2222222222222222,
              "#7201a8"
             ],
             [
              0.3333333333333333,
              "#9c179e"
             ],
             [
              0.4444444444444444,
              "#bd3786"
             ],
             [
              0.5555555555555556,
              "#d8576b"
             ],
             [
              0.6666666666666666,
              "#ed7953"
             ],
             [
              0.7777777777777778,
              "#fb9f3a"
             ],
             [
              0.8888888888888888,
              "#fdca26"
             ],
             [
              1,
              "#f0f921"
             ]
            ],
            "type": "contour"
           }
          ],
          "contourcarpet": [
           {
            "colorbar": {
             "outlinewidth": 0,
             "ticks": ""
            },
            "type": "contourcarpet"
           }
          ],
          "heatmap": [
           {
            "colorbar": {
             "outlinewidth": 0,
             "ticks": ""
            },
            "colorscale": [
             [
              0,
              "#0d0887"
             ],
             [
              0.1111111111111111,
              "#46039f"
             ],
             [
              0.2222222222222222,
              "#7201a8"
             ],
             [
              0.3333333333333333,
              "#9c179e"
             ],
             [
              0.4444444444444444,
              "#bd3786"
             ],
             [
              0.5555555555555556,
              "#d8576b"
             ],
             [
              0.6666666666666666,
              "#ed7953"
             ],
             [
              0.7777777777777778,
              "#fb9f3a"
             ],
             [
              0.8888888888888888,
              "#fdca26"
             ],
             [
              1,
              "#f0f921"
             ]
            ],
            "type": "heatmap"
           }
          ],
          "histogram": [
           {
            "marker": {
             "pattern": {
              "fillmode": "overlay",
              "size": 10,
              "solidity": 0.2
             }
            },
            "type": "histogram"
           }
          ],
          "histogram2d": [
           {
            "colorbar": {
             "outlinewidth": 0,
             "ticks": ""
            },
            "colorscale": [
             [
              0,
              "#0d0887"
             ],
             [
              0.1111111111111111,
              "#46039f"
             ],
             [
              0.2222222222222222,
              "#7201a8"
             ],
             [
              0.3333333333333333,
              "#9c179e"
             ],
             [
              0.4444444444444444,
              "#bd3786"
             ],
             [
              0.5555555555555556,
              "#d8576b"
             ],
             [
              0.6666666666666666,
              "#ed7953"
             ],
             [
              0.7777777777777778,
              "#fb9f3a"
             ],
             [
              0.8888888888888888,
              "#fdca26"
             ],
             [
              1,
              "#f0f921"
             ]
            ],
            "type": "histogram2d"
           }
          ],
          "histogram2dcontour": [
           {
            "colorbar": {
             "outlinewidth": 0,
             "ticks": ""
            },
            "colorscale": [
             [
              0,
              "#0d0887"
             ],
             [
              0.1111111111111111,
              "#46039f"
             ],
             [
              0.2222222222222222,
              "#7201a8"
             ],
             [
              0.3333333333333333,
              "#9c179e"
             ],
             [
              0.4444444444444444,
              "#bd3786"
             ],
             [
              0.5555555555555556,
              "#d8576b"
             ],
             [
              0.6666666666666666,
              "#ed7953"
             ],
             [
              0.7777777777777778,
              "#fb9f3a"
             ],
             [
              0.8888888888888888,
              "#fdca26"
             ],
             [
              1,
              "#f0f921"
             ]
            ],
            "type": "histogram2dcontour"
           }
          ],
          "mesh3d": [
           {
            "colorbar": {
             "outlinewidth": 0,
             "ticks": ""
            },
            "type": "mesh3d"
           }
          ],
          "parcoords": [
           {
            "line": {
             "colorbar": {
              "outlinewidth": 0,
              "ticks": ""
             }
            },
            "type": "parcoords"
           }
          ],
          "pie": [
           {
            "automargin": true,
            "type": "pie"
           }
          ],
          "scatter": [
           {
            "fillpattern": {
             "fillmode": "overlay",
             "size": 10,
             "solidity": 0.2
            },
            "type": "scatter"
           }
          ],
          "scatter3d": [
           {
            "line": {
             "colorbar": {
              "outlinewidth": 0,
              "ticks": ""
             }
            },
            "marker": {
             "colorbar": {
              "outlinewidth": 0,
              "ticks": ""
             }
            },
            "type": "scatter3d"
           }
          ],
          "scattercarpet": [
           {
            "marker": {
             "colorbar": {
              "outlinewidth": 0,
              "ticks": ""
             }
            },
            "type": "scattercarpet"
           }
          ],
          "scattergeo": [
           {
            "marker": {
             "colorbar": {
              "outlinewidth": 0,
              "ticks": ""
             }
            },
            "type": "scattergeo"
           }
          ],
          "scattergl": [
           {
            "marker": {
             "colorbar": {
              "outlinewidth": 0,
              "ticks": ""
             }
            },
            "type": "scattergl"
           }
          ],
          "scattermap": [
           {
            "marker": {
             "colorbar": {
              "outlinewidth": 0,
              "ticks": ""
             }
            },
            "type": "scattermap"
           }
          ],
          "scattermapbox": [
           {
            "marker": {
             "colorbar": {
              "outlinewidth": 0,
              "ticks": ""
             }
            },
            "type": "scattermapbox"
           }
          ],
          "scatterpolar": [
           {
            "marker": {
             "colorbar": {
              "outlinewidth": 0,
              "ticks": ""
             }
            },
            "type": "scatterpolar"
           }
          ],
          "scatterpolargl": [
           {
            "marker": {
             "colorbar": {
              "outlinewidth": 0,
              "ticks": ""
             }
            },
            "type": "scatterpolargl"
           }
          ],
          "scatterternary": [
           {
            "marker": {
             "colorbar": {
              "outlinewidth": 0,
              "ticks": ""
             }
            },
            "type": "scatterternary"
           }
          ],
          "surface": [
           {
            "colorbar": {
             "outlinewidth": 0,
             "ticks": ""
            },
            "colorscale": [
             [
              0,
              "#0d0887"
             ],
             [
              0.1111111111111111,
              "#46039f"
             ],
             [
              0.2222222222222222,
              "#7201a8"
             ],
             [
              0.3333333333333333,
              "#9c179e"
             ],
             [
              0.4444444444444444,
              "#bd3786"
             ],
             [
              0.5555555555555556,
              "#d8576b"
             ],
             [
              0.6666666666666666,
              "#ed7953"
             ],
             [
              0.7777777777777778,
              "#fb9f3a"
             ],
             [
              0.8888888888888888,
              "#fdca26"
             ],
             [
              1,
              "#f0f921"
             ]
            ],
            "type": "surface"
           }
          ],
          "table": [
           {
            "cells": {
             "fill": {
              "color": "#EBF0F8"
             },
             "line": {
              "color": "white"
             }
            },
            "header": {
             "fill": {
              "color": "#C8D4E3"
             },
             "line": {
              "color": "white"
             }
            },
            "type": "table"
           }
          ]
         },
         "layout": {
          "annotationdefaults": {
           "arrowcolor": "#2a3f5f",
           "arrowhead": 0,
           "arrowwidth": 1
          },
          "autotypenumbers": "strict",
          "coloraxis": {
           "colorbar": {
            "outlinewidth": 0,
            "ticks": ""
           }
          },
          "colorscale": {
           "diverging": [
            [
             0,
             "#8e0152"
            ],
            [
             0.1,
             "#c51b7d"
            ],
            [
             0.2,
             "#de77ae"
            ],
            [
             0.3,
             "#f1b6da"
            ],
            [
             0.4,
             "#fde0ef"
            ],
            [
             0.5,
             "#f7f7f7"
            ],
            [
             0.6,
             "#e6f5d0"
            ],
            [
             0.7,
             "#b8e186"
            ],
            [
             0.8,
             "#7fbc41"
            ],
            [
             0.9,
             "#4d9221"
            ],
            [
             1,
             "#276419"
            ]
           ],
           "sequential": [
            [
             0,
             "#0d0887"
            ],
            [
             0.1111111111111111,
             "#46039f"
            ],
            [
             0.2222222222222222,
             "#7201a8"
            ],
            [
             0.3333333333333333,
             "#9c179e"
            ],
            [
             0.4444444444444444,
             "#bd3786"
            ],
            [
             0.5555555555555556,
             "#d8576b"
            ],
            [
             0.6666666666666666,
             "#ed7953"
            ],
            [
             0.7777777777777778,
             "#fb9f3a"
            ],
            [
             0.8888888888888888,
             "#fdca26"
            ],
            [
             1,
             "#f0f921"
            ]
           ],
           "sequentialminus": [
            [
             0,
             "#0d0887"
            ],
            [
             0.1111111111111111,
             "#46039f"
            ],
            [
             0.2222222222222222,
             "#7201a8"
            ],
            [
             0.3333333333333333,
             "#9c179e"
            ],
            [
             0.4444444444444444,
             "#bd3786"
            ],
            [
             0.5555555555555556,
             "#d8576b"
            ],
            [
             0.6666666666666666,
             "#ed7953"
            ],
            [
             0.7777777777777778,
             "#fb9f3a"
            ],
            [
             0.8888888888888888,
             "#fdca26"
            ],
            [
             1,
             "#f0f921"
            ]
           ]
          },
          "colorway": [
           "#636efa",
           "#EF553B",
           "#00cc96",
           "#ab63fa",
           "#FFA15A",
           "#19d3f3",
           "#FF6692",
           "#B6E880",
           "#FF97FF",
           "#FECB52"
          ],
          "font": {
           "color": "#2a3f5f"
          },
          "geo": {
           "bgcolor": "white",
           "lakecolor": "white",
           "landcolor": "#E5ECF6",
           "showlakes": true,
           "showland": true,
           "subunitcolor": "white"
          },
          "hoverlabel": {
           "align": "left"
          },
          "hovermode": "closest",
          "mapbox": {
           "style": "light"
          },
          "paper_bgcolor": "white",
          "plot_bgcolor": "#E5ECF6",
          "polar": {
           "angularaxis": {
            "gridcolor": "white",
            "linecolor": "white",
            "ticks": ""
           },
           "bgcolor": "#E5ECF6",
           "radialaxis": {
            "gridcolor": "white",
            "linecolor": "white",
            "ticks": ""
           }
          },
          "scene": {
           "xaxis": {
            "backgroundcolor": "#E5ECF6",
            "gridcolor": "white",
            "gridwidth": 2,
            "linecolor": "white",
            "showbackground": true,
            "ticks": "",
            "zerolinecolor": "white"
           },
           "yaxis": {
            "backgroundcolor": "#E5ECF6",
            "gridcolor": "white",
            "gridwidth": 2,
            "linecolor": "white",
            "showbackground": true,
            "ticks": "",
            "zerolinecolor": "white"
           },
           "zaxis": {
            "backgroundcolor": "#E5ECF6",
            "gridcolor": "white",
            "gridwidth": 2,
            "linecolor": "white",
            "showbackground": true,
            "ticks": "",
            "zerolinecolor": "white"
           }
          },
          "shapedefaults": {
           "line": {
            "color": "#2a3f5f"
           }
          },
          "ternary": {
           "aaxis": {
            "gridcolor": "white",
            "linecolor": "white",
            "ticks": ""
           },
           "baxis": {
            "gridcolor": "white",
            "linecolor": "white",
            "ticks": ""
           },
           "bgcolor": "#E5ECF6",
           "caxis": {
            "gridcolor": "white",
            "linecolor": "white",
            "ticks": ""
           }
          },
          "title": {
           "x": 0.05
          },
          "xaxis": {
           "automargin": true,
           "gridcolor": "white",
           "linecolor": "white",
           "ticks": "",
           "title": {
            "standoff": 15
           },
           "zerolinecolor": "white",
           "zerolinewidth": 2
          },
          "yaxis": {
           "automargin": true,
           "gridcolor": "white",
           "linecolor": "white",
           "ticks": "",
           "title": {
            "standoff": 15
           },
           "zerolinecolor": "white",
           "zerolinewidth": 2
          }
         }
        },
        "title": {
         "text": "Rank by Country"
        }
       }
      },
      "text/html": [
       "<div>            <script src=\"https://cdnjs.cloudflare.com/ajax/libs/mathjax/2.7.5/MathJax.js?config=TeX-AMS-MML_SVG\"></script><script type=\"text/javascript\">if (window.MathJax && window.MathJax.Hub && window.MathJax.Hub.Config) {window.MathJax.Hub.Config({SVG: {font: \"STIX-Web\"}});}</script>                <script type=\"text/javascript\">window.PlotlyConfig = {MathJaxConfig: 'local'};</script>\n",
       "        <script charset=\"utf-8\" src=\"https://cdn.plot.ly/plotly-3.0.0.min.js\"></script>                <div id=\"f3abb0b0-409c-4669-b4ac-cf9b8fad960e\" class=\"plotly-graph-div\" style=\"height:525px; width:100%;\"></div>            <script type=\"text/javascript\">                window.PLOTLYENV=window.PLOTLYENV || {};                                if (document.getElementById(\"f3abb0b0-409c-4669-b4ac-cf9b8fad960e\")) {                    Plotly.newPlot(                        \"f3abb0b0-409c-4669-b4ac-cf9b8fad960e\",                        [{\"coloraxis\":\"coloraxis\",\"geo\":\"geo\",\"hovertemplate\":\"\\u003cb\\u003e%{hovertext}\\u003c\\u002fb\\u003e\\u003cbr\\u003e\\u003cbr\\u003eISO_A3=%{location}\\u003cbr\\u003eRank=%{z}\\u003cextra\\u003e\\u003c\\u002fextra\\u003e\",\"hovertext\":[\"Fiji\",null,null,\"Canada\",\"United States\",\"Kazakhstan\",\"Uzbekistan\",\"Papua New Guinea\",\"Indonesia\",\"Argentina\",\"Chile\",null,\"Somalia\",\"Kenya\",\"Sudan\",\"Chad\",\"Haiti\",\"Dominican Republic\",null,\"Bahamas\",null,null,null,null,null,\"South Africa\",\"Lesotho\",\"Mexico\",\"Uruguay\",\"Brazil\",null,\"Peru\",\"Colombia\",\"Panama\",\"Costa Rica\",\"Nicaragua\",\"Honduras\",\"El Salvador\",\"Guatemala\",\"Belize\",null,\"Guyana\",\"Suriname\",null,\"Ecuador\",\"Puerto Rico\",\"Jamaica\",\"Cuba\",\"Zimbabwe\",\"Botswana\",\"Namibia\",\"Senegal\",\"Mali\",\"Mauritania\",\"Benin\",\"Niger\",\"Nigeria\",\"Cameroon\",\"Togo\",\"Ghana\",null,\"Guinea\",null,\"Liberia\",\"Sierra Leone\",\"Burkina Faso\",\"Central African Republic\",\"Congo\",\"Gabon\",null,\"Zambia\",\"Malawi\",\"Mozambique\",\"Eswatini\",\"Angola\",\"Burundi\",\"Israel\",\"Lebanon\",\"Madagascar\",null,\"Gambia\",\"Tunisia\",\"Algeria\",\"Jordan\",\"United Arab Emirates\",\"Qatar\",\"Kuwait\",\"Iraq\",\"Oman\",\"Vanuatu\",\"Cambodia\",\"Thailand\",null,\"Myanmar\",null,null,null,\"Mongolia\",\"India\",\"Bangladesh\",\"Bhutan\",\"Nepal\",\"Pakistan\",\"Afghanistan\",\"Tajikistan\",\"Kyrgyzstan\",\"Turkmenistan\",null,null,\"Armenia\",\"Sweden\",\"Belarus\",\"Ukraine\",\"Poland\",\"Austria\",\"Hungary\",null,\"Romania\",\"Lithuania\",\"Latvia\",\"Estonia\",\"Germany\",\"Bulgaria\",\"Greece\",\"T\\u00fcrkiye\",\"Albania\",\"Croatia\",\"Switzerland\",\"Luxembourg\",\"Belgium\",\"Netherlands\",\"Portugal\",\"Spain\",\"Ireland\",\"New Caledonia\",\"Solomon Islands\",\"New Zealand\",\"Australia\",\"Sri Lanka\",\"China\",null,\"Italy\",\"Denmark\",\"United Kingdom\",\"Iceland\",\"Azerbaijan\",\"Georgia\",\"Philippines\",\"Malaysia\",null,\"Slovenia\",\"Finland\",\"Slovakia\",null,\"Eritrea\",\"Japan\",\"Paraguay\",\"Yemen\",\"Saudi Arabia\",null,null,\"Cyprus\",\"Morocco\",\"Egypt\",\"Libya\",\"Ethiopia\",\"Djibouti\",null,\"Uganda\",\"Rwanda\",\"Bosnia and Herzegovina\",\"North Macedonia\",\"Serbia\",\"Montenegro\",null,\"Trinidad and Tobago\",\"South Sudan\"],\"locations\":[\"FJI\",\"TZA\",\"ESH\",\"CAN\",\"USA\",\"KAZ\",\"UZB\",\"PNG\",\"IDN\",\"ARG\",\"CHL\",\"COD\",\"SOM\",\"KEN\",\"SDN\",\"TCD\",\"HTI\",\"DOM\",\"RUS\",\"BHS\",\"FLK\",\"-99\",\"GRL\",\"ATF\",\"TLS\",\"ZAF\",\"LSO\",\"MEX\",\"URY\",\"BRA\",\"BOL\",\"PER\",\"COL\",\"PAN\",\"CRI\",\"NIC\",\"HND\",\"SLV\",\"GTM\",\"BLZ\",\"VEN\",\"GUY\",\"SUR\",\"-99\",\"ECU\",\"PRI\",\"JAM\",\"CUB\",\"ZWE\",\"BWA\",\"NAM\",\"SEN\",\"MLI\",\"MRT\",\"BEN\",\"NER\",\"NGA\",\"CMR\",\"TGO\",\"GHA\",\"CIV\",\"GIN\",\"GNB\",\"LBR\",\"SLE\",\"BFA\",\"CAF\",\"COG\",\"GAB\",\"GNQ\",\"ZMB\",\"MWI\",\"MOZ\",\"SWZ\",\"AGO\",\"BDI\",\"ISR\",\"LBN\",\"MDG\",\"PSE\",\"GMB\",\"TUN\",\"DZA\",\"JOR\",\"ARE\",\"QAT\",\"KWT\",\"IRQ\",\"OMN\",\"VUT\",\"KHM\",\"THA\",\"LAO\",\"MMR\",\"VNM\",\"PRK\",\"KOR\",\"MNG\",\"IND\",\"BGD\",\"BTN\",\"NPL\",\"PAK\",\"AFG\",\"TJK\",\"KGZ\",\"TKM\",\"IRN\",\"SYR\",\"ARM\",\"SWE\",\"BLR\",\"UKR\",\"POL\",\"AUT\",\"HUN\",\"MDA\",\"ROU\",\"LTU\",\"LVA\",\"EST\",\"DEU\",\"BGR\",\"GRC\",\"TUR\",\"ALB\",\"HRV\",\"CHE\",\"LUX\",\"BEL\",\"NLD\",\"PRT\",\"ESP\",\"IRL\",\"NCL\",\"SLB\",\"NZL\",\"AUS\",\"LKA\",\"CHN\",\"TWN\",\"ITA\",\"DNK\",\"GBR\",\"ISL\",\"AZE\",\"GEO\",\"PHL\",\"MYS\",\"BRN\",\"SVN\",\"FIN\",\"SVK\",\"CZE\",\"ERI\",\"JPN\",\"PRY\",\"YEM\",\"SAU\",\"ATA\",\"-99\",\"CYP\",\"MAR\",\"EGY\",\"LBY\",\"ETH\",\"DJI\",\"-99\",\"UGA\",\"RWA\",\"BIH\",\"MKD\",\"SRB\",\"MNE\",\"-99\",\"TTO\",\"SSD\"],\"name\":\"\",\"z\":{\"dtype\":\"f8\",\"bdata\":\"AAAAAAAAVkAAAAAAAAD4fwAAAAAAAPh\\u002fAAAAAAAAMEAAAAAAAAA8QAAAAAAAAE9AAAAAAACATkAAAAAAAMBfQAAAAAAAgF9AAAAAAABAU0AAAAAAAABRQAAAAAAAAPh\\u002fAAAAAAAAZUAAAAAAAIBhQAAAAAAAQF5AAAAAAAAAXkAAAAAAAMBYQAAAAAAAAFlAAAAAAAAA+H8AAAAAAIBSQAAAAAAAAPh\\u002fAAAAAAAA+H8AAAAAAAD4fwAAAAAAAPh\\u002fAAAAAAAA+H8AAAAAAOBjQAAAAAAAwGNAAAAAAABAUUAAAAAAAMBRQAAAAAAAQFdAAAAAAAAA+H8AAAAAAMBaQAAAAAAAwFdAAAAAAADAXUAAAAAAAIBQQAAAAAAAgGdAAAAAAACAZkAAAAAAAIBjQAAAAAAAwGdAAAAAAABAZkAAAAAAAAD4fwAAAAAAgFdAAAAAAACAS0AAAAAAAAD4fwAAAAAAAGBAAAAAAACAWUAAAAAAAMBhQAAAAAAAwFZAAAAAAABAYkAAAAAAAKBjQAAAAAAAQGVAAAAAAABAYEAAAAAAAMBmQAAAAAAA4GZAAAAAAABAY0AAAAAAAOBiQAAAAAAA4GRAAAAAAADAZEAAAAAAAKBmQAAAAAAAIGdAAAAAAAAA+H8AAAAAAGBnQAAAAAAAAPh\\u002fAAAAAADgZ0AAAAAAAABoQAAAAAAAYGJAAAAAAABgZkAAAAAAAKBlQAAAAAAA4GVAAAAAAAAA+H8AAAAAAGBkQAAAAAAAYGNAAAAAAACgYkAAAAAAAABkQAAAAAAAoGFAAAAAAADAYkAAAAAAAABIQAAAAAAAQFpAAAAAAACAYEAAAAAAAAD4fwAAAAAAoGdAAAAAAABAXUAAAAAAAGBhQAAAAAAAAFxAAAAAAABAWUAAAAAAAMBbQAAAAAAAAF9AAAAAAAAATkAAAAAAAMBeQAAAAAAAgEVAAAAAAAAALkAAAAAAAIBPQAAAAAAAAPh\\u002fAAAAAACASUAAAAAAAAD4fwAAAAAAAPh\\u002fAAAAAAAA+H8AAAAAAABKQAAAAAAAQGFAAAAAAAAgYkAAAAAAAMBQQAAAAAAAIGhAAAAAAADAXEAAAAAAAIBYQAAAAAAAgFFAAAAAAACAXUAAAAAAAABUQAAAAAAAAPh\\u002fAAAAAAAA+H8AAAAAAABQQAAAAAAAAD5AAAAAAAAAHEAAAAAAAABMQAAAAAAAAEBAAAAAAAAAOEAAAAAAAAAyQAAAAAAAAPh\\u002fAAAAAADAUkAAAAAAAIBBQAAAAAAAAERAAAAAAAAAKEAAAAAAAAAkQAAAAAAAgEpAAAAAAAAAS0AAAAAAAABTQAAAAAAAAFpAAAAAAAAAQkAAAAAAAAAzQAAAAAAAACpAAAAAAAAAO0AAAAAAAAAmQAAAAAAAgEdAAAAAAAAARkAAAAAAAABDQAAAAAAAAEVAAAAAAACAVkAAAAAAAAA3QAAAAAAAADFAAAAAAACAU0AAAAAAAAAUQAAAAAAAAPh\\u002fAAAAAACAREAAAAAAAAA6QAAAAAAAADRAAAAAAAAAOUAAAAAAAMBUQAAAAAAAAFVAAAAAAACAWkAAAAAAAEBSQAAAAAAAAPh\\u002fAAAAAAAANkAAAAAAAAAgQAAAAAAAgEBAAAAAAAAA+H8AAAAAACBkQAAAAAAAAPA\\u002fAAAAAACAVUAAAAAAACBmQAAAAAAAAGFAAAAAAAAA+H8AAAAAAAD4fwAAAAAAAEdAAAAAAAAgZUAAAAAAACBhQAAAAAAAgFtAAAAAAACAZEAAAAAAAKBkQAAAAAAAAPh\\u002fAAAAAADgYEAAAAAAACBjQAAAAAAAQFBAAAAAAADAWUAAAAAAAABNQAAAAAAAQFRAAAAAAAAA+H8AAAAAAIBUQAAAAAAAAGdA\"},\"type\":\"choropleth\"}],                        {\"template\":{\"data\":{\"histogram2dcontour\":[{\"type\":\"histogram2dcontour\",\"colorbar\":{\"outlinewidth\":0,\"ticks\":\"\"},\"colorscale\":[[0.0,\"#0d0887\"],[0.1111111111111111,\"#46039f\"],[0.2222222222222222,\"#7201a8\"],[0.3333333333333333,\"#9c179e\"],[0.4444444444444444,\"#bd3786\"],[0.5555555555555556,\"#d8576b\"],[0.6666666666666666,\"#ed7953\"],[0.7777777777777778,\"#fb9f3a\"],[0.8888888888888888,\"#fdca26\"],[1.0,\"#f0f921\"]]}],\"choropleth\":[{\"type\":\"choropleth\",\"colorbar\":{\"outlinewidth\":0,\"ticks\":\"\"}}],\"histogram2d\":[{\"type\":\"histogram2d\",\"colorbar\":{\"outlinewidth\":0,\"ticks\":\"\"},\"colorscale\":[[0.0,\"#0d0887\"],[0.1111111111111111,\"#46039f\"],[0.2222222222222222,\"#7201a8\"],[0.3333333333333333,\"#9c179e\"],[0.4444444444444444,\"#bd3786\"],[0.5555555555555556,\"#d8576b\"],[0.6666666666666666,\"#ed7953\"],[0.7777777777777778,\"#fb9f3a\"],[0.8888888888888888,\"#fdca26\"],[1.0,\"#f0f921\"]]}],\"heatmap\":[{\"type\":\"heatmap\",\"colorbar\":{\"outlinewidth\":0,\"ticks\":\"\"},\"colorscale\":[[0.0,\"#0d0887\"],[0.1111111111111111,\"#46039f\"],[0.2222222222222222,\"#7201a8\"],[0.3333333333333333,\"#9c179e\"],[0.4444444444444444,\"#bd3786\"],[0.5555555555555556,\"#d8576b\"],[0.6666666666666666,\"#ed7953\"],[0.7777777777777778,\"#fb9f3a\"],[0.8888888888888888,\"#fdca26\"],[1.0,\"#f0f921\"]]}],\"contourcarpet\":[{\"type\":\"contourcarpet\",\"colorbar\":{\"outlinewidth\":0,\"ticks\":\"\"}}],\"contour\":[{\"type\":\"contour\",\"colorbar\":{\"outlinewidth\":0,\"ticks\":\"\"},\"colorscale\":[[0.0,\"#0d0887\"],[0.1111111111111111,\"#46039f\"],[0.2222222222222222,\"#7201a8\"],[0.3333333333333333,\"#9c179e\"],[0.4444444444444444,\"#bd3786\"],[0.5555555555555556,\"#d8576b\"],[0.6666666666666666,\"#ed7953\"],[0.7777777777777778,\"#fb9f3a\"],[0.8888888888888888,\"#fdca26\"],[1.0,\"#f0f921\"]]}],\"surface\":[{\"type\":\"surface\",\"colorbar\":{\"outlinewidth\":0,\"ticks\":\"\"},\"colorscale\":[[0.0,\"#0d0887\"],[0.1111111111111111,\"#46039f\"],[0.2222222222222222,\"#7201a8\"],[0.3333333333333333,\"#9c179e\"],[0.4444444444444444,\"#bd3786\"],[0.5555555555555556,\"#d8576b\"],[0.6666666666666666,\"#ed7953\"],[0.7777777777777778,\"#fb9f3a\"],[0.8888888888888888,\"#fdca26\"],[1.0,\"#f0f921\"]]}],\"mesh3d\":[{\"type\":\"mesh3d\",\"colorbar\":{\"outlinewidth\":0,\"ticks\":\"\"}}],\"scatter\":[{\"fillpattern\":{\"fillmode\":\"overlay\",\"size\":10,\"solidity\":0.2},\"type\":\"scatter\"}],\"parcoords\":[{\"type\":\"parcoords\",\"line\":{\"colorbar\":{\"outlinewidth\":0,\"ticks\":\"\"}}}],\"scatterpolargl\":[{\"type\":\"scatterpolargl\",\"marker\":{\"colorbar\":{\"outlinewidth\":0,\"ticks\":\"\"}}}],\"bar\":[{\"error_x\":{\"color\":\"#2a3f5f\"},\"error_y\":{\"color\":\"#2a3f5f\"},\"marker\":{\"line\":{\"color\":\"#E5ECF6\",\"width\":0.5},\"pattern\":{\"fillmode\":\"overlay\",\"size\":10,\"solidity\":0.2}},\"type\":\"bar\"}],\"scattergeo\":[{\"type\":\"scattergeo\",\"marker\":{\"colorbar\":{\"outlinewidth\":0,\"ticks\":\"\"}}}],\"scatterpolar\":[{\"type\":\"scatterpolar\",\"marker\":{\"colorbar\":{\"outlinewidth\":0,\"ticks\":\"\"}}}],\"histogram\":[{\"marker\":{\"pattern\":{\"fillmode\":\"overlay\",\"size\":10,\"solidity\":0.2}},\"type\":\"histogram\"}],\"scattergl\":[{\"type\":\"scattergl\",\"marker\":{\"colorbar\":{\"outlinewidth\":0,\"ticks\":\"\"}}}],\"scatter3d\":[{\"type\":\"scatter3d\",\"line\":{\"colorbar\":{\"outlinewidth\":0,\"ticks\":\"\"}},\"marker\":{\"colorbar\":{\"outlinewidth\":0,\"ticks\":\"\"}}}],\"scattermap\":[{\"type\":\"scattermap\",\"marker\":{\"colorbar\":{\"outlinewidth\":0,\"ticks\":\"\"}}}],\"scattermapbox\":[{\"type\":\"scattermapbox\",\"marker\":{\"colorbar\":{\"outlinewidth\":0,\"ticks\":\"\"}}}],\"scatterternary\":[{\"type\":\"scatterternary\",\"marker\":{\"colorbar\":{\"outlinewidth\":0,\"ticks\":\"\"}}}],\"scattercarpet\":[{\"type\":\"scattercarpet\",\"marker\":{\"colorbar\":{\"outlinewidth\":0,\"ticks\":\"\"}}}],\"carpet\":[{\"aaxis\":{\"endlinecolor\":\"#2a3f5f\",\"gridcolor\":\"white\",\"linecolor\":\"white\",\"minorgridcolor\":\"white\",\"startlinecolor\":\"#2a3f5f\"},\"baxis\":{\"endlinecolor\":\"#2a3f5f\",\"gridcolor\":\"white\",\"linecolor\":\"white\",\"minorgridcolor\":\"white\",\"startlinecolor\":\"#2a3f5f\"},\"type\":\"carpet\"}],\"table\":[{\"cells\":{\"fill\":{\"color\":\"#EBF0F8\"},\"line\":{\"color\":\"white\"}},\"header\":{\"fill\":{\"color\":\"#C8D4E3\"},\"line\":{\"color\":\"white\"}},\"type\":\"table\"}],\"barpolar\":[{\"marker\":{\"line\":{\"color\":\"#E5ECF6\",\"width\":0.5},\"pattern\":{\"fillmode\":\"overlay\",\"size\":10,\"solidity\":0.2}},\"type\":\"barpolar\"}],\"pie\":[{\"automargin\":true,\"type\":\"pie\"}]},\"layout\":{\"autotypenumbers\":\"strict\",\"colorway\":[\"#636efa\",\"#EF553B\",\"#00cc96\",\"#ab63fa\",\"#FFA15A\",\"#19d3f3\",\"#FF6692\",\"#B6E880\",\"#FF97FF\",\"#FECB52\"],\"font\":{\"color\":\"#2a3f5f\"},\"hovermode\":\"closest\",\"hoverlabel\":{\"align\":\"left\"},\"paper_bgcolor\":\"white\",\"plot_bgcolor\":\"#E5ECF6\",\"polar\":{\"bgcolor\":\"#E5ECF6\",\"angularaxis\":{\"gridcolor\":\"white\",\"linecolor\":\"white\",\"ticks\":\"\"},\"radialaxis\":{\"gridcolor\":\"white\",\"linecolor\":\"white\",\"ticks\":\"\"}},\"ternary\":{\"bgcolor\":\"#E5ECF6\",\"aaxis\":{\"gridcolor\":\"white\",\"linecolor\":\"white\",\"ticks\":\"\"},\"baxis\":{\"gridcolor\":\"white\",\"linecolor\":\"white\",\"ticks\":\"\"},\"caxis\":{\"gridcolor\":\"white\",\"linecolor\":\"white\",\"ticks\":\"\"}},\"coloraxis\":{\"colorbar\":{\"outlinewidth\":0,\"ticks\":\"\"}},\"colorscale\":{\"sequential\":[[0.0,\"#0d0887\"],[0.1111111111111111,\"#46039f\"],[0.2222222222222222,\"#7201a8\"],[0.3333333333333333,\"#9c179e\"],[0.4444444444444444,\"#bd3786\"],[0.5555555555555556,\"#d8576b\"],[0.6666666666666666,\"#ed7953\"],[0.7777777777777778,\"#fb9f3a\"],[0.8888888888888888,\"#fdca26\"],[1.0,\"#f0f921\"]],\"sequentialminus\":[[0.0,\"#0d0887\"],[0.1111111111111111,\"#46039f\"],[0.2222222222222222,\"#7201a8\"],[0.3333333333333333,\"#9c179e\"],[0.4444444444444444,\"#bd3786\"],[0.5555555555555556,\"#d8576b\"],[0.6666666666666666,\"#ed7953\"],[0.7777777777777778,\"#fb9f3a\"],[0.8888888888888888,\"#fdca26\"],[1.0,\"#f0f921\"]],\"diverging\":[[0,\"#8e0152\"],[0.1,\"#c51b7d\"],[0.2,\"#de77ae\"],[0.3,\"#f1b6da\"],[0.4,\"#fde0ef\"],[0.5,\"#f7f7f7\"],[0.6,\"#e6f5d0\"],[0.7,\"#b8e186\"],[0.8,\"#7fbc41\"],[0.9,\"#4d9221\"],[1,\"#276419\"]]},\"xaxis\":{\"gridcolor\":\"white\",\"linecolor\":\"white\",\"ticks\":\"\",\"title\":{\"standoff\":15},\"zerolinecolor\":\"white\",\"automargin\":true,\"zerolinewidth\":2},\"yaxis\":{\"gridcolor\":\"white\",\"linecolor\":\"white\",\"ticks\":\"\",\"title\":{\"standoff\":15},\"zerolinecolor\":\"white\",\"automargin\":true,\"zerolinewidth\":2},\"scene\":{\"xaxis\":{\"backgroundcolor\":\"#E5ECF6\",\"gridcolor\":\"white\",\"linecolor\":\"white\",\"showbackground\":true,\"ticks\":\"\",\"zerolinecolor\":\"white\",\"gridwidth\":2},\"yaxis\":{\"backgroundcolor\":\"#E5ECF6\",\"gridcolor\":\"white\",\"linecolor\":\"white\",\"showbackground\":true,\"ticks\":\"\",\"zerolinecolor\":\"white\",\"gridwidth\":2},\"zaxis\":{\"backgroundcolor\":\"#E5ECF6\",\"gridcolor\":\"white\",\"linecolor\":\"white\",\"showbackground\":true,\"ticks\":\"\",\"zerolinecolor\":\"white\",\"gridwidth\":2}},\"shapedefaults\":{\"line\":{\"color\":\"#2a3f5f\"}},\"annotationdefaults\":{\"arrowcolor\":\"#2a3f5f\",\"arrowhead\":0,\"arrowwidth\":1},\"geo\":{\"bgcolor\":\"white\",\"landcolor\":\"#E5ECF6\",\"subunitcolor\":\"white\",\"showland\":true,\"showlakes\":true,\"lakecolor\":\"white\"},\"title\":{\"x\":0.05},\"mapbox\":{\"style\":\"light\"}}},\"geo\":{\"domain\":{\"x\":[0.0,1.0],\"y\":[0.0,1.0]},\"projection\":{\"type\":\"winkel3\"},\"center\":{}},\"coloraxis\":{\"colorbar\":{\"title\":{\"text\":\"Rank\"}},\"colorscale\":[[0.0,\"rgb(255,255,204)\"],[0.125,\"rgb(255,237,160)\"],[0.25,\"rgb(254,217,118)\"],[0.375,\"rgb(254,178,76)\"],[0.5,\"rgb(253,141,60)\"],[0.625,\"rgb(252,78,42)\"],[0.75,\"rgb(227,26,28)\"],[0.875,\"rgb(189,0,38)\"],[1.0,\"rgb(128,0,38)\"]]},\"legend\":{\"tracegroupgap\":0},\"title\":{\"text\":\"Rank by Country\"}},                        {\"responsive\": true}                    ).then(function(){\n",
       "                            \n",
       "var gd = document.getElementById('f3abb0b0-409c-4669-b4ac-cf9b8fad960e');\n",
       "var x = new MutationObserver(function (mutations, observer) {{\n",
       "        var display = window.getComputedStyle(gd).display;\n",
       "        if (!display || display === 'none') {{\n",
       "            console.log([gd, 'removed!']);\n",
       "            Plotly.purge(gd);\n",
       "            observer.disconnect();\n",
       "        }}\n",
       "}});\n",
       "\n",
       "// Listen for the removal of the full notebook cells\n",
       "var notebookContainer = gd.closest('#notebook-container');\n",
       "if (notebookContainer) {{\n",
       "    x.observe(notebookContainer, {childList: true});\n",
       "}}\n",
       "\n",
       "// Listen for the clearing of the current output cell\n",
       "var outputEl = gd.closest('.output');\n",
       "if (outputEl) {{\n",
       "    x.observe(outputEl, {childList: true});\n",
       "}}\n",
       "\n",
       "                        })                };            </script>        </div>"
      ]
     },
     "metadata": {},
     "output_type": "display_data"
    },
    {
     "data": {
      "application/vnd.plotly.v1+json": {
       "config": {
        "plotlyServerURL": "https://plot.ly"
       },
       "data": [
        {
         "coloraxis": "coloraxis",
         "geo": "geo",
         "hovertemplate": "<b>%{hovertext}</b><br><br>ISO_A3=%{location}<br>Average IQ=%{z}<extra></extra>",
         "hovertext": [
          "Fiji",
          null,
          null,
          "Canada",
          "United States",
          "Kazakhstan",
          "Uzbekistan",
          "Papua New Guinea",
          "Indonesia",
          "Argentina",
          "Chile",
          null,
          "Somalia",
          "Kenya",
          "Sudan",
          "Chad",
          "Haiti",
          "Dominican Republic",
          null,
          "Bahamas",
          null,
          null,
          null,
          null,
          null,
          "South Africa",
          "Lesotho",
          "Mexico",
          "Uruguay",
          "Brazil",
          null,
          "Peru",
          "Colombia",
          "Panama",
          "Costa Rica",
          "Nicaragua",
          "Honduras",
          "El Salvador",
          "Guatemala",
          "Belize",
          null,
          "Guyana",
          "Suriname",
          null,
          "Ecuador",
          "Puerto Rico",
          "Jamaica",
          "Cuba",
          "Zimbabwe",
          "Botswana",
          "Namibia",
          "Senegal",
          "Mali",
          "Mauritania",
          "Benin",
          "Niger",
          "Nigeria",
          "Cameroon",
          "Togo",
          "Ghana",
          null,
          "Guinea",
          null,
          "Liberia",
          "Sierra Leone",
          "Burkina Faso",
          "Central African Republic",
          "Congo",
          "Gabon",
          null,
          "Zambia",
          "Malawi",
          "Mozambique",
          "Eswatini",
          "Angola",
          "Burundi",
          "Israel",
          "Lebanon",
          "Madagascar",
          null,
          "Gambia",
          "Tunisia",
          "Algeria",
          "Jordan",
          "United Arab Emirates",
          "Qatar",
          "Kuwait",
          "Iraq",
          "Oman",
          "Vanuatu",
          "Cambodia",
          "Thailand",
          null,
          "Myanmar",
          null,
          null,
          null,
          "Mongolia",
          "India",
          "Bangladesh",
          "Bhutan",
          "Nepal",
          "Pakistan",
          "Afghanistan",
          "Tajikistan",
          "Kyrgyzstan",
          "Turkmenistan",
          null,
          null,
          "Armenia",
          "Sweden",
          "Belarus",
          "Ukraine",
          "Poland",
          "Austria",
          "Hungary",
          null,
          "Romania",
          "Lithuania",
          "Latvia",
          "Estonia",
          "Germany",
          "Bulgaria",
          "Greece",
          "Türkiye",
          "Albania",
          "Croatia",
          "Switzerland",
          "Luxembourg",
          "Belgium",
          "Netherlands",
          "Portugal",
          "Spain",
          "Ireland",
          "New Caledonia",
          "Solomon Islands",
          "New Zealand",
          "Australia",
          "Sri Lanka",
          "China",
          null,
          "Italy",
          "Denmark",
          "United Kingdom",
          "Iceland",
          "Azerbaijan",
          "Georgia",
          "Philippines",
          "Malaysia",
          null,
          "Slovenia",
          "Finland",
          "Slovakia",
          null,
          "Eritrea",
          "Japan",
          "Paraguay",
          "Yemen",
          "Saudi Arabia",
          null,
          null,
          "Cyprus",
          "Morocco",
          "Egypt",
          "Libya",
          "Ethiopia",
          "Djibouti",
          null,
          "Uganda",
          "Rwanda",
          "Bosnia and Herzegovina",
          "North Macedonia",
          "Serbia",
          "Montenegro",
          null,
          "Trinidad and Tobago",
          "South Sudan"
         ],
         "locations": [
          "FJI",
          "TZA",
          "ESH",
          "CAN",
          "USA",
          "KAZ",
          "UZB",
          "PNG",
          "IDN",
          "ARG",
          "CHL",
          "COD",
          "SOM",
          "KEN",
          "SDN",
          "TCD",
          "HTI",
          "DOM",
          "RUS",
          "BHS",
          "FLK",
          "-99",
          "GRL",
          "ATF",
          "TLS",
          "ZAF",
          "LSO",
          "MEX",
          "URY",
          "BRA",
          "BOL",
          "PER",
          "COL",
          "PAN",
          "CRI",
          "NIC",
          "HND",
          "SLV",
          "GTM",
          "BLZ",
          "VEN",
          "GUY",
          "SUR",
          "-99",
          "ECU",
          "PRI",
          "JAM",
          "CUB",
          "ZWE",
          "BWA",
          "NAM",
          "SEN",
          "MLI",
          "MRT",
          "BEN",
          "NER",
          "NGA",
          "CMR",
          "TGO",
          "GHA",
          "CIV",
          "GIN",
          "GNB",
          "LBR",
          "SLE",
          "BFA",
          "CAF",
          "COG",
          "GAB",
          "GNQ",
          "ZMB",
          "MWI",
          "MOZ",
          "SWZ",
          "AGO",
          "BDI",
          "ISR",
          "LBN",
          "MDG",
          "PSE",
          "GMB",
          "TUN",
          "DZA",
          "JOR",
          "ARE",
          "QAT",
          "KWT",
          "IRQ",
          "OMN",
          "VUT",
          "KHM",
          "THA",
          "LAO",
          "MMR",
          "VNM",
          "PRK",
          "KOR",
          "MNG",
          "IND",
          "BGD",
          "BTN",
          "NPL",
          "PAK",
          "AFG",
          "TJK",
          "KGZ",
          "TKM",
          "IRN",
          "SYR",
          "ARM",
          "SWE",
          "BLR",
          "UKR",
          "POL",
          "AUT",
          "HUN",
          "MDA",
          "ROU",
          "LTU",
          "LVA",
          "EST",
          "DEU",
          "BGR",
          "GRC",
          "TUR",
          "ALB",
          "HRV",
          "CHE",
          "LUX",
          "BEL",
          "NLD",
          "PRT",
          "ESP",
          "IRL",
          "NCL",
          "SLB",
          "NZL",
          "AUS",
          "LKA",
          "CHN",
          "TWN",
          "ITA",
          "DNK",
          "GBR",
          "ISL",
          "AZE",
          "GEO",
          "PHL",
          "MYS",
          "BRN",
          "SVN",
          "FIN",
          "SVK",
          "CZE",
          "ERI",
          "JPN",
          "PRY",
          "YEM",
          "SAU",
          "ATA",
          "-99",
          "CYP",
          "MAR",
          "EGY",
          "LBY",
          "ETH",
          "DJI",
          "-99",
          "UGA",
          "RWA",
          "BIH",
          "MKD",
          "SRB",
          "MNE",
          "-99",
          "TTO",
          "SSD"
         ],
         "name": "",
         "type": "choropleth",
         "z": {
          "bdata": "PQrXo3D9VEAAAAAAAAD4fwAAAAAAAPh/4XoUrkfhWEDsUbgehVtYQClcj8L1OFZAcT0K16NAVkCPwvUoXJ9TQI/C9Shcn1NAuB6F61GoVUApXI/C9fhVQAAAAAAAAPh/exSuR+HqUEDNzMzMzMxSQEjhehSut1NASOF6FK63U0BmZmZmZoZUQDMzMzMzg1RAAAAAAAAA+H+PwvUoXL9VQAAAAAAAAPh/AAAAAAAA+H8AAAAAAAD4fwAAAAAAAPh/AAAAAAAA+H9I4XoUrjdRQEjhehSuN1FAH4XrUbjuVUD2KFyPwuVVQLgehetR2FRAAAAAAAAA+H9cj8L1KFxUQLgehetRyFRAAAAAAADAU0D2KFyPwhVWQLgehetRWEpAFK5H4XoUT0C4HoXrUWhRQFyPwvUo3EdAZmZmZmZGT0AAAAAAAAD4fx+F61G4zlRAw/UoXI+SVkAAAAAAAAD4f3E9CtejkFNAj8L1KFx/VECF61G4HsVSQJqZmZmZ+VRAcT0K16OAUkDNzMzMzFxRQFyPwvUojFBASOF6FK5XU0DhehSuR+FNQOF6FK5H4U1APQrXo3BtUUAUrkfherRRQHE9Ctej8FBAcT0K16PwUEAK16NwPepNQBSuR+F6FE1AAAAAAAAA+H89CtejcL1KQAAAAAAAAPh/KVyPwvWIRkApXI/C9YhGQDMzMzMzc1JAZmZmZmZGT0B7FK5H4TpQQFyPwvUofE9AAAAAAAAA+H/sUbgehRtRQM3MzMzMbFFAAAAAAAAgUkBI4XoUrjdRQGZmZmZmxlJA9ihcj8IFUkDsUbgehRtXQM3MzMzMbFRAw/UoXI8yU0AAAAAAAAD4f9ejcD0KV0pArkfhehTOU0AAAAAAAABTQM3MzMzMLFRAMzMzMzODVEBSuB6F6zFUQClcj8L1qFNAUrgehetRVkDNzMzMzKxTQHsUrkfheldAAAAAAADwWEBI4XoUrjdWQAAAAAAAAPh/7FG4HoXLVkAAAAAAAAD4fwAAAAAAAPh/AAAAAAAA+H9SuB6F68FWQI/C9ShcD1NAhetRuB6VUkBcj8L1KPxVQB+F61G4fkVAAAAAAAAAVEBI4XoUrodUQD0K16Nw7VVA9ihcj8LFU0DXo3A9CndVQAAAAAAAAPh/AAAAAAAA+H8UrkfhejRWQAAAAAAAQFhAZmZmZmZmWUAUrkfheoRWQGZmZmZmFlhAuB6F61GYWECPwvUoXM9YQAAAAAAAAPh/uB6F61G4VUApXI/C9fhXQMP1KFyPsldArkfhehQuWUCPwvUoXC9ZQI/C9Shcv1ZA4XoUrkexVkAzMzMzM7NVQAAAAAAAcFRAAAAAAADwV0CPwvUoXM9YQEjhehSu91hAj8L1KFxfWECPwvUoXC9ZQOF6FK5HMVdAmpmZmZl5V0C4HoXrUchXQHsUrkfheldAPQrXo3D9VEAUrkfheqRYQI/C9Shcz1hASOF6FK6nVUBmZmZmZgZaQAAAAAAAAPh/H4XrUbiOV0CF61G4HnVYQEjhehSux1hAcT0K16OQWECkcD0K1zNVQAAAAAAAIFVAKVyPwvVoVECF61G4HuVVQAAAAAAAAPh/ZmZmZmamWEDNzMzMzExZQBSuR+F6FFhAAAAAAAAA+H/hehSuRzFRQB+F61G4nlpAw/UoXI8CVUCuR+F6FG5PQNejcD0KF1NAAAAAAAAA+H8AAAAAAAD4fylcj8L1WFdAUrgehevBUEAUrkfhehRTQHsUrkfhOlRAexSuR+EaUUAK16NwPRpRQAAAAAAAAPh/exSuR+EaU0DNzMzMzHxRQMP1KFyPIlZACtejcD16VEBmZmZmZmZWQFK4HoXrcVVAAAAAAAAA+H+4HoXrUWhVQK5H4XoUTk1A",
          "dtype": "f8"
         }
        }
       ],
       "layout": {
        "coloraxis": {
         "colorbar": {
          "title": {
           "text": "Average IQ"
          }
         },
         "colorscale": [
          [
           0,
           "rgb(255,255,204)"
          ],
          [
           0.125,
           "rgb(255,237,160)"
          ],
          [
           0.25,
           "rgb(254,217,118)"
          ],
          [
           0.375,
           "rgb(254,178,76)"
          ],
          [
           0.5,
           "rgb(253,141,60)"
          ],
          [
           0.625,
           "rgb(252,78,42)"
          ],
          [
           0.75,
           "rgb(227,26,28)"
          ],
          [
           0.875,
           "rgb(189,0,38)"
          ],
          [
           1,
           "rgb(128,0,38)"
          ]
         ]
        },
        "geo": {
         "center": {},
         "domain": {
          "x": [
           0,
           1
          ],
          "y": [
           0,
           1
          ]
         },
         "projection": {
          "type": "winkel3"
         }
        },
        "legend": {
         "tracegroupgap": 0
        },
        "template": {
         "data": {
          "bar": [
           {
            "error_x": {
             "color": "#2a3f5f"
            },
            "error_y": {
             "color": "#2a3f5f"
            },
            "marker": {
             "line": {
              "color": "#E5ECF6",
              "width": 0.5
             },
             "pattern": {
              "fillmode": "overlay",
              "size": 10,
              "solidity": 0.2
             }
            },
            "type": "bar"
           }
          ],
          "barpolar": [
           {
            "marker": {
             "line": {
              "color": "#E5ECF6",
              "width": 0.5
             },
             "pattern": {
              "fillmode": "overlay",
              "size": 10,
              "solidity": 0.2
             }
            },
            "type": "barpolar"
           }
          ],
          "carpet": [
           {
            "aaxis": {
             "endlinecolor": "#2a3f5f",
             "gridcolor": "white",
             "linecolor": "white",
             "minorgridcolor": "white",
             "startlinecolor": "#2a3f5f"
            },
            "baxis": {
             "endlinecolor": "#2a3f5f",
             "gridcolor": "white",
             "linecolor": "white",
             "minorgridcolor": "white",
             "startlinecolor": "#2a3f5f"
            },
            "type": "carpet"
           }
          ],
          "choropleth": [
           {
            "colorbar": {
             "outlinewidth": 0,
             "ticks": ""
            },
            "type": "choropleth"
           }
          ],
          "contour": [
           {
            "colorbar": {
             "outlinewidth": 0,
             "ticks": ""
            },
            "colorscale": [
             [
              0,
              "#0d0887"
             ],
             [
              0.1111111111111111,
              "#46039f"
             ],
             [
              0.2222222222222222,
              "#7201a8"
             ],
             [
              0.3333333333333333,
              "#9c179e"
             ],
             [
              0.4444444444444444,
              "#bd3786"
             ],
             [
              0.5555555555555556,
              "#d8576b"
             ],
             [
              0.6666666666666666,
              "#ed7953"
             ],
             [
              0.7777777777777778,
              "#fb9f3a"
             ],
             [
              0.8888888888888888,
              "#fdca26"
             ],
             [
              1,
              "#f0f921"
             ]
            ],
            "type": "contour"
           }
          ],
          "contourcarpet": [
           {
            "colorbar": {
             "outlinewidth": 0,
             "ticks": ""
            },
            "type": "contourcarpet"
           }
          ],
          "heatmap": [
           {
            "colorbar": {
             "outlinewidth": 0,
             "ticks": ""
            },
            "colorscale": [
             [
              0,
              "#0d0887"
             ],
             [
              0.1111111111111111,
              "#46039f"
             ],
             [
              0.2222222222222222,
              "#7201a8"
             ],
             [
              0.3333333333333333,
              "#9c179e"
             ],
             [
              0.4444444444444444,
              "#bd3786"
             ],
             [
              0.5555555555555556,
              "#d8576b"
             ],
             [
              0.6666666666666666,
              "#ed7953"
             ],
             [
              0.7777777777777778,
              "#fb9f3a"
             ],
             [
              0.8888888888888888,
              "#fdca26"
             ],
             [
              1,
              "#f0f921"
             ]
            ],
            "type": "heatmap"
           }
          ],
          "histogram": [
           {
            "marker": {
             "pattern": {
              "fillmode": "overlay",
              "size": 10,
              "solidity": 0.2
             }
            },
            "type": "histogram"
           }
          ],
          "histogram2d": [
           {
            "colorbar": {
             "outlinewidth": 0,
             "ticks": ""
            },
            "colorscale": [
             [
              0,
              "#0d0887"
             ],
             [
              0.1111111111111111,
              "#46039f"
             ],
             [
              0.2222222222222222,
              "#7201a8"
             ],
             [
              0.3333333333333333,
              "#9c179e"
             ],
             [
              0.4444444444444444,
              "#bd3786"
             ],
             [
              0.5555555555555556,
              "#d8576b"
             ],
             [
              0.6666666666666666,
              "#ed7953"
             ],
             [
              0.7777777777777778,
              "#fb9f3a"
             ],
             [
              0.8888888888888888,
              "#fdca26"
             ],
             [
              1,
              "#f0f921"
             ]
            ],
            "type": "histogram2d"
           }
          ],
          "histogram2dcontour": [
           {
            "colorbar": {
             "outlinewidth": 0,
             "ticks": ""
            },
            "colorscale": [
             [
              0,
              "#0d0887"
             ],
             [
              0.1111111111111111,
              "#46039f"
             ],
             [
              0.2222222222222222,
              "#7201a8"
             ],
             [
              0.3333333333333333,
              "#9c179e"
             ],
             [
              0.4444444444444444,
              "#bd3786"
             ],
             [
              0.5555555555555556,
              "#d8576b"
             ],
             [
              0.6666666666666666,
              "#ed7953"
             ],
             [
              0.7777777777777778,
              "#fb9f3a"
             ],
             [
              0.8888888888888888,
              "#fdca26"
             ],
             [
              1,
              "#f0f921"
             ]
            ],
            "type": "histogram2dcontour"
           }
          ],
          "mesh3d": [
           {
            "colorbar": {
             "outlinewidth": 0,
             "ticks": ""
            },
            "type": "mesh3d"
           }
          ],
          "parcoords": [
           {
            "line": {
             "colorbar": {
              "outlinewidth": 0,
              "ticks": ""
             }
            },
            "type": "parcoords"
           }
          ],
          "pie": [
           {
            "automargin": true,
            "type": "pie"
           }
          ],
          "scatter": [
           {
            "fillpattern": {
             "fillmode": "overlay",
             "size": 10,
             "solidity": 0.2
            },
            "type": "scatter"
           }
          ],
          "scatter3d": [
           {
            "line": {
             "colorbar": {
              "outlinewidth": 0,
              "ticks": ""
             }
            },
            "marker": {
             "colorbar": {
              "outlinewidth": 0,
              "ticks": ""
             }
            },
            "type": "scatter3d"
           }
          ],
          "scattercarpet": [
           {
            "marker": {
             "colorbar": {
              "outlinewidth": 0,
              "ticks": ""
             }
            },
            "type": "scattercarpet"
           }
          ],
          "scattergeo": [
           {
            "marker": {
             "colorbar": {
              "outlinewidth": 0,
              "ticks": ""
             }
            },
            "type": "scattergeo"
           }
          ],
          "scattergl": [
           {
            "marker": {
             "colorbar": {
              "outlinewidth": 0,
              "ticks": ""
             }
            },
            "type": "scattergl"
           }
          ],
          "scattermap": [
           {
            "marker": {
             "colorbar": {
              "outlinewidth": 0,
              "ticks": ""
             }
            },
            "type": "scattermap"
           }
          ],
          "scattermapbox": [
           {
            "marker": {
             "colorbar": {
              "outlinewidth": 0,
              "ticks": ""
             }
            },
            "type": "scattermapbox"
           }
          ],
          "scatterpolar": [
           {
            "marker": {
             "colorbar": {
              "outlinewidth": 0,
              "ticks": ""
             }
            },
            "type": "scatterpolar"
           }
          ],
          "scatterpolargl": [
           {
            "marker": {
             "colorbar": {
              "outlinewidth": 0,
              "ticks": ""
             }
            },
            "type": "scatterpolargl"
           }
          ],
          "scatterternary": [
           {
            "marker": {
             "colorbar": {
              "outlinewidth": 0,
              "ticks": ""
             }
            },
            "type": "scatterternary"
           }
          ],
          "surface": [
           {
            "colorbar": {
             "outlinewidth": 0,
             "ticks": ""
            },
            "colorscale": [
             [
              0,
              "#0d0887"
             ],
             [
              0.1111111111111111,
              "#46039f"
             ],
             [
              0.2222222222222222,
              "#7201a8"
             ],
             [
              0.3333333333333333,
              "#9c179e"
             ],
             [
              0.4444444444444444,
              "#bd3786"
             ],
             [
              0.5555555555555556,
              "#d8576b"
             ],
             [
              0.6666666666666666,
              "#ed7953"
             ],
             [
              0.7777777777777778,
              "#fb9f3a"
             ],
             [
              0.8888888888888888,
              "#fdca26"
             ],
             [
              1,
              "#f0f921"
             ]
            ],
            "type": "surface"
           }
          ],
          "table": [
           {
            "cells": {
             "fill": {
              "color": "#EBF0F8"
             },
             "line": {
              "color": "white"
             }
            },
            "header": {
             "fill": {
              "color": "#C8D4E3"
             },
             "line": {
              "color": "white"
             }
            },
            "type": "table"
           }
          ]
         },
         "layout": {
          "annotationdefaults": {
           "arrowcolor": "#2a3f5f",
           "arrowhead": 0,
           "arrowwidth": 1
          },
          "autotypenumbers": "strict",
          "coloraxis": {
           "colorbar": {
            "outlinewidth": 0,
            "ticks": ""
           }
          },
          "colorscale": {
           "diverging": [
            [
             0,
             "#8e0152"
            ],
            [
             0.1,
             "#c51b7d"
            ],
            [
             0.2,
             "#de77ae"
            ],
            [
             0.3,
             "#f1b6da"
            ],
            [
             0.4,
             "#fde0ef"
            ],
            [
             0.5,
             "#f7f7f7"
            ],
            [
             0.6,
             "#e6f5d0"
            ],
            [
             0.7,
             "#b8e186"
            ],
            [
             0.8,
             "#7fbc41"
            ],
            [
             0.9,
             "#4d9221"
            ],
            [
             1,
             "#276419"
            ]
           ],
           "sequential": [
            [
             0,
             "#0d0887"
            ],
            [
             0.1111111111111111,
             "#46039f"
            ],
            [
             0.2222222222222222,
             "#7201a8"
            ],
            [
             0.3333333333333333,
             "#9c179e"
            ],
            [
             0.4444444444444444,
             "#bd3786"
            ],
            [
             0.5555555555555556,
             "#d8576b"
            ],
            [
             0.6666666666666666,
             "#ed7953"
            ],
            [
             0.7777777777777778,
             "#fb9f3a"
            ],
            [
             0.8888888888888888,
             "#fdca26"
            ],
            [
             1,
             "#f0f921"
            ]
           ],
           "sequentialminus": [
            [
             0,
             "#0d0887"
            ],
            [
             0.1111111111111111,
             "#46039f"
            ],
            [
             0.2222222222222222,
             "#7201a8"
            ],
            [
             0.3333333333333333,
             "#9c179e"
            ],
            [
             0.4444444444444444,
             "#bd3786"
            ],
            [
             0.5555555555555556,
             "#d8576b"
            ],
            [
             0.6666666666666666,
             "#ed7953"
            ],
            [
             0.7777777777777778,
             "#fb9f3a"
            ],
            [
             0.8888888888888888,
             "#fdca26"
            ],
            [
             1,
             "#f0f921"
            ]
           ]
          },
          "colorway": [
           "#636efa",
           "#EF553B",
           "#00cc96",
           "#ab63fa",
           "#FFA15A",
           "#19d3f3",
           "#FF6692",
           "#B6E880",
           "#FF97FF",
           "#FECB52"
          ],
          "font": {
           "color": "#2a3f5f"
          },
          "geo": {
           "bgcolor": "white",
           "lakecolor": "white",
           "landcolor": "#E5ECF6",
           "showlakes": true,
           "showland": true,
           "subunitcolor": "white"
          },
          "hoverlabel": {
           "align": "left"
          },
          "hovermode": "closest",
          "mapbox": {
           "style": "light"
          },
          "paper_bgcolor": "white",
          "plot_bgcolor": "#E5ECF6",
          "polar": {
           "angularaxis": {
            "gridcolor": "white",
            "linecolor": "white",
            "ticks": ""
           },
           "bgcolor": "#E5ECF6",
           "radialaxis": {
            "gridcolor": "white",
            "linecolor": "white",
            "ticks": ""
           }
          },
          "scene": {
           "xaxis": {
            "backgroundcolor": "#E5ECF6",
            "gridcolor": "white",
            "gridwidth": 2,
            "linecolor": "white",
            "showbackground": true,
            "ticks": "",
            "zerolinecolor": "white"
           },
           "yaxis": {
            "backgroundcolor": "#E5ECF6",
            "gridcolor": "white",
            "gridwidth": 2,
            "linecolor": "white",
            "showbackground": true,
            "ticks": "",
            "zerolinecolor": "white"
           },
           "zaxis": {
            "backgroundcolor": "#E5ECF6",
            "gridcolor": "white",
            "gridwidth": 2,
            "linecolor": "white",
            "showbackground": true,
            "ticks": "",
            "zerolinecolor": "white"
           }
          },
          "shapedefaults": {
           "line": {
            "color": "#2a3f5f"
           }
          },
          "ternary": {
           "aaxis": {
            "gridcolor": "white",
            "linecolor": "white",
            "ticks": ""
           },
           "baxis": {
            "gridcolor": "white",
            "linecolor": "white",
            "ticks": ""
           },
           "bgcolor": "#E5ECF6",
           "caxis": {
            "gridcolor": "white",
            "linecolor": "white",
            "ticks": ""
           }
          },
          "title": {
           "x": 0.05
          },
          "xaxis": {
           "automargin": true,
           "gridcolor": "white",
           "linecolor": "white",
           "ticks": "",
           "title": {
            "standoff": 15
           },
           "zerolinecolor": "white",
           "zerolinewidth": 2
          },
          "yaxis": {
           "automargin": true,
           "gridcolor": "white",
           "linecolor": "white",
           "ticks": "",
           "title": {
            "standoff": 15
           },
           "zerolinecolor": "white",
           "zerolinewidth": 2
          }
         }
        },
        "title": {
         "text": "Average IQ by Country"
        }
       }
      },
      "text/html": [
       "<div>            <script src=\"https://cdnjs.cloudflare.com/ajax/libs/mathjax/2.7.5/MathJax.js?config=TeX-AMS-MML_SVG\"></script><script type=\"text/javascript\">if (window.MathJax && window.MathJax.Hub && window.MathJax.Hub.Config) {window.MathJax.Hub.Config({SVG: {font: \"STIX-Web\"}});}</script>                <script type=\"text/javascript\">window.PlotlyConfig = {MathJaxConfig: 'local'};</script>\n",
       "        <script charset=\"utf-8\" src=\"https://cdn.plot.ly/plotly-3.0.0.min.js\"></script>                <div id=\"68020f31-ead3-4dfd-97c9-72b180093e7f\" class=\"plotly-graph-div\" style=\"height:525px; width:100%;\"></div>            <script type=\"text/javascript\">                window.PLOTLYENV=window.PLOTLYENV || {};                                if (document.getElementById(\"68020f31-ead3-4dfd-97c9-72b180093e7f\")) {                    Plotly.newPlot(                        \"68020f31-ead3-4dfd-97c9-72b180093e7f\",                        [{\"coloraxis\":\"coloraxis\",\"geo\":\"geo\",\"hovertemplate\":\"\\u003cb\\u003e%{hovertext}\\u003c\\u002fb\\u003e\\u003cbr\\u003e\\u003cbr\\u003eISO_A3=%{location}\\u003cbr\\u003eAverage IQ=%{z}\\u003cextra\\u003e\\u003c\\u002fextra\\u003e\",\"hovertext\":[\"Fiji\",null,null,\"Canada\",\"United States\",\"Kazakhstan\",\"Uzbekistan\",\"Papua New Guinea\",\"Indonesia\",\"Argentina\",\"Chile\",null,\"Somalia\",\"Kenya\",\"Sudan\",\"Chad\",\"Haiti\",\"Dominican Republic\",null,\"Bahamas\",null,null,null,null,null,\"South Africa\",\"Lesotho\",\"Mexico\",\"Uruguay\",\"Brazil\",null,\"Peru\",\"Colombia\",\"Panama\",\"Costa Rica\",\"Nicaragua\",\"Honduras\",\"El Salvador\",\"Guatemala\",\"Belize\",null,\"Guyana\",\"Suriname\",null,\"Ecuador\",\"Puerto Rico\",\"Jamaica\",\"Cuba\",\"Zimbabwe\",\"Botswana\",\"Namibia\",\"Senegal\",\"Mali\",\"Mauritania\",\"Benin\",\"Niger\",\"Nigeria\",\"Cameroon\",\"Togo\",\"Ghana\",null,\"Guinea\",null,\"Liberia\",\"Sierra Leone\",\"Burkina Faso\",\"Central African Republic\",\"Congo\",\"Gabon\",null,\"Zambia\",\"Malawi\",\"Mozambique\",\"Eswatini\",\"Angola\",\"Burundi\",\"Israel\",\"Lebanon\",\"Madagascar\",null,\"Gambia\",\"Tunisia\",\"Algeria\",\"Jordan\",\"United Arab Emirates\",\"Qatar\",\"Kuwait\",\"Iraq\",\"Oman\",\"Vanuatu\",\"Cambodia\",\"Thailand\",null,\"Myanmar\",null,null,null,\"Mongolia\",\"India\",\"Bangladesh\",\"Bhutan\",\"Nepal\",\"Pakistan\",\"Afghanistan\",\"Tajikistan\",\"Kyrgyzstan\",\"Turkmenistan\",null,null,\"Armenia\",\"Sweden\",\"Belarus\",\"Ukraine\",\"Poland\",\"Austria\",\"Hungary\",null,\"Romania\",\"Lithuania\",\"Latvia\",\"Estonia\",\"Germany\",\"Bulgaria\",\"Greece\",\"T\\u00fcrkiye\",\"Albania\",\"Croatia\",\"Switzerland\",\"Luxembourg\",\"Belgium\",\"Netherlands\",\"Portugal\",\"Spain\",\"Ireland\",\"New Caledonia\",\"Solomon Islands\",\"New Zealand\",\"Australia\",\"Sri Lanka\",\"China\",null,\"Italy\",\"Denmark\",\"United Kingdom\",\"Iceland\",\"Azerbaijan\",\"Georgia\",\"Philippines\",\"Malaysia\",null,\"Slovenia\",\"Finland\",\"Slovakia\",null,\"Eritrea\",\"Japan\",\"Paraguay\",\"Yemen\",\"Saudi Arabia\",null,null,\"Cyprus\",\"Morocco\",\"Egypt\",\"Libya\",\"Ethiopia\",\"Djibouti\",null,\"Uganda\",\"Rwanda\",\"Bosnia and Herzegovina\",\"North Macedonia\",\"Serbia\",\"Montenegro\",null,\"Trinidad and Tobago\",\"South Sudan\"],\"locations\":[\"FJI\",\"TZA\",\"ESH\",\"CAN\",\"USA\",\"KAZ\",\"UZB\",\"PNG\",\"IDN\",\"ARG\",\"CHL\",\"COD\",\"SOM\",\"KEN\",\"SDN\",\"TCD\",\"HTI\",\"DOM\",\"RUS\",\"BHS\",\"FLK\",\"-99\",\"GRL\",\"ATF\",\"TLS\",\"ZAF\",\"LSO\",\"MEX\",\"URY\",\"BRA\",\"BOL\",\"PER\",\"COL\",\"PAN\",\"CRI\",\"NIC\",\"HND\",\"SLV\",\"GTM\",\"BLZ\",\"VEN\",\"GUY\",\"SUR\",\"-99\",\"ECU\",\"PRI\",\"JAM\",\"CUB\",\"ZWE\",\"BWA\",\"NAM\",\"SEN\",\"MLI\",\"MRT\",\"BEN\",\"NER\",\"NGA\",\"CMR\",\"TGO\",\"GHA\",\"CIV\",\"GIN\",\"GNB\",\"LBR\",\"SLE\",\"BFA\",\"CAF\",\"COG\",\"GAB\",\"GNQ\",\"ZMB\",\"MWI\",\"MOZ\",\"SWZ\",\"AGO\",\"BDI\",\"ISR\",\"LBN\",\"MDG\",\"PSE\",\"GMB\",\"TUN\",\"DZA\",\"JOR\",\"ARE\",\"QAT\",\"KWT\",\"IRQ\",\"OMN\",\"VUT\",\"KHM\",\"THA\",\"LAO\",\"MMR\",\"VNM\",\"PRK\",\"KOR\",\"MNG\",\"IND\",\"BGD\",\"BTN\",\"NPL\",\"PAK\",\"AFG\",\"TJK\",\"KGZ\",\"TKM\",\"IRN\",\"SYR\",\"ARM\",\"SWE\",\"BLR\",\"UKR\",\"POL\",\"AUT\",\"HUN\",\"MDA\",\"ROU\",\"LTU\",\"LVA\",\"EST\",\"DEU\",\"BGR\",\"GRC\",\"TUR\",\"ALB\",\"HRV\",\"CHE\",\"LUX\",\"BEL\",\"NLD\",\"PRT\",\"ESP\",\"IRL\",\"NCL\",\"SLB\",\"NZL\",\"AUS\",\"LKA\",\"CHN\",\"TWN\",\"ITA\",\"DNK\",\"GBR\",\"ISL\",\"AZE\",\"GEO\",\"PHL\",\"MYS\",\"BRN\",\"SVN\",\"FIN\",\"SVK\",\"CZE\",\"ERI\",\"JPN\",\"PRY\",\"YEM\",\"SAU\",\"ATA\",\"-99\",\"CYP\",\"MAR\",\"EGY\",\"LBY\",\"ETH\",\"DJI\",\"-99\",\"UGA\",\"RWA\",\"BIH\",\"MKD\",\"SRB\",\"MNE\",\"-99\",\"TTO\",\"SSD\"],\"name\":\"\",\"z\":{\"dtype\":\"f8\",\"bdata\":\"PQrXo3D9VEAAAAAAAAD4fwAAAAAAAPh\\u002f4XoUrkfhWEDsUbgehVtYQClcj8L1OFZAcT0K16NAVkCPwvUoXJ9TQI\\u002fC9Shcn1NAuB6F61GoVUApXI\\u002fC9fhVQAAAAAAAAPh\\u002fexSuR+HqUEDNzMzMzMxSQEjhehSut1NASOF6FK63U0BmZmZmZoZUQDMzMzMzg1RAAAAAAAAA+H+PwvUoXL9VQAAAAAAAAPh\\u002fAAAAAAAA+H8AAAAAAAD4fwAAAAAAAPh\\u002fAAAAAAAA+H9I4XoUrjdRQEjhehSuN1FAH4XrUbjuVUD2KFyPwuVVQLgehetR2FRAAAAAAAAA+H9cj8L1KFxUQLgehetRyFRAAAAAAADAU0D2KFyPwhVWQLgehetRWEpAFK5H4XoUT0C4HoXrUWhRQFyPwvUo3EdAZmZmZmZGT0AAAAAAAAD4fx+F61G4zlRAw\\u002fUoXI+SVkAAAAAAAAD4f3E9CtejkFNAj8L1KFx\\u002fVECF61G4HsVSQJqZmZmZ+VRAcT0K16OAUkDNzMzMzFxRQFyPwvUojFBASOF6FK5XU0DhehSuR+FNQOF6FK5H4U1APQrXo3BtUUAUrkfherRRQHE9Ctej8FBAcT0K16PwUEAK16NwPepNQBSuR+F6FE1AAAAAAAAA+H89CtejcL1KQAAAAAAAAPh\\u002fKVyPwvWIRkApXI\\u002fC9YhGQDMzMzMzc1JAZmZmZmZGT0B7FK5H4TpQQFyPwvUofE9AAAAAAAAA+H\\u002fsUbgehRtRQM3MzMzMbFFAAAAAAAAgUkBI4XoUrjdRQGZmZmZmxlJA9ihcj8IFUkDsUbgehRtXQM3MzMzMbFRAw\\u002fUoXI8yU0AAAAAAAAD4f9ejcD0KV0pArkfhehTOU0AAAAAAAABTQM3MzMzMLFRAMzMzMzODVEBSuB6F6zFUQClcj8L1qFNAUrgehetRVkDNzMzMzKxTQHsUrkfheldAAAAAAADwWEBI4XoUrjdWQAAAAAAAAPh\\u002f7FG4HoXLVkAAAAAAAAD4fwAAAAAAAPh\\u002fAAAAAAAA+H9SuB6F68FWQI\\u002fC9ShcD1NAhetRuB6VUkBcj8L1KPxVQB+F61G4fkVAAAAAAAAAVEBI4XoUrodUQD0K16Nw7VVA9ihcj8LFU0DXo3A9CndVQAAAAAAAAPh\\u002fAAAAAAAA+H8UrkfhejRWQAAAAAAAQFhAZmZmZmZmWUAUrkfheoRWQGZmZmZmFlhAuB6F61GYWECPwvUoXM9YQAAAAAAAAPh\\u002fuB6F61G4VUApXI\\u002fC9fhXQMP1KFyPsldArkfhehQuWUCPwvUoXC9ZQI\\u002fC9Shcv1ZA4XoUrkexVkAzMzMzM7NVQAAAAAAAcFRAAAAAAADwV0CPwvUoXM9YQEjhehSu91hAj8L1KFxfWECPwvUoXC9ZQOF6FK5HMVdAmpmZmZl5V0C4HoXrUchXQHsUrkfheldAPQrXo3D9VEAUrkfheqRYQI\\u002fC9Shcz1hASOF6FK6nVUBmZmZmZgZaQAAAAAAAAPh\\u002fH4XrUbiOV0CF61G4HnVYQEjhehSux1hAcT0K16OQWECkcD0K1zNVQAAAAAAAIFVAKVyPwvVoVECF61G4HuVVQAAAAAAAAPh\\u002fZmZmZmamWEDNzMzMzExZQBSuR+F6FFhAAAAAAAAA+H\\u002fhehSuRzFRQB+F61G4nlpAw\\u002fUoXI8CVUCuR+F6FG5PQNejcD0KF1NAAAAAAAAA+H8AAAAAAAD4fylcj8L1WFdAUrgehevBUEAUrkfhehRTQHsUrkfhOlRAexSuR+EaUUAK16NwPRpRQAAAAAAAAPh\\u002fexSuR+EaU0DNzMzMzHxRQMP1KFyPIlZACtejcD16VEBmZmZmZmZWQFK4HoXrcVVAAAAAAAAA+H+4HoXrUWhVQK5H4XoUTk1A\"},\"type\":\"choropleth\"}],                        {\"template\":{\"data\":{\"histogram2dcontour\":[{\"type\":\"histogram2dcontour\",\"colorbar\":{\"outlinewidth\":0,\"ticks\":\"\"},\"colorscale\":[[0.0,\"#0d0887\"],[0.1111111111111111,\"#46039f\"],[0.2222222222222222,\"#7201a8\"],[0.3333333333333333,\"#9c179e\"],[0.4444444444444444,\"#bd3786\"],[0.5555555555555556,\"#d8576b\"],[0.6666666666666666,\"#ed7953\"],[0.7777777777777778,\"#fb9f3a\"],[0.8888888888888888,\"#fdca26\"],[1.0,\"#f0f921\"]]}],\"choropleth\":[{\"type\":\"choropleth\",\"colorbar\":{\"outlinewidth\":0,\"ticks\":\"\"}}],\"histogram2d\":[{\"type\":\"histogram2d\",\"colorbar\":{\"outlinewidth\":0,\"ticks\":\"\"},\"colorscale\":[[0.0,\"#0d0887\"],[0.1111111111111111,\"#46039f\"],[0.2222222222222222,\"#7201a8\"],[0.3333333333333333,\"#9c179e\"],[0.4444444444444444,\"#bd3786\"],[0.5555555555555556,\"#d8576b\"],[0.6666666666666666,\"#ed7953\"],[0.7777777777777778,\"#fb9f3a\"],[0.8888888888888888,\"#fdca26\"],[1.0,\"#f0f921\"]]}],\"heatmap\":[{\"type\":\"heatmap\",\"colorbar\":{\"outlinewidth\":0,\"ticks\":\"\"},\"colorscale\":[[0.0,\"#0d0887\"],[0.1111111111111111,\"#46039f\"],[0.2222222222222222,\"#7201a8\"],[0.3333333333333333,\"#9c179e\"],[0.4444444444444444,\"#bd3786\"],[0.5555555555555556,\"#d8576b\"],[0.6666666666666666,\"#ed7953\"],[0.7777777777777778,\"#fb9f3a\"],[0.8888888888888888,\"#fdca26\"],[1.0,\"#f0f921\"]]}],\"contourcarpet\":[{\"type\":\"contourcarpet\",\"colorbar\":{\"outlinewidth\":0,\"ticks\":\"\"}}],\"contour\":[{\"type\":\"contour\",\"colorbar\":{\"outlinewidth\":0,\"ticks\":\"\"},\"colorscale\":[[0.0,\"#0d0887\"],[0.1111111111111111,\"#46039f\"],[0.2222222222222222,\"#7201a8\"],[0.3333333333333333,\"#9c179e\"],[0.4444444444444444,\"#bd3786\"],[0.5555555555555556,\"#d8576b\"],[0.6666666666666666,\"#ed7953\"],[0.7777777777777778,\"#fb9f3a\"],[0.8888888888888888,\"#fdca26\"],[1.0,\"#f0f921\"]]}],\"surface\":[{\"type\":\"surface\",\"colorbar\":{\"outlinewidth\":0,\"ticks\":\"\"},\"colorscale\":[[0.0,\"#0d0887\"],[0.1111111111111111,\"#46039f\"],[0.2222222222222222,\"#7201a8\"],[0.3333333333333333,\"#9c179e\"],[0.4444444444444444,\"#bd3786\"],[0.5555555555555556,\"#d8576b\"],[0.6666666666666666,\"#ed7953\"],[0.7777777777777778,\"#fb9f3a\"],[0.8888888888888888,\"#fdca26\"],[1.0,\"#f0f921\"]]}],\"mesh3d\":[{\"type\":\"mesh3d\",\"colorbar\":{\"outlinewidth\":0,\"ticks\":\"\"}}],\"scatter\":[{\"fillpattern\":{\"fillmode\":\"overlay\",\"size\":10,\"solidity\":0.2},\"type\":\"scatter\"}],\"parcoords\":[{\"type\":\"parcoords\",\"line\":{\"colorbar\":{\"outlinewidth\":0,\"ticks\":\"\"}}}],\"scatterpolargl\":[{\"type\":\"scatterpolargl\",\"marker\":{\"colorbar\":{\"outlinewidth\":0,\"ticks\":\"\"}}}],\"bar\":[{\"error_x\":{\"color\":\"#2a3f5f\"},\"error_y\":{\"color\":\"#2a3f5f\"},\"marker\":{\"line\":{\"color\":\"#E5ECF6\",\"width\":0.5},\"pattern\":{\"fillmode\":\"overlay\",\"size\":10,\"solidity\":0.2}},\"type\":\"bar\"}],\"scattergeo\":[{\"type\":\"scattergeo\",\"marker\":{\"colorbar\":{\"outlinewidth\":0,\"ticks\":\"\"}}}],\"scatterpolar\":[{\"type\":\"scatterpolar\",\"marker\":{\"colorbar\":{\"outlinewidth\":0,\"ticks\":\"\"}}}],\"histogram\":[{\"marker\":{\"pattern\":{\"fillmode\":\"overlay\",\"size\":10,\"solidity\":0.2}},\"type\":\"histogram\"}],\"scattergl\":[{\"type\":\"scattergl\",\"marker\":{\"colorbar\":{\"outlinewidth\":0,\"ticks\":\"\"}}}],\"scatter3d\":[{\"type\":\"scatter3d\",\"line\":{\"colorbar\":{\"outlinewidth\":0,\"ticks\":\"\"}},\"marker\":{\"colorbar\":{\"outlinewidth\":0,\"ticks\":\"\"}}}],\"scattermap\":[{\"type\":\"scattermap\",\"marker\":{\"colorbar\":{\"outlinewidth\":0,\"ticks\":\"\"}}}],\"scattermapbox\":[{\"type\":\"scattermapbox\",\"marker\":{\"colorbar\":{\"outlinewidth\":0,\"ticks\":\"\"}}}],\"scatterternary\":[{\"type\":\"scatterternary\",\"marker\":{\"colorbar\":{\"outlinewidth\":0,\"ticks\":\"\"}}}],\"scattercarpet\":[{\"type\":\"scattercarpet\",\"marker\":{\"colorbar\":{\"outlinewidth\":0,\"ticks\":\"\"}}}],\"carpet\":[{\"aaxis\":{\"endlinecolor\":\"#2a3f5f\",\"gridcolor\":\"white\",\"linecolor\":\"white\",\"minorgridcolor\":\"white\",\"startlinecolor\":\"#2a3f5f\"},\"baxis\":{\"endlinecolor\":\"#2a3f5f\",\"gridcolor\":\"white\",\"linecolor\":\"white\",\"minorgridcolor\":\"white\",\"startlinecolor\":\"#2a3f5f\"},\"type\":\"carpet\"}],\"table\":[{\"cells\":{\"fill\":{\"color\":\"#EBF0F8\"},\"line\":{\"color\":\"white\"}},\"header\":{\"fill\":{\"color\":\"#C8D4E3\"},\"line\":{\"color\":\"white\"}},\"type\":\"table\"}],\"barpolar\":[{\"marker\":{\"line\":{\"color\":\"#E5ECF6\",\"width\":0.5},\"pattern\":{\"fillmode\":\"overlay\",\"size\":10,\"solidity\":0.2}},\"type\":\"barpolar\"}],\"pie\":[{\"automargin\":true,\"type\":\"pie\"}]},\"layout\":{\"autotypenumbers\":\"strict\",\"colorway\":[\"#636efa\",\"#EF553B\",\"#00cc96\",\"#ab63fa\",\"#FFA15A\",\"#19d3f3\",\"#FF6692\",\"#B6E880\",\"#FF97FF\",\"#FECB52\"],\"font\":{\"color\":\"#2a3f5f\"},\"hovermode\":\"closest\",\"hoverlabel\":{\"align\":\"left\"},\"paper_bgcolor\":\"white\",\"plot_bgcolor\":\"#E5ECF6\",\"polar\":{\"bgcolor\":\"#E5ECF6\",\"angularaxis\":{\"gridcolor\":\"white\",\"linecolor\":\"white\",\"ticks\":\"\"},\"radialaxis\":{\"gridcolor\":\"white\",\"linecolor\":\"white\",\"ticks\":\"\"}},\"ternary\":{\"bgcolor\":\"#E5ECF6\",\"aaxis\":{\"gridcolor\":\"white\",\"linecolor\":\"white\",\"ticks\":\"\"},\"baxis\":{\"gridcolor\":\"white\",\"linecolor\":\"white\",\"ticks\":\"\"},\"caxis\":{\"gridcolor\":\"white\",\"linecolor\":\"white\",\"ticks\":\"\"}},\"coloraxis\":{\"colorbar\":{\"outlinewidth\":0,\"ticks\":\"\"}},\"colorscale\":{\"sequential\":[[0.0,\"#0d0887\"],[0.1111111111111111,\"#46039f\"],[0.2222222222222222,\"#7201a8\"],[0.3333333333333333,\"#9c179e\"],[0.4444444444444444,\"#bd3786\"],[0.5555555555555556,\"#d8576b\"],[0.6666666666666666,\"#ed7953\"],[0.7777777777777778,\"#fb9f3a\"],[0.8888888888888888,\"#fdca26\"],[1.0,\"#f0f921\"]],\"sequentialminus\":[[0.0,\"#0d0887\"],[0.1111111111111111,\"#46039f\"],[0.2222222222222222,\"#7201a8\"],[0.3333333333333333,\"#9c179e\"],[0.4444444444444444,\"#bd3786\"],[0.5555555555555556,\"#d8576b\"],[0.6666666666666666,\"#ed7953\"],[0.7777777777777778,\"#fb9f3a\"],[0.8888888888888888,\"#fdca26\"],[1.0,\"#f0f921\"]],\"diverging\":[[0,\"#8e0152\"],[0.1,\"#c51b7d\"],[0.2,\"#de77ae\"],[0.3,\"#f1b6da\"],[0.4,\"#fde0ef\"],[0.5,\"#f7f7f7\"],[0.6,\"#e6f5d0\"],[0.7,\"#b8e186\"],[0.8,\"#7fbc41\"],[0.9,\"#4d9221\"],[1,\"#276419\"]]},\"xaxis\":{\"gridcolor\":\"white\",\"linecolor\":\"white\",\"ticks\":\"\",\"title\":{\"standoff\":15},\"zerolinecolor\":\"white\",\"automargin\":true,\"zerolinewidth\":2},\"yaxis\":{\"gridcolor\":\"white\",\"linecolor\":\"white\",\"ticks\":\"\",\"title\":{\"standoff\":15},\"zerolinecolor\":\"white\",\"automargin\":true,\"zerolinewidth\":2},\"scene\":{\"xaxis\":{\"backgroundcolor\":\"#E5ECF6\",\"gridcolor\":\"white\",\"linecolor\":\"white\",\"showbackground\":true,\"ticks\":\"\",\"zerolinecolor\":\"white\",\"gridwidth\":2},\"yaxis\":{\"backgroundcolor\":\"#E5ECF6\",\"gridcolor\":\"white\",\"linecolor\":\"white\",\"showbackground\":true,\"ticks\":\"\",\"zerolinecolor\":\"white\",\"gridwidth\":2},\"zaxis\":{\"backgroundcolor\":\"#E5ECF6\",\"gridcolor\":\"white\",\"linecolor\":\"white\",\"showbackground\":true,\"ticks\":\"\",\"zerolinecolor\":\"white\",\"gridwidth\":2}},\"shapedefaults\":{\"line\":{\"color\":\"#2a3f5f\"}},\"annotationdefaults\":{\"arrowcolor\":\"#2a3f5f\",\"arrowhead\":0,\"arrowwidth\":1},\"geo\":{\"bgcolor\":\"white\",\"landcolor\":\"#E5ECF6\",\"subunitcolor\":\"white\",\"showland\":true,\"showlakes\":true,\"lakecolor\":\"white\"},\"title\":{\"x\":0.05},\"mapbox\":{\"style\":\"light\"}}},\"geo\":{\"domain\":{\"x\":[0.0,1.0],\"y\":[0.0,1.0]},\"projection\":{\"type\":\"winkel3\"},\"center\":{}},\"coloraxis\":{\"colorbar\":{\"title\":{\"text\":\"Average IQ\"}},\"colorscale\":[[0.0,\"rgb(255,255,204)\"],[0.125,\"rgb(255,237,160)\"],[0.25,\"rgb(254,217,118)\"],[0.375,\"rgb(254,178,76)\"],[0.5,\"rgb(253,141,60)\"],[0.625,\"rgb(252,78,42)\"],[0.75,\"rgb(227,26,28)\"],[0.875,\"rgb(189,0,38)\"],[1.0,\"rgb(128,0,38)\"]]},\"legend\":{\"tracegroupgap\":0},\"title\":{\"text\":\"Average IQ by Country\"}},                        {\"responsive\": true}                    ).then(function(){\n",
       "                            \n",
       "var gd = document.getElementById('68020f31-ead3-4dfd-97c9-72b180093e7f');\n",
       "var x = new MutationObserver(function (mutations, observer) {{\n",
       "        var display = window.getComputedStyle(gd).display;\n",
       "        if (!display || display === 'none') {{\n",
       "            console.log([gd, 'removed!']);\n",
       "            Plotly.purge(gd);\n",
       "            observer.disconnect();\n",
       "        }}\n",
       "}});\n",
       "\n",
       "// Listen for the removal of the full notebook cells\n",
       "var notebookContainer = gd.closest('#notebook-container');\n",
       "if (notebookContainer) {{\n",
       "    x.observe(notebookContainer, {childList: true});\n",
       "}}\n",
       "\n",
       "// Listen for the clearing of the current output cell\n",
       "var outputEl = gd.closest('.output');\n",
       "if (outputEl) {{\n",
       "    x.observe(outputEl, {childList: true});\n",
       "}}\n",
       "\n",
       "                        })                };            </script>        </div>"
      ]
     },
     "metadata": {},
     "output_type": "display_data"
    }
   ],
   "source": [
    "import pandas as pd\n",
    "import pycountry\n",
    "import geopandas as gpd\n",
    "import plotly.express as px\n",
    "import geodatasets\n",
    "\n",
    "# Assuming df1 is your data with 'Country' and 'Rank'\n",
    "rank_location = df1[['Country', 'Rank', 'Average IQ']]\n",
    "\n",
    "# Get the ISO alpha-3 code for each country using pycountry\n",
    "rank_location['ISO_alpha'] = rank_location['Country'].apply(\n",
    "    lambda x: pycountry.countries.get(name=x).alpha_3 if pycountry.countries.get(name=x) else None\n",
    ")\n",
    "\n",
    "# Load the Natural Earth shapefile (update with your file path)\n",
    "url = \"https://naciscdn.org/naturalearth/110m/cultural/ne_110m_admin_0_countries.zip\"\n",
    "\n",
    "world = gpd.read_file(url)\n",
    "\n",
    "# Merge the shapefile data with the rank data\n",
    "world = world.merge(rank_location, how='left', left_on='ISO_A3', right_on='ISO_alpha')\n",
    "\n",
    "# Create a choropleth map using Plotly\n",
    "fig = px.choropleth(\n",
    "    world,\n",
    "    locations='ISO_A3',\n",
    "    color='Rank',\n",
    "    hover_name='Country', \n",
    "    projection=\"winkel3\", \n",
    "    color_continuous_scale='YlOrRd',\n",
    "    labels={'Rank': 'Rank'},\n",
    "    title='Rank by Country'\n",
    ")\n",
    "# Display the map\n",
    "fig.show()\n",
    "\n",
    "fig = px.choropleth(\n",
    "    world,\n",
    "    locations='ISO_A3',\n",
    "    color='Average IQ',\n",
    "    hover_name=\"Country\", \n",
    "    projection=\"winkel3\", \n",
    "    color_continuous_scale='YlOrRd',\n",
    "    labels={'Average IQ': 'Average IQ'},\n",
    "    title='Average IQ by Country'\n",
    ")\n",
    "\n",
    "# Display the map\n",
    "fig.show()\n"
   ]
  },
  {
   "cell_type": "code",
   "execution_count": 58,
   "metadata": {},
   "outputs": [
    {
     "name": "stdout",
     "output_type": "stream",
     "text": [
      "MSE: 47.52\n",
      "R-squared: 0.62\n"
     ]
    }
   ],
   "source": [
    "from sklearn.model_selection import train_test_split\n",
    "from sklearn.linear_model import LinearRegression\n",
    "from sklearn.metrics import mean_squared_error, r2_score\n",
    "\n",
    "# Подготовка данных\n",
    "X = df[['Literacy Rate', 'Mean years of schooling - 2021', 'HDI (2021)']]  # независимые переменные\n",
    "y = df['Average IQ']  # зависимая переменная\n",
    "\n",
    "# Разделение на обучающую и тестовую выборку\n",
    "X_train, X_test, y_train, y_test = train_test_split(X, y, test_size=0.3, random_state=42)\n",
    "\n",
    "# Обучение модели\n",
    "model = LinearRegression()\n",
    "model.fit(X_train, y_train)\n",
    "\n",
    "# Прогноз\n",
    "y_pred = model.predict(X_test)\n",
    "\n",
    "# Оценка модели\n",
    "print(f'MSE: {mean_squared_error(y_test, y_pred):.2f}')\n",
    "print(f'R-squared: {r2_score(y_test, y_pred):.2f}')\n",
    "\n"
   ]
  },
  {
   "cell_type": "code",
   "execution_count": null,
   "metadata": {},
   "outputs": [],
   "source": []
  }
 ],
 "metadata": {
  "kernelspec": {
   "display_name": ".venv",
   "language": "python",
   "name": "python3"
  },
  "language_info": {
   "codemirror_mode": {
    "name": "ipython",
    "version": 3
   },
   "file_extension": ".py",
   "mimetype": "text/x-python",
   "name": "python",
   "nbconvert_exporter": "python",
   "pygments_lexer": "ipython3",
   "version": "3.9.6"
  }
 },
 "nbformat": 4,
 "nbformat_minor": 2
}
